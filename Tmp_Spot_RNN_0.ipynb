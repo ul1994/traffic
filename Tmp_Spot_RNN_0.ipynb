{
 "cells": [
  {
   "cell_type": "code",
   "execution_count": 1,
   "metadata": {},
   "outputs": [],
   "source": [
    "%load_ext autoreload\n",
    "%autoreload 2\n",
    "%matplotlib inline"
   ]
  },
  {
   "cell_type": "code",
   "execution_count": 2,
   "metadata": {},
   "outputs": [],
   "source": [
    "from glob import glob\n",
    "from configs import *\n",
    "from tqdm import tqdm\n",
    "from utils import *\n",
    "import numpy as np\n",
    "import matplotlib.pyplot as plt\n",
    "from dataset import *\n",
    "from time import time\n",
    "tqdm.monitor_interval = 0\n",
    "import torch\n",
    "import json\n",
    "import torch.nn as nn\n",
    "import numpy as np\n",
    "torch.manual_seed(0)\n",
    "np.random.seed(0)"
   ]
  },
  {
   "cell_type": "code",
   "execution_count": 3,
   "metadata": {},
   "outputs": [
    {
     "data": {
      "text/plain": [
       "device(type='cuda', index=1)"
      ]
     },
     "execution_count": 3,
     "metadata": {},
     "output_type": "execute_result"
    }
   ],
   "source": [
    "LAG = 12\n",
    "EPS = 60\n",
    "SIND = 30\n",
    "DEEP = False\n",
    "SROUTE = SAMPLE_ROUTES[0]\n",
    "device = torch.device(\"cuda:1\" if torch.cuda.is_available() else \"cpu\")\n",
    "device"
   ]
  },
  {
   "cell_type": "code",
   "execution_count": 4,
   "metadata": {},
   "outputs": [
    {
     "name": "stdout",
     "output_type": "stream",
     "text": [
      "Locals dataset: train\n",
      " [*] Loaded routes: 1 (0.32s)\n",
      " [*] Has trainable inds: 262262\n",
      " [*] Subset train: 212106\n",
      " [*] Subset in Stop-30: 6079\n",
      "Locals dataset: test\n",
      " [*] Loaded routes: 1 (0.31s)\n",
      " [*] Has trainable inds: 262262\n",
      " [*] Subset test: 50156\n",
      " [*] Subset in Stop-30: 1549\n"
     ]
    }
   ],
   "source": [
    "dset = SingleStop(SROUTE, SIND, 'train', 32, lag=LAG).generator()\n",
    "evalset = SingleStop(SROUTE, SIND, 'test', 32, lag=LAG).generator()"
   ]
  },
  {
   "cell_type": "code",
   "execution_count": 5,
   "metadata": {},
   "outputs": [
    {
     "name": "stdout",
     "output_type": "stream",
     "text": [
      "Locals dataset: train\n",
      " [*] Loaded routes: 1 (0.32s)\n",
      " [*] Has trainable inds: 262262\n",
      " [*] Subset train: 212106\n",
      " [*] Subset in Stop-30: 6079\n",
      "Y-avg: 3.4391126863581287\n"
     ]
    }
   ],
   "source": [
    "yavg = SingleStop(SROUTE, SIND, 'train', 32, lag=LAG).yavg()\n",
    "print('Y-avg:', yavg)"
   ]
  },
  {
   "cell_type": "code",
   "execution_count": 6,
   "metadata": {},
   "outputs": [],
   "source": [
    "from models.temporal.RNN_0 import RNN_0"
   ]
  },
  {
   "cell_type": "code",
   "execution_count": 8,
   "metadata": {},
   "outputs": [],
   "source": [
    "model = RNN_0(hidden_size=256, deep=DEEP, lag=LAG).to(device)\n",
    "model.device = device"
   ]
  },
  {
   "cell_type": "code",
   "execution_count": 9,
   "metadata": {},
   "outputs": [],
   "source": [
    "criterion, opt, sch = model.params(lr=0.001)"
   ]
  },
  {
   "cell_type": "code",
   "execution_count": 12,
   "metadata": {},
   "outputs": [
    {
     "name": "stdout",
     "output_type": "stream",
     "text": [
      "Eval loss: 104.5027   \n",
      "Eval loss: 18.8299   \n"
     ]
    }
   ],
   "source": [
    "evaluate(evalset, model, crit=lambda _y, y: wape(tonpy(_y), tonpy(y), yavg))\n",
    "evaluate(evalset, model, crit=lambda _y, y: criterion(_y, y).item())"
   ]
  },
  {
   "cell_type": "code",
   "execution_count": 13,
   "metadata": {
    "scrolled": true
   },
   "outputs": [
    {
     "name": "stdout",
     "output_type": "stream",
     "text": [
      "[1/60 : 189/189] - L0.22       \n",
      "Eval loss: 1.8842    \n",
      "Eval loss: 13.1090   \n",
      "[2/60 : 189/189] - L0.12       \n",
      "Eval loss: 1.3328    \n",
      "Eval loss: 8.2676    \n",
      "[3/60 : 189/189] - L0.06       \n",
      "Eval loss: 1.0887    \n",
      "Eval loss: 6.6038    \n",
      "[4/60 : 189/189] - L0.02       \n",
      "Eval loss: 0.9430    \n",
      "Eval loss: 4.8053    \n",
      "[5/60 : 189/189] - L0.01       \n",
      "Eval loss: 0.8279    \n",
      "Eval loss: 4.2248    \n",
      "[6/60 : 189/189] - L0.03       \n",
      "Eval loss: 0.7414    \n",
      "Eval loss: 3.9436    \n",
      "[7/60 : 189/189] - L0.02       \n",
      "Eval loss: 0.6740   \n",
      "Eval loss: 3.8064    \n",
      "[8/60 : 189/189] - L0.22       \n",
      "Eval loss: 0.6768    \n",
      "Eval loss: 7.6239    \n",
      "[9/60 : 189/189] - L0.01       \n",
      "Eval loss: 0.5594    \n",
      "Eval loss: 3.0791    \n",
      "[10/60 : 189/189] - L0.03       \n",
      "Eval loss: 0.5168    \n",
      "Eval loss: 3.1182    \n",
      "[11/60 : 189/189] - L0.01       \n",
      "Eval loss: 0.4780    \n",
      "Eval loss: 2.8205    \n",
      "[12/60 : 189/189] - L0.01       \n",
      "Eval loss: 0.4465   \n",
      "Eval loss: 2.6398    \n",
      "[13/60 : 189/189] - L0.01       \n",
      "Eval loss: 0.4134   \n",
      "Eval loss: 2.5411    \n",
      "[14/60 : 189/189] - L0.00      \n",
      "Eval loss: 0.3867    \n",
      "Eval loss: 2.3378    \n",
      "[15/60 : 189/189] - L0.12       \n",
      "Eval loss: 0.3759    \n",
      "Eval loss: 3.6427    \n",
      "[16/60 : 189/189] - L0.00      \n",
      "Eval loss: 0.3407    \n",
      "Eval loss: 2.1649    \n",
      "[17/60 : 189/189] - L0.01       \n",
      "Eval loss: 0.3336   \n",
      "Eval loss: 2.3217    \n",
      "[18/60 : 189/189] - L0.03       \n",
      "Eval loss: 0.3290    \n",
      "Eval loss: 2.2401    \n",
      "[19/60 : 189/189] - L0.00       \n",
      "Eval loss: 0.3254    \n",
      "Eval loss: 2.2062    \n",
      "[20/60 : 189/189] - L0.01       \n",
      "Eval loss: 0.3198    \n",
      "Eval loss: 2.1543    \n",
      "[21/60 : 189/189] - L0.00       \n",
      "Eval loss: 0.3166   \n",
      "Eval loss: 2.1667   \n",
      "[22/60 : 189/189] - L0.00      \n",
      "Eval loss: 0.3113    \n",
      "Eval loss: 2.1071   \n",
      "[23/60 : 189/189] - L0.01       \n",
      "Eval loss: 0.3081    \n",
      "Eval loss: 2.0855    \n",
      "[24/60 : 189/189] - L0.01       \n",
      "Eval loss: 0.3036    \n",
      "Eval loss: 2.0421    \n",
      "[25/60 : 189/189] - L0.00       \n",
      "Eval loss: 0.2999   \n",
      "Eval loss: 2.0269    \n",
      "[26/60 : 189/189] - L0.01       \n",
      "Eval loss: 0.2960    \n",
      "Eval loss: 2.0180    \n",
      "[27/60 : 189/189] - L0.00       \n",
      "Eval loss: 0.2922    \n",
      "Eval loss: 1.9995    \n",
      "[28/60 : 189/189] - L0.01       \n",
      "Eval loss: 0.2910    \n",
      "Eval loss: 2.1118    \n",
      "[29/60 : 189/189] - L0.00      \n",
      "Eval loss: 0.2862    \n",
      "Eval loss: 1.9758    \n",
      "[30/60 : 189/189] - L0.01       \n",
      "Eval loss: 0.2826    \n",
      "Eval loss: 1.9594    \n",
      "[31/60 : 189/189] - L0.01       \n",
      "Eval loss: 0.2787    \n",
      "Eval loss: 1.9397    \n",
      "[32/60 : 189/189] - L0.00       \n",
      "Eval loss: 0.2785    \n",
      "Eval loss: 1.9732    \n",
      "[33/60 : 189/189] - L0.02       \n",
      "Eval loss: 0.2779    \n",
      "Eval loss: 1.9531    \n",
      "[34/60 : 189/189] - L0.01       \n",
      "Eval loss: 0.2770    \n",
      "Eval loss: 1.9358   \n",
      "[35/60 : 189/189] - L0.00       \n",
      "Eval loss: 0.2770    \n",
      "Eval loss: 1.9696    \n",
      "[36/60 : 189/189] - L0.00       \n",
      "Eval loss: 0.2760    \n",
      "Eval loss: 1.9341    \n",
      "[37/60 : 189/189] - L0.00       \n",
      "Eval loss: 0.2757   \n",
      "Eval loss: 1.9727    \n",
      "[38/60 : 189/189] - L0.05       \n",
      "Eval loss: 0.2748    \n",
      "Eval loss: 1.9424    \n",
      "[39/60 : 189/189] - L0.00       \n",
      "Eval loss: 0.2744    \n",
      "Eval loss: 1.9626    \n",
      "[40/60 : 189/189] - L0.00      \n",
      "Eval loss: 0.2736    \n",
      "Eval loss: 1.9521    \n",
      "[41/60 : 189/189] - L0.00       \n",
      "Eval loss: 0.2730    \n",
      "Eval loss: 1.9460    \n",
      "[42/60 : 38/189] - L0.01      \r"
     ]
    },
    {
     "name": "stderr",
     "output_type": "stream",
     "text": [
      "Process Process-769:\n",
      "Process Process-770:\n"
     ]
    },
    {
     "name": "stdout",
     "output_type": "stream",
     "text": [
      "[42/60 : 39/189] - L0.00      \r",
      "[42/60 : 40/189] - L0.00      \r",
      "[42/60 : 41/189] - L0.01      \r",
      "[42/60 : 42/189] - L0.01      \r",
      "[42/60 : 43/189] - L0.01      \r",
      "[42/60 : 44/189] - L0.01      \r",
      "[42/60 : 45/189] - L0.00      \r",
      "[42/60 : 46/189] - L10.19      \r"
     ]
    },
    {
     "name": "stderr",
     "output_type": "stream",
     "text": [
      "Process Process-771:\n",
      "Process Process-774:\n",
      "Process Process-772:\n",
      "Process Process-773:\n"
     ]
    },
    {
     "ename": "KeyboardInterrupt",
     "evalue": "",
     "output_type": "error",
     "traceback": [
      "\u001b[0;31m---------------------------------------------------------------------------\u001b[0m",
      "\u001b[0;31mKeyboardInterrupt\u001b[0m                         Traceback (most recent call last)",
      "\u001b[0;32m<ipython-input-13-6298ae6e62ef>\u001b[0m in \u001b[0;36m<module>\u001b[0;34m()\u001b[0m\n\u001b[1;32m      5\u001b[0m     \u001b[0;32mfor\u001b[0m \u001b[0mbii\u001b[0m\u001b[0;34m,\u001b[0m \u001b[0mbatch\u001b[0m \u001b[0;32min\u001b[0m \u001b[0menumerate\u001b[0m\u001b[0;34m(\u001b[0m\u001b[0mdset\u001b[0m\u001b[0;34m)\u001b[0m\u001b[0;34m:\u001b[0m\u001b[0;34m\u001b[0m\u001b[0m\n\u001b[1;32m      6\u001b[0m         \u001b[0mmodel\u001b[0m\u001b[0;34m.\u001b[0m\u001b[0mtrain\u001b[0m\u001b[0;34m(\u001b[0m\u001b[0;34m)\u001b[0m\u001b[0;34m\u001b[0m\u001b[0m\n\u001b[0;32m----> 7\u001b[0;31m         \u001b[0mXs\u001b[0m\u001b[0;34m,\u001b[0m \u001b[0mYs\u001b[0m \u001b[0;34m=\u001b[0m \u001b[0mmodel\u001b[0m\u001b[0;34m.\u001b[0m\u001b[0mformat_batch\u001b[0m\u001b[0;34m(\u001b[0m\u001b[0mbatch\u001b[0m\u001b[0;34m)\u001b[0m\u001b[0;34m\u001b[0m\u001b[0m\n\u001b[0m\u001b[1;32m      8\u001b[0m         \u001b[0moutputs\u001b[0m \u001b[0;34m=\u001b[0m \u001b[0mmodel\u001b[0m\u001b[0;34m(\u001b[0m\u001b[0mXs\u001b[0m\u001b[0;34m)\u001b[0m\u001b[0;34m\u001b[0m\u001b[0m\n\u001b[1;32m      9\u001b[0m \u001b[0;34m\u001b[0m\u001b[0m\n",
      "\u001b[0;32m~/traffic/models/temporal/RNN_0.py\u001b[0m in \u001b[0;36mformat_batch\u001b[0;34m(self, data, wrap)\u001b[0m\n\u001b[1;32m     84\u001b[0m \u001b[0;34m\u001b[0m\u001b[0m\n\u001b[1;32m     85\u001b[0m                 \u001b[0;32mfor\u001b[0m \u001b[0mti\u001b[0m \u001b[0;32min\u001b[0m \u001b[0mrange\u001b[0m\u001b[0;34m(\u001b[0m\u001b[0mlen\u001b[0m\u001b[0;34m(\u001b[0m\u001b[0msequence\u001b[0m\u001b[0;34m)\u001b[0m\u001b[0;34m)\u001b[0m\u001b[0;34m:\u001b[0m\u001b[0;34m\u001b[0m\u001b[0m\n\u001b[0;32m---> 86\u001b[0;31m                         \u001b[0msequence\u001b[0m\u001b[0;34m[\u001b[0m\u001b[0mti\u001b[0m\u001b[0;34m]\u001b[0m \u001b[0;34m=\u001b[0m \u001b[0msequence\u001b[0m\u001b[0;34m[\u001b[0m\u001b[0mti\u001b[0m\u001b[0;34m]\u001b[0m\u001b[0;34m.\u001b[0m\u001b[0mto\u001b[0m\u001b[0;34m(\u001b[0m\u001b[0mself\u001b[0m\u001b[0;34m.\u001b[0m\u001b[0mdevice\u001b[0m\u001b[0;34m)\u001b[0m\u001b[0;34m.\u001b[0m\u001b[0mfloat\u001b[0m\u001b[0;34m(\u001b[0m\u001b[0;34m)\u001b[0m\u001b[0;34m.\u001b[0m\u001b[0msqueeze\u001b[0m\u001b[0;34m(\u001b[0m\u001b[0;36m0\u001b[0m\u001b[0;34m)\u001b[0m\u001b[0;34m\u001b[0m\u001b[0m\n\u001b[0m\u001b[1;32m     87\u001b[0m \u001b[0;34m\u001b[0m\u001b[0m\n\u001b[1;32m     88\u001b[0m                 \u001b[0mXs\u001b[0m \u001b[0;34m=\u001b[0m \u001b[0msequence\u001b[0m\u001b[0;34m\u001b[0m\u001b[0m\n",
      "\u001b[0;31mKeyboardInterrupt\u001b[0m: "
     ]
    },
    {
     "name": "stderr",
     "output_type": "stream",
     "text": [
      "Traceback (most recent call last):\n",
      "Traceback (most recent call last):\n",
      "Traceback (most recent call last):\n",
      "Traceback (most recent call last):\n",
      "Traceback (most recent call last):\n",
      "  File \"/usr/lib/python3.5/multiprocessing/process.py\", line 249, in _bootstrap\n",
      "    self.run()\n",
      "Traceback (most recent call last):\n",
      "  File \"/usr/lib/python3.5/multiprocessing/process.py\", line 249, in _bootstrap\n",
      "    self.run()\n",
      "  File \"/usr/lib/python3.5/multiprocessing/process.py\", line 249, in _bootstrap\n",
      "    self.run()\n",
      "  File \"/usr/lib/python3.5/multiprocessing/process.py\", line 249, in _bootstrap\n",
      "    self.run()\n",
      "  File \"/usr/lib/python3.5/multiprocessing/process.py\", line 249, in _bootstrap\n",
      "    self.run()\n",
      "  File \"/usr/lib/python3.5/multiprocessing/process.py\", line 93, in run\n",
      "    self._target(*self._args, **self._kwargs)\n",
      "  File \"/usr/lib/python3.5/multiprocessing/process.py\", line 93, in run\n",
      "    self._target(*self._args, **self._kwargs)\n",
      "  File \"/usr/lib/python3.5/multiprocessing/process.py\", line 93, in run\n",
      "    self._target(*self._args, **self._kwargs)\n",
      "  File \"/usr/local/lib/python3.5/dist-packages/torch/utils/data/dataloader.py\", line 96, in _worker_loop\n",
      "    r = index_queue.get(timeout=MANAGER_STATUS_CHECK_INTERVAL)\n",
      "  File \"/usr/local/lib/python3.5/dist-packages/torch/utils/data/dataloader.py\", line 96, in _worker_loop\n",
      "    r = index_queue.get(timeout=MANAGER_STATUS_CHECK_INTERVAL)\n",
      "  File \"/usr/lib/python3.5/multiprocessing/queues.py\", line 104, in get\n",
      "    if timeout < 0 or not self._poll(timeout):\n",
      "  File \"/usr/lib/python3.5/multiprocessing/queues.py\", line 104, in get\n",
      "    if timeout < 0 or not self._poll(timeout):\n",
      "  File \"/usr/lib/python3.5/multiprocessing/connection.py\", line 257, in poll\n",
      "    return self._poll(timeout)\n",
      "  File \"/usr/lib/python3.5/multiprocessing/connection.py\", line 414, in _poll\n",
      "    r = wait([self], timeout)\n",
      "  File \"/usr/lib/python3.5/multiprocessing/process.py\", line 249, in _bootstrap\n",
      "    self.run()\n",
      "  File \"/usr/lib/python3.5/multiprocessing/connection.py\", line 911, in wait\n",
      "    ready = selector.select(timeout)\n",
      "  File \"/usr/lib/python3.5/multiprocessing/process.py\", line 93, in run\n",
      "    self._target(*self._args, **self._kwargs)\n",
      "  File \"/usr/lib/python3.5/selectors.py\", line 376, in select\n",
      "    fd_event_list = self._poll.poll(timeout)\n",
      "  File \"/usr/lib/python3.5/multiprocessing/process.py\", line 93, in run\n",
      "    self._target(*self._args, **self._kwargs)\n",
      "KeyboardInterrupt\n",
      "  File \"/usr/local/lib/python3.5/dist-packages/torch/utils/data/dataloader.py\", line 96, in _worker_loop\n",
      "    r = index_queue.get(timeout=MANAGER_STATUS_CHECK_INTERVAL)\n",
      "  File \"/usr/local/lib/python3.5/dist-packages/torch/utils/data/dataloader.py\", line 96, in _worker_loop\n",
      "    r = index_queue.get(timeout=MANAGER_STATUS_CHECK_INTERVAL)\n",
      "  File \"/usr/lib/python3.5/multiprocessing/process.py\", line 93, in run\n",
      "    self._target(*self._args, **self._kwargs)\n",
      "  File \"/usr/lib/python3.5/multiprocessing/connection.py\", line 257, in poll\n",
      "    return self._poll(timeout)\n",
      "  File \"/usr/lib/python3.5/multiprocessing/queues.py\", line 104, in get\n",
      "    if timeout < 0 or not self._poll(timeout):\n",
      "  File \"/usr/lib/python3.5/multiprocessing/queues.py\", line 104, in get\n",
      "    if timeout < 0 or not self._poll(timeout):\n",
      "  File \"/usr/lib/python3.5/multiprocessing/connection.py\", line 414, in _poll\n",
      "    r = wait([self], timeout)\n",
      "  File \"/usr/lib/python3.5/multiprocessing/connection.py\", line 257, in poll\n",
      "    return self._poll(timeout)\n",
      "  File \"/usr/lib/python3.5/multiprocessing/connection.py\", line 414, in _poll\n",
      "    r = wait([self], timeout)\n",
      "  File \"/usr/lib/python3.5/multiprocessing/connection.py\", line 911, in wait\n",
      "    ready = selector.select(timeout)\n",
      "  File \"/usr/lib/python3.5/selectors.py\", line 376, in select\n",
      "    fd_event_list = self._poll.poll(timeout)\n",
      "  File \"/usr/local/lib/python3.5/dist-packages/torch/utils/data/dataloader.py\", line 96, in _worker_loop\n",
      "    r = index_queue.get(timeout=MANAGER_STATUS_CHECK_INTERVAL)\n",
      "  File \"/usr/local/lib/python3.5/dist-packages/torch/utils/data/dataloader.py\", line 96, in _worker_loop\n",
      "    r = index_queue.get(timeout=MANAGER_STATUS_CHECK_INTERVAL)\n",
      "  File \"/usr/lib/python3.5/multiprocessing/connection.py\", line 911, in wait\n",
      "    ready = selector.select(timeout)\n",
      "  File \"/usr/lib/python3.5/multiprocessing/queues.py\", line 104, in get\n",
      "    if timeout < 0 or not self._poll(timeout):\n",
      "  File \"/usr/lib/python3.5/multiprocessing/connection.py\", line 257, in poll\n",
      "    return self._poll(timeout)\n",
      "  File \"/usr/lib/python3.5/multiprocessing/connection.py\", line 414, in _poll\n",
      "    r = wait([self], timeout)\n",
      "  File \"/usr/lib/python3.5/multiprocessing/connection.py\", line 257, in poll\n",
      "    return self._poll(timeout)\n",
      "KeyboardInterrupt\n",
      "  File \"/usr/lib/python3.5/multiprocessing/connection.py\", line 911, in wait\n",
      "    ready = selector.select(timeout)\n",
      "  File \"/usr/lib/python3.5/multiprocessing/connection.py\", line 414, in _poll\n",
      "    r = wait([self], timeout)\n",
      "  File \"/usr/lib/python3.5/selectors.py\", line 376, in select\n",
      "    fd_event_list = self._poll.poll(timeout)\n",
      "  File \"/usr/lib/python3.5/selectors.py\", line 376, in select\n",
      "    fd_event_list = self._poll.poll(timeout)\n",
      "  File \"/usr/lib/python3.5/multiprocessing/connection.py\", line 911, in wait\n",
      "    ready = selector.select(timeout)\n",
      "KeyboardInterrupt\n",
      "  File \"/usr/lib/python3.5/multiprocessing/queues.py\", line 104, in get\n",
      "    if timeout < 0 or not self._poll(timeout):\n",
      "KeyboardInterrupt\n",
      "  File \"/usr/lib/python3.5/selectors.py\", line 376, in select\n",
      "    fd_event_list = self._poll.poll(timeout)\n",
      "  File \"/usr/lib/python3.5/multiprocessing/connection.py\", line 257, in poll\n",
      "    return self._poll(timeout)\n",
      "KeyboardInterrupt\n",
      "  File \"/usr/lib/python3.5/multiprocessing/connection.py\", line 414, in _poll\n",
      "    r = wait([self], timeout)\n",
      "  File \"/usr/lib/python3.5/multiprocessing/connection.py\", line 911, in wait\n",
      "    ready = selector.select(timeout)\n",
      "  File \"/usr/lib/python3.5/selectors.py\", line 376, in select\n",
      "    fd_event_list = self._poll.poll(timeout)\n",
      "KeyboardInterrupt\n"
     ]
    }
   ],
   "source": [
    "losses = []\n",
    "eval_mse = []\n",
    "eval_mape = []\n",
    "for eii  in range(EPS):\n",
    "    for bii, batch in enumerate(dset):\n",
    "        model.train()\n",
    "        Xs, Ys = model.format_batch(batch)\n",
    "        outputs = model(Xs)\n",
    "\n",
    "        opt.zero_grad()\n",
    "        loss = criterion(outputs, Ys)\n",
    "        loss.backward()\n",
    "        losses.append(loss.item())\n",
    "        opt.step()\n",
    "\n",
    "        sys.stdout.write('[%d/%d : %d/%d] - L%.2f      \\r' % (\n",
    "            eii+1, EPS,\n",
    "            bii+1, len(dset), \n",
    "            loss.item()\n",
    "        ))\n",
    "    sys.stdout.write('\\n')\n",
    "\n",
    "    eval_mse.append(\n",
    "        evaluate(evalset, model, crit=lambda _y, y: criterion(_y, y).item(), result=True))\n",
    "    eval_mape.append(\n",
    "        evaluate(evalset, model, \n",
    "                 crit=lambda _y, y: wape(tonpy(_y), tonpy(y), yavg), result=True))\n",
    "    sys.stdout.flush()\n",
    "#     sch.step()"
   ]
  },
  {
   "cell_type": "code",
   "execution_count": 18,
   "metadata": {},
   "outputs": [],
   "source": [
    "# name = 'n10-%s-%d'% (SROUTE, SIND)\n",
    "# torch.save(model.state_dict(), 'checkpoints/rnn/%s.pth' % name)"
   ]
  },
  {
   "cell_type": "code",
   "execution_count": 19,
   "metadata": {},
   "outputs": [],
   "source": [
    "# with open('checkpoints/rnn/%s.json' % name, 'w') as fl:\n",
    "#     json.dump(dict(\n",
    "#         mse=eval_mse,\n",
    "#         mape=eval_mape,\n",
    "#     ), fl, indent=4)"
   ]
  },
  {
   "cell_type": "code",
   "execution_count": 14,
   "metadata": {},
   "outputs": [
    {
     "data": {
      "image/png": "[encoded data removed]",
      "text/plain": [
       "<Figure size 1008x288 with 2 Axes>"
      ]
     },
     "metadata": {},
     "output_type": "display_data"
    }
   ],
   "source": [
    "plt.figure(figsize=(14, 4))\n",
    "plt.subplot(1, 2, 1)\n",
    "plt.plot(losses)\n",
    "plt.subplot(1, 2, 2)\n",
    "plt.plot(eval_mse)\n",
    "plt.show();plt.close()"
   ]
  },
  {
   "cell_type": "code",
   "execution_count": null,
   "metadata": {
    "scrolled": false
   },
   "outputs": [],
   "source": [
    "data = history_byname(SROUTE)\n",
    "\n",
    "sample = data[int(TSTEPS*0.8):]\n",
    "inds, integs = high_integ(sample[LAG:])\n",
    "inds += LAG\n",
    "# print(inds[0])\n",
    "print('Visualize period', inds[0])\n",
    "sample = sample[inds[0]-LAG:inds[0]]\n",
    "# sample = hist_smooth(sample)\n",
    "print(np.count_nonzero(np.isnan(sample)))\n",
    "for jj, ii in zip(*np.where(np.isnan(sample))):\n",
    "    sample[jj, ii] = sample[jj-1, ii]\n",
    "show_context(sample)"
   ]
  },
  {
   "cell_type": "code",
   "execution_count": null,
   "metadata": {},
   "outputs": [],
   "source": [
    "bi = 30\n",
    "hist = torch.Tensor(np.expand_dims(sample[:, bi-10:bi], 0))\n",
    "Xs, _ = model.format_batch(hist)\n",
    "yout = tonpy(model(Xs))\n",
    "print(yout.shape)\n",
    "#     preds.append(tonpy(yout))"
   ]
  },
  {
   "cell_type": "code",
   "execution_count": null,
   "metadata": {},
   "outputs": [],
   "source": [
    "l = show_context(sample, draw=False)\n",
    "ylast = np.flip(yout[0, :])\n",
    "xpos = list(range(bi-10, bi))\n",
    "# plt.plot([25, 25], [-5, 1], color='#666666')\n",
    "# plt.plot([25, 25], [9, 7], color='#666666')\n",
    "p = plt.plot(xpos, ylast, color='C1')\n",
    "plt.xlim(19, 31)\n",
    "plt.ylim(0, 8)\n",
    "plt.legend([l[0], p[0]], ['Known Travel Speed', 'Predicted Travel Speed'])\n",
    "plt.show(); plt.close()"
   ]
  },
  {
   "cell_type": "code",
   "execution_count": null,
   "metadata": {},
   "outputs": [],
   "source": []
  }
 ],
 "metadata": {
  "kernelspec": {
   "display_name": "Python 3",
   "language": "python",
   "name": "python3"
  },
  "language_info": {
   "codemirror_mode": {
    "name": "ipython",
    "version": 3
   },
   "file_extension": ".py",
   "mimetype": "text/x-python",
   "name": "python",
   "nbconvert_exporter": "python",
   "pygments_lexer": "ipython3",
   "version": "3.5.2"
  }
 },
 "nbformat": 4,
 "nbformat_minor": 2
}
