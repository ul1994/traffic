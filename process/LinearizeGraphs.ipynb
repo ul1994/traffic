{
 "cells": [
  {
   "cell_type": "code",
   "execution_count": 1,
   "metadata": {},
   "outputs": [],
   "source": [
    "%load_ext autoreload\n",
    "%autoreload 2\n",
    "%matplotlib inline"
   ]
  },
  {
   "cell_type": "markdown",
   "metadata": {},
   "source": [
    "### Makes the order of appearence of segments consistent in graph files for hop specifications 1...10"
   ]
  },
  {
   "cell_type": "code",
   "execution_count": 2,
   "metadata": {},
   "outputs": [],
   "source": [
    "import os, sys\n",
    "sys.path.append('..')\n",
    "from glob import glob\n",
    "from configs import *\n",
    "from tqdm import tqdm_notebook as tqdm\n",
    "# from tqdm.auto import tqdm\n",
    "# tqdm.monitor_interval = 0\n",
    "from utils import *\n",
    "import numpy as np\n",
    "from time import time\n",
    "import json\n",
    "import numpy as np\n",
    "from time import time, strptime, mktime\n",
    "import matplotlib.pyplot as plt\n",
    "import cv2\n",
    "from time import sleep"
   ]
  },
  {
   "cell_type": "code",
   "execution_count": 3,
   "metadata": {},
   "outputs": [
    {
     "data": {
      "text/plain": [
       "235"
      ]
     },
     "execution_count": 3,
     "metadata": {},
     "output_type": "execute_result"
    }
   ],
   "source": [
    "gfiles = glob('../data/graphs/*')\n",
    "len(gfiles)"
   ]
  },
  {
   "cell_type": "code",
   "execution_count": 4,
   "metadata": {},
   "outputs": [
    {
     "data": {
      "text/plain": [
       "47"
      ]
     },
     "execution_count": 4,
     "metadata": {},
     "output_type": "execute_result"
    }
   ],
   "source": [
    "byroot = {}\n",
    "for gname in gfiles:\n",
    "    nname = gname.split('/')[-1].split('_')[0]\n",
    "    ls = byroot.get(nname, [])\n",
    "    ls.append(gname)\n",
    "    byroot[nname] = ls\n",
    "\n",
    "len(byroot)"
   ]
  },
  {
   "cell_type": "code",
   "execution_count": 5,
   "metadata": {},
   "outputs": [],
   "source": [
    "for root, ls in byroot.items():\n",
    "    byroot[root] = sorted(ls, key=lambda ent: int(ent[:-5].split('_n')[1]))"
   ]
  },
  {
   "cell_type": "code",
   "execution_count": 6,
   "metadata": {},
   "outputs": [
    {
     "name": "stdout",
     "output_type": "stream",
     "text": [
      "404245-404915 5 ../data/graphs/404245-404915_n1.json ../data/graphs/404245-404915_n5.json\n",
      "401259-401261 5 ../data/graphs/401259-401261_n1.json ../data/graphs/401259-401261_n5.json\n",
      "401027-404320 5 ../data/graphs/401027-404320_n1.json ../data/graphs/401027-404320_n5.json\n",
      "401271-401272 5 ../data/graphs/401271-401272_n1.json ../data/graphs/401271-401272_n5.json\n",
      "402517-402518 5 ../data/graphs/402517-402518_n1.json ../data/graphs/402517-402518_n5.json\n",
      "450123-400516 5 ../data/graphs/450123-400516_n1.json ../data/graphs/450123-400516_n5.json\n",
      "401069-401070 5 ../data/graphs/401069-401070_n1.json ../data/graphs/401069-401070_n5.json\n",
      "404947-405066 5 ../data/graphs/404947-405066_n1.json ../data/graphs/404947-405066_n5.json\n",
      "401248-404024 5 ../data/graphs/401248-404024_n1.json ../data/graphs/401248-404024_n5.json\n",
      "403155-405249 5 ../data/graphs/403155-405249_n1.json ../data/graphs/403155-405249_n5.json\n",
      "400108-400109 5 ../data/graphs/400108-400109_n1.json ../data/graphs/400108-400109_n5.json\n",
      "401045-401988 5 ../data/graphs/401045-401988_n1.json ../data/graphs/401045-401988_n5.json\n",
      "400732-403769 5 ../data/graphs/400732-403769_n1.json ../data/graphs/400732-403769_n5.json\n",
      "400360-400361 5 ../data/graphs/400360-400361_n1.json ../data/graphs/400360-400361_n5.json\n",
      "402620-403295 5 ../data/graphs/402620-403295_n1.json ../data/graphs/402620-403295_n5.json\n",
      "803162-404303 5 ../data/graphs/803162-404303_n1.json ../data/graphs/803162-404303_n5.json\n",
      "402528-404853 5 ../data/graphs/402528-404853_n1.json ../data/graphs/402528-404853_n5.json\n",
      "401360-401361 5 ../data/graphs/401360-401361_n1.json ../data/graphs/401360-401361_n5.json\n",
      "403894-403895 5 ../data/graphs/403894-403895_n1.json ../data/graphs/403894-403895_n5.json\n",
      "400007-403782 5 ../data/graphs/400007-403782_n1.json ../data/graphs/400007-403782_n5.json\n",
      "405057-403416 5 ../data/graphs/405057-403416_n1.json ../data/graphs/405057-403416_n5.json\n",
      "403167-403168 5 ../data/graphs/403167-403168_n1.json ../data/graphs/403167-403168_n5.json\n",
      "405393-401016 5 ../data/graphs/405393-401016_n1.json ../data/graphs/405393-401016_n5.json\n",
      "402835-404171 5 ../data/graphs/402835-404171_n1.json ../data/graphs/402835-404171_n5.json\n",
      "400468-400469 5 ../data/graphs/400468-400469_n1.json ../data/graphs/400468-400469_n5.json\n",
      "400032-400033 5 ../data/graphs/400032-400033_n1.json ../data/graphs/400032-400033_n5.json\n",
      "400330-400331 5 ../data/graphs/400330-400331_n1.json ../data/graphs/400330-400331_n5.json\n",
      "402646-402647 5 ../data/graphs/402646-402647_n1.json ../data/graphs/402646-402647_n5.json\n",
      "401149-401150 5 ../data/graphs/401149-401150_n1.json ../data/graphs/401149-401150_n5.json\n",
      "400044-400045 5 ../data/graphs/400044-400045_n1.json ../data/graphs/400044-400045_n5.json\n",
      "403821-403822 5 ../data/graphs/403821-403822_n1.json ../data/graphs/403821-403822_n5.json\n",
      "401628-403443 5 ../data/graphs/401628-403443_n1.json ../data/graphs/401628-403443_n5.json\n",
      "405186-402766 5 ../data/graphs/405186-402766_n1.json ../data/graphs/405186-402766_n5.json\n",
      "404824-401310 5 ../data/graphs/404824-401310_n1.json ../data/graphs/404824-401310_n5.json\n",
      "402505-402506 5 ../data/graphs/402505-402506_n1.json ../data/graphs/402505-402506_n5.json\n",
      "405005-402542 5 ../data/graphs/405005-402542_n1.json ../data/graphs/405005-402542_n5.json\n",
      "403144-403145 5 ../data/graphs/403144-403145_n1.json ../data/graphs/403144-403145_n5.json\n",
      "403110-403111 5 ../data/graphs/403110-403111_n1.json ../data/graphs/403110-403111_n5.json\n",
      "401333-401334 5 ../data/graphs/401333-401334_n1.json ../data/graphs/401333-401334_n5.json\n",
      "400454-403979 5 ../data/graphs/400454-403979_n1.json ../data/graphs/400454-403979_n5.json\n",
      "403492-403494 5 ../data/graphs/403492-403494_n1.json ../data/graphs/403492-403494_n5.json\n",
      "402003-402004 5 ../data/graphs/402003-402004_n1.json ../data/graphs/402003-402004_n5.json\n",
      "803117-402228 5 ../data/graphs/803117-402228_n1.json ../data/graphs/803117-402228_n5.json\n",
      "401051-401052 5 ../data/graphs/401051-401052_n1.json ../data/graphs/401051-401052_n5.json\n",
      "400612-400613 5 ../data/graphs/400612-400613_n1.json ../data/graphs/400612-400613_n5.json\n",
      "400861-400948 5 ../data/graphs/400861-400948_n1.json ../data/graphs/400861-400948_n5.json\n",
      "401091-401092 5 ../data/graphs/401091-401092_n1.json ../data/graphs/401091-401092_n5.json\n"
     ]
    }
   ],
   "source": [
    "for root, ls in byroot.items():\n",
    "    print(root, len(ls), ls[0], ls[-1])"
   ]
  },
  {
   "cell_type": "code",
   "execution_count": 7,
   "metadata": {},
   "outputs": [
    {
     "name": "stderr",
     "output_type": "stream",
     "text": [
      "100%|██████████| 47/47 [00:00<00:00, 1132.25it/s]\n"
     ]
    }
   ],
   "source": [
    "for root, ls in tqdm(byroot.items()):\n",
    "    nord = []\n",
    "    for ni, gfile in enumerate(ls):\n",
    "        with open(gfile) as fl:\n",
    "            vs, adj = json.load(fl)\n",
    "        assert len(vs)\n",
    "        \n",
    "        for vert in vs:\n",
    "            if vert not in nord:\n",
    "                nord.append(vert)\n",
    "#         print(len(nord))\n",
    "        with open(gfile, 'w') as fl:\n",
    "            json.dump([\n",
    "                nord,\n",
    "                adj,\n",
    "            ], fl, indent=4)"
   ]
  },
  {
   "cell_type": "code",
   "execution_count": null,
   "metadata": {},
   "outputs": [],
   "source": []
  }
 ],
 "metadata": {
  "kernelspec": {
   "display_name": "Python 3",
   "language": "python",
   "name": "python3"
  },
  "language_info": {
   "codemirror_mode": {
    "name": "ipython",
    "version": 3
   },
   "file_extension": ".py",
   "mimetype": "text/x-python",
   "name": "python",
   "nbconvert_exporter": "python",
   "pygments_lexer": "ipython3",
   "version": "3.5.2"
  }
 },
 "nbformat": 4,
 "nbformat_minor": 2
}
