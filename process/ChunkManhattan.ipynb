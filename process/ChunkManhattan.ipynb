{
 "cells": [
  {
   "cell_type": "code",
   "execution_count": 1,
   "metadata": {},
   "outputs": [],
   "source": [
    "%load_ext autoreload\n",
    "%autoreload 2\n",
    "%matplotlib inline"
   ]
  },
  {
   "cell_type": "code",
   "execution_count": 2,
   "metadata": {},
   "outputs": [],
   "source": [
    "from glob import glob\n",
    "import json\n",
    "import os, sys\n",
    "sys.path.append('..')\n",
    "from utils import *\n",
    "from random import randint"
   ]
  },
  {
   "cell_type": "code",
   "execution_count": 3,
   "metadata": {},
   "outputs": [],
   "source": [
    "with open('../data/man.json') as fl:\n",
    "    vs, adj = json.load(fl)"
   ]
  },
  {
   "cell_type": "code",
   "execution_count": 4,
   "metadata": {},
   "outputs": [
    {
     "data": {
      "text/plain": [
       "684"
      ]
     },
     "execution_count": 4,
     "metadata": {},
     "output_type": "execute_result"
    }
   ],
   "source": [
    "len(vs)"
   ]
  },
  {
   "cell_type": "code",
   "execution_count": 5,
   "metadata": {},
   "outputs": [
    {
     "name": "stdout",
     "output_type": "stream",
     "text": [
      "Roots found: 33\n"
     ]
    },
    {
     "data": {
      "text/plain": [
       "'depth.jpg'"
      ]
     },
     "execution_count": 5,
     "metadata": {},
     "output_type": "execute_result"
    }
   ],
   "source": [
    "def sort_bydepth(vs, adj):\n",
    "    roots = []\n",
    "    for vert in vs:\n",
    "        pointed = False\n",
    "        for st, ls in adj.items():\n",
    "            if vert in ls:\n",
    "                pointed = True\n",
    "                break\n",
    "        if not pointed:\n",
    "            roots.append(vert)\n",
    "            \n",
    "    print('Roots found:', len(roots))\n",
    "    dmap = { v: 0 for v in roots }\n",
    "    _, cadj = complete_graph(vs, adj)\n",
    "    \n",
    "    visited = {}\n",
    "    queue = roots\n",
    "#     print(roots)\n",
    "    while len(queue):\n",
    "        head = queue.pop(0)\n",
    "        visited[head] = True\n",
    "        \n",
    "        for child in cadj[head]:\n",
    "            if child not in visited:\n",
    "                if child not in dmap:\n",
    "                    dmap[child] = dmap[head] + 1\n",
    "                queue.append(child)\n",
    "#     print(len(dmap))\n",
    "    sorted_vs = vs.copy()\n",
    "    assert len(sorted_vs) == len(vs)\n",
    "    sorted_vs = sorted(sorted_vs, key=lambda vert: dmap[vert])\n",
    "    return sorted_vs, dmap\n",
    "    \n",
    "_vs, gdepth = sort_bydepth(vs, adj)\n",
    "gobj = show_graph(_vs, adj, vdesc=lambda vert: str(gdepth[vert]))\n",
    "gobj.render('depth')"
   ]
  },
  {
   "cell_type": "code",
   "execution_count": 6,
   "metadata": {},
   "outputs": [
    {
     "data": {
      "text/plain": [
       "39"
      ]
     },
     "execution_count": 6,
     "metadata": {},
     "output_type": "execute_result"
    }
   ],
   "source": [
    "subgraphs = find_hops_2way(5, vs, adj, overlap=False)\n",
    "len(subgraphs)"
   ]
  },
  {
   "cell_type": "code",
   "execution_count": 7,
   "metadata": {},
   "outputs": [
    {
     "data": {
      "text/plain": [
       "47"
      ]
     },
     "execution_count": 7,
     "metadata": {},
     "output_type": "execute_result"
    }
   ],
   "source": [
    "sorted_subgraphs = find_hops_2way(5, _vs, adj, overlap=False)\n",
    "len(sorted_subgraphs)"
   ]
  },
  {
   "cell_type": "code",
   "execution_count": 11,
   "metadata": {},
   "outputs": [
    {
     "name": "stdout",
     "output_type": "stream",
     "text": [
      "sorted - 532/684\n",
      "random - 441/684\n"
     ]
    }
   ],
   "source": [
    "from graphviz import Digraph\n",
    "def render_subgraphs(tag, subgraphs, pretty=False):\n",
    "    isRoot = {}\n",
    "    dmap = {}\n",
    "    groupmap = {}\n",
    "    used = {}\n",
    "    for gi, ((svs, sadj), subdepth) in enumerate(subgraphs):\n",
    "        for vert, dp in subdepth.items():\n",
    "            dmap[vert] = dp\n",
    "        isRoot[svs[0]] = True\n",
    "#         print(gi, len(svs))\n",
    "        for vert in svs:\n",
    "            groupmap[vert] = gi\n",
    "    print('%s - %d/%d' % (tag, len(groupmap), len(vs)))\n",
    "\n",
    "    def vdesc(vert):\n",
    "        if vert in dmap:\n",
    "            return str(dmap[vert])\n",
    "        else:\n",
    "            return ' '\n",
    "        \n",
    "    if not pretty:\n",
    "\n",
    "        dot = Digraph(comment=vs[0], format='jpg')\n",
    "        for vi, vert in enumerate(vs):\n",
    "            if vert in groupmap:\n",
    "                shape='doublecircle' if vert in isRoot else None\n",
    "                cind = groupmap[vert] % 3\n",
    "    #             print(vert, cind, groupmap[vert])\n",
    "                clr = ['yellow', 'chartreuse', 'lightblue'][cind]\n",
    "                dot.node(vert, vdesc(vert), shape=shape, color=clr)\n",
    "            else:\n",
    "                dot.node(vert, '   ')\n",
    "            # dot.node(vert, vert, shape=shape)\n",
    "        for vi, (vert, alist) in enumerate(adj.items()):\n",
    "            for vto in alist:\n",
    "                dot.edge(vert, vto)\n",
    "        dot.render('grouped_%s' % tag)\n",
    "    else:\n",
    "        mang = Digraph(format='jpg', engine='dot', graph_attr={\n",
    "            'splines':\"ortho\",\n",
    "            'nodesep':'1',\n",
    "            'rankdir':'LR',\n",
    "            'fixedsize':'true',\n",
    "         })\n",
    "        \n",
    "        for vi, vert in enumerate(vs):\n",
    "            if vert in groupmap:\n",
    "                shape='doublecircle' if vert in isRoot else None\n",
    "                cind = groupmap[vert] % 3\n",
    "    #             print(vert, cind, groupmap[vert])\n",
    "                clr = ['yellow', 'chartreuse', 'lightblue'][cind]\n",
    "                dot.node(vert, vdesc(vert), shape=shape, color=clr)\n",
    "            else:\n",
    "                dot.node(vert, '   ')\n",
    "            # dot.node(vert, vert, shape=shape)\n",
    "        for vi, (vert, alist) in enumerate(adj.items()):\n",
    "            for vto in alist:\n",
    "                dot.edge(vert, vto)\n",
    "        dot.render('pretty_grouped_%s' % tag)\n",
    "        \n",
    "\n",
    "render_subgraphs('sorted', sorted_subgraphs)\n",
    "render_subgraphs('random', subgraphs)"
   ]
  },
  {
   "cell_type": "code",
   "execution_count": 9,
   "metadata": {},
   "outputs": [],
   "source": [
    "# s4 = find_hops_2way(4, _vs, adj, overlap=False)\n",
    "# len(s4)"
   ]
  },
  {
   "cell_type": "code",
   "execution_count": 13,
   "metadata": {},
   "outputs": [
    {
     "ename": "SyntaxError",
     "evalue": "invalid syntax (<ipython-input-13-bc47955bec36>, line 2)",
     "output_type": "error",
     "traceback": [
      "\u001b[0;36m  File \u001b[0;32m\"<ipython-input-13-bc47955bec36>\"\u001b[0;36m, line \u001b[0;32m2\u001b[0m\n\u001b[0;31m    asdf = 20_00\u001b[0m\n\u001b[0m               ^\u001b[0m\n\u001b[0;31mSyntaxError\u001b[0m\u001b[0;31m:\u001b[0m invalid syntax\n"
     ]
    }
   ],
   "source": [
    "# render_subgraphs('sorted_h4', s4)"
   ]
  },
  {
   "cell_type": "code",
   "execution_count": 21,
   "metadata": {},
   "outputs": [],
   "source": [
    "for gi, ((svs, sadj), dmap) in enumerate(sorted_subgraphs):\n",
    "    for hi in range(1, 6):\n",
    "#         print(gi, hi, svs[0], len(svs))\n",
    "        \n",
    "        hvs = []\n",
    "        for vert in svs:\n",
    "            if dmap[vert] <= hi:\n",
    "                hvs.append(vert)\n",
    "        hvs = sorted(hvs, key=lambda vert: dmap[vert])\n",
    "        __vs, __adj = subgraph(hvs, svs, sadj)\n",
    "\n",
    "        with open('../data/graphs/%s_n%d.json' % (svs[0], hi), 'w') as fl:\n",
    "            json.dump([\n",
    "                __vs,\n",
    "                __adj\n",
    "            ], fl, indent=4)"
   ]
  },
  {
   "cell_type": "markdown",
   "metadata": {},
   "source": [
    "### Don't forget to linearize the graph files"
   ]
  },
  {
   "cell_type": "code",
   "execution_count": 12,
   "metadata": {},
   "outputs": [
    {
     "name": "stdout",
     "output_type": "stream",
     "text": [
      "sorted - 532/684\n"
     ]
    }
   ],
   "source": [
    "render_subgraphs('sorted', sorted_subgraphs, pretty=True)"
   ]
  },
  {
   "cell_type": "code",
   "execution_count": 16,
   "metadata": {
    "scrolled": true
   },
   "outputs": [
    {
     "name": "stdout",
     "output_type": "stream",
     "text": [
      "402528-404853\n",
      "405057-403416\n",
      "400454-403979\n",
      "403492-403494\n",
      "405393-401016\n",
      "402620-403295\n",
      "405186-402766\n",
      "400732-403769\n",
      "401628-403443\n",
      "402505-402506\n",
      "400612-400613\n",
      "401091-401092\n",
      "403144-403145\n",
      "401149-401150\n",
      "402003-402004\n",
      "404824-401310\n",
      "401248-404024\n",
      "401069-401070\n",
      "402646-402647\n",
      "400007-403782\n",
      "403894-403895\n",
      "803117-402228\n",
      "400108-400109\n",
      "400468-400469\n",
      "400360-400361\n",
      "405005-402542\n",
      "404947-405066\n",
      "402517-402518\n",
      "401045-401988\n",
      "404245-404915\n",
      "401259-401261\n",
      "403110-403111\n",
      "403155-405249\n",
      "803162-404303\n",
      "401027-404320\n",
      "401051-401052\n",
      "400032-400033\n",
      "402835-404171\n",
      "401271-401272\n",
      "403167-403168\n",
      "401333-401334\n",
      "450123-400516\n",
      "400044-400045\n",
      "403821-403822\n",
      "400861-400948\n",
      "400330-400331\n",
      "401360-401361\n"
     ]
    },
    {
     "data": {
      "text/plain": [
       "47"
      ]
     },
     "execution_count": 16,
     "metadata": {},
     "output_type": "execute_result"
    }
   ],
   "source": [
    "roots = []\n",
    "for gi, ((svs, _), _) in enumerate(sorted_subgraphs):\n",
    "    print(svs[0])\n",
    "    roots.append(svs[0])\n",
    "len(roots)"
   ]
  },
  {
   "cell_type": "code",
   "execution_count": 17,
   "metadata": {},
   "outputs": [],
   "source": [
    "with open('../data/subset.txt', 'w') as fl:\n",
    "    fl.write('\\n'.join(roots))"
   ]
  },
  {
   "cell_type": "code",
   "execution_count": null,
   "metadata": {},
   "outputs": [],
   "source": []
  }
 ],
 "metadata": {
  "kernelspec": {
   "display_name": "Python 3",
   "language": "python",
   "name": "python3"
  },
  "language_info": {
   "codemirror_mode": {
    "name": "ipython",
    "version": 3
   },
   "file_extension": ".py",
   "mimetype": "text/x-python",
   "name": "python",
   "nbconvert_exporter": "python",
   "pygments_lexer": "ipython3",
   "version": "3.5.2"
  }
 },
 "nbformat": 4,
 "nbformat_minor": 2
}
