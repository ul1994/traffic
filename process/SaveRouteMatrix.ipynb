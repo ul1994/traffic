{
 "cells": [
  {
   "cell_type": "code",
   "execution_count": 1,
   "metadata": {},
   "outputs": [],
   "source": [
    "%load_ext autoreload\n",
    "%autoreload 2\n",
    "%matplotlib inline"
   ]
  },
  {
   "cell_type": "code",
   "execution_count": 2,
   "metadata": {},
   "outputs": [],
   "source": [
    "import os, sys\n",
    "from glob import glob\n",
    "sys.path.append('..')\n",
    "from configs import *\n",
    "import configs\n",
    "from tqdm import tqdm\n",
    "from utils import *\n",
    "import importlib"
   ]
  },
  {
   "cell_type": "code",
   "execution_count": 3,
   "metadata": {},
   "outputs": [
    {
     "data": {
      "text/plain": [
       "<module 'configs' from '../configs.py'>"
      ]
     },
     "execution_count": 3,
     "metadata": {},
     "output_type": "execute_result"
    }
   ],
   "source": [
    "importlib.reload(configs)"
   ]
  },
  {
   "cell_type": "code",
   "execution_count": 4,
   "metadata": {},
   "outputs": [
    {
     "name": "stdout",
     "output_type": "stream",
     "text": [
      "/home/ubuntu/traffic/data/stopcodes_sequence/*_0.txt\n",
      "328\n"
     ]
    }
   ],
   "source": [
    "dpath = '%s/%s/*_0.txt' % (DPATH, ROUTES)\n",
    "print(dpath)\n",
    "rfiles = glob(dpath)\n",
    "print(len(rfiles))"
   ]
  },
  {
   "cell_type": "code",
   "execution_count": 5,
   "metadata": {},
   "outputs": [],
   "source": [
    "all_routes = []\n",
    "for rf in rfiles:\n",
    "    with open(rf) as fl:\n",
    "        stops = fl.read().split('\\n')[:-1]\n",
    "    if len(stops) > 5:\n",
    "        all_routes.append(dict(name=fileName(rf), stops=stops))"
   ]
  },
  {
   "cell_type": "code",
   "execution_count": 6,
   "metadata": {},
   "outputs": [
    {
     "name": "stdout",
     "output_type": "stream",
     "text": [
      "114 39.61180124223603 7\n",
      "322\n"
     ]
    }
   ],
   "source": [
    "slens = [len(st['stops']) for st in all_routes]\n",
    "print(max(slens), np.mean(slens), min(slens))\n",
    "print(len(all_routes))"
   ]
  },
  {
   "cell_type": "code",
   "execution_count": 7,
   "metadata": {},
   "outputs": [
    {
     "name": "stdout",
     "output_type": "stream",
     "text": [
      "/home/ubuntu/traffic/data/avgspeeds-full-ts-xclude/**/*.csv\n",
      "16728\n"
     ]
    }
   ],
   "source": [
    "dpath = '%s/%s/**/*.csv' % (DPATH, SPEEDS)\n",
    "print(dpath)\n",
    "segfiles = glob(dpath)\n",
    "print(len(segfiles))\n",
    "scheck = {}\n",
    "for sf in segfiles:\n",
    "    scheck[fileName(sf)] = True"
   ]
  },
  {
   "cell_type": "code",
   "execution_count": 8,
   "metadata": {},
   "outputs": [],
   "source": [
    "all_segs = []\n",
    "for route in all_routes:\n",
    "    stops = route['stops']\n",
    "    sl = []\n",
    "    for si in range(len(stops) - 1):\n",
    "        sl.append(segkey(stops[si], stops[si+1]))\n",
    "    route['segs'] = sl\n",
    "    all_segs.append(route)"
   ]
  },
  {
   "cell_type": "code",
   "execution_count": 9,
   "metadata": {},
   "outputs": [
    {
     "name": "stdout",
     "output_type": "stream",
     "text": [
      "245\n"
     ]
    }
   ],
   "source": [
    "safe_segs = []\n",
    "for route in all_segs:\n",
    "    segs = route['segs']\n",
    "    if all([entry in scheck for entry in segs]):\n",
    "        safe_segs.append(route)\n",
    "print(len(safe_segs))"
   ]
  },
  {
   "cell_type": "code",
   "execution_count": 10,
   "metadata": {},
   "outputs": [
    {
     "name": "stdout",
     "output_type": "stream",
     "text": [
      "M104_0 ['405374-404919', '404919-404872', '404872-404846', '404846-401239', '401239-405393', '405393-401016', '401016-400747', '400747-403271', '403271-400750', '400750-403103', '403103-403104', '403104-403106', '403106-403107', '403107-403108', '403108-403109', '403109-403110', '403110-403111', '403111-403112', '403112-405248', '405248-403114', '403114-403115', '403115-403116', '403116-405394', '405394-403118', '403118-403119', '403119-404260', '404260-403122', '403122-404262', '404262-403125', '403125-403126', '403126-403127', '403127-401445', '401445-903089']\n"
     ]
    }
   ],
   "source": [
    "print(safe_segs[0]['name'], safe_segs[0]['segs'])"
   ]
  },
  {
   "cell_type": "code",
   "execution_count": 53,
   "metadata": {},
   "outputs": [],
   "source": [
    "for route in safe_segs:\n",
    "    with open('data/routes/%s.txt' % route['name'], 'w') as fl:\n",
    "        fl.write('name,seg\\n')\n",
    "        for seg in route['segs']:\n",
    "            fl.write('%s,%s\\n' % (route['name'], seg))"
   ]
  },
  {
   "cell_type": "code",
   "execution_count": 64,
   "metadata": {},
   "outputs": [
    {
     "name": "stderr",
     "output_type": "stream",
     "text": [
      "100%|██████████| 245/245 [16:24<00:00,  4.02s/it]\n"
     ]
    }
   ],
   "source": [
    "for route in tqdm(safe_segs):\n",
    "    vmat = -np.ones((13248, len(route['segs'])))\n",
    "    for si, seg in enumerate(route['segs']):\n",
    "        with open('%s/%s/%s/%s.csv' % (DPATH, SPEEDS, seg[0], seg)) as fl:\n",
    "            _ = fl.readline() # header\n",
    "            line = fl.readline()\n",
    "            li = 0\n",
    "            while line:\n",
    "                line = line.strip('\\n').split(',')\n",
    "                vel = None if line[1] == '' else float(line[1])\n",
    "                vmat[li, si] = vel\n",
    "                line = fl.readline()\n",
    "                li += 1\n",
    "    savef = 'data/history/%s.npy' % route['name']\n",
    "    np.save(savef, vmat)"
   ]
  },
  {
   "cell_type": "code",
   "execution_count": null,
   "metadata": {},
   "outputs": [],
   "source": []
  }
 ],
 "metadata": {
  "kernelspec": {
   "display_name": "Python 3",
   "language": "python",
   "name": "python3"
  },
  "language_info": {
   "codemirror_mode": {
    "name": "ipython",
    "version": 3
   },
   "file_extension": ".py",
   "mimetype": "text/x-python",
   "name": "python",
   "nbconvert_exporter": "python",
   "pygments_lexer": "ipython3",
   "version": "3.5.2"
  }
 },
 "nbformat": 4,
 "nbformat_minor": 2
}
