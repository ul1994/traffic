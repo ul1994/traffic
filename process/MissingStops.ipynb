{
 "cells": [
  {
   "cell_type": "code",
   "execution_count": 1,
   "metadata": {},
   "outputs": [],
   "source": [
    "%load_ext autoreload\n",
    "%autoreload 2\n",
    "%matplotlib inline"
   ]
  },
  {
   "cell_type": "code",
   "execution_count": 2,
   "metadata": {},
   "outputs": [],
   "source": [
    "import os, sys\n",
    "sys.path.append('..')\n",
    "from glob import glob\n",
    "from configs import *\n",
    "from tqdm import tqdm\n",
    "from utils import *\n",
    "import numpy as np\n",
    "import matplotlib.pyplot as plt\n",
    "from dataset import *\n",
    "from time import time\n",
    "tqdm.monitor_interval = 0\n",
    "import torch\n",
    "import json\n",
    "import torch.nn as nn\n",
    "import numpy as np\n",
    "from time import time, strptime, mktime\n",
    "torch.manual_seed(0)\n",
    "np.random.seed(0)"
   ]
  },
  {
   "cell_type": "code",
   "execution_count": 3,
   "metadata": {},
   "outputs": [
    {
     "name": "stdout",
     "output_type": "stream",
     "text": [
      "90\n"
     ]
    }
   ],
   "source": [
    "dfiles = sorted(glob('../data/next_stops/*.json'))\n",
    "print(len(dfiles))"
   ]
  },
  {
   "cell_type": "code",
   "execution_count": 4,
   "metadata": {},
   "outputs": [
    {
     "name": "stderr",
     "output_type": "stream",
     "text": [
      "100%|██████████| 90/90 [00:06<00:00, 13.96it/s]\n"
     ]
    }
   ],
   "source": [
    "all_adjs = {}\n",
    "for fname in tqdm(dfiles):\n",
    "    with open(fname) as fl:\n",
    "        data = json.load(fl)\n",
    "    \n",
    "#     print(len(data))\n",
    "    for rid, byroute in data.items():\n",
    "        dir, _, rname = rid.split('_')\n",
    "        rid = '%s_%s' % (rname.strip('+'), dir)\n",
    "        if rid not in all_adjs: all_adjs[rid] = {}\n",
    "        for sid, nexts in byroute.items():\n",
    "            if sid not in all_adjs[rid]: all_adjs[rid][sid] = {}\n",
    "            for next_stop, occur in nexts.items():\n",
    "                if next_stop not in all_adjs[rid][sid]: all_adjs[rid][sid][next_stop] = 0\n",
    "                all_adjs[rid][sid][next_stop] += occur\n",
    "#     break"
   ]
  },
  {
   "cell_type": "code",
   "execution_count": 5,
   "metadata": {},
   "outputs": [
    {
     "name": "stdout",
     "output_type": "stream",
     "text": [
      "656\n"
     ]
    }
   ],
   "source": [
    "sfiles = sorted(glob('../data/stopcodes_sequence/*.txt'))\n",
    "print(len(sfiles))"
   ]
  },
  {
   "cell_type": "code",
   "execution_count": 6,
   "metadata": {},
   "outputs": [],
   "source": [
    "raw = lambda ent: 'MTA_' + ent"
   ]
  },
  {
   "cell_type": "code",
   "execution_count": 7,
   "metadata": {},
   "outputs": [],
   "source": [
    "stopcodes = {}\n",
    "for fname in sfiles:\n",
    "    with open(fname) as fl:\n",
    "        stops = fl.read().split('\\n')\n",
    "    stops = [stop for stop in stops if stop]\n",
    "    stopcodes[fileName(fname)] = stops"
   ]
  },
  {
   "cell_type": "code",
   "execution_count": 8,
   "metadata": {},
   "outputs": [],
   "source": [
    "obs_stats = {}\n",
    "for fname, route_hist in all_adjs.items():\n",
    "    if fname not in stopcodes: \n",
    "#         print('Missing:', fname)\n",
    "        continue\n",
    "#     print(fname)\n",
    "    known = stopcodes[fname]\n",
    "    \n",
    "    no_stop = 0\n",
    "    no_seq = 0\n",
    "    for si in range(1, len(known)):\n",
    "        st, ed = known[si-1], known[si]\n",
    "        if raw(st) not in route_hist:\n",
    "            no_stop += 1\n",
    "        elif raw(st) in route_hist:\n",
    "            if raw(ed) not in route_hist[raw(st)]:\n",
    "                no_seq += 1\n",
    "    no_stop = no_stop / len(known)\n",
    "    no_seq = no_seq / len(known)\n",
    "    obs_stats[fname] = (no_stop, no_seq, len(known))\n",
    "#     print(fname, no_stop, no_seq)"
   ]
  },
  {
   "cell_type": "code",
   "execution_count": 9,
   "metadata": {},
   "outputs": [],
   "source": [
    "okeys = list(obs_stats.keys())\n",
    "okeys = sorted(okeys, key=lambda k: (obs_stats[k][0] * 100 + obs_stats[k][1]))"
   ]
  },
  {
   "cell_type": "code",
   "execution_count": 10,
   "metadata": {
    "scrolled": true
   },
   "outputs": [
    {
     "name": "stdout",
     "output_type": "stream",
     "text": [
      "46.2% 0.0% :  [13] M35_1\n",
      "23.8% 4.8% :  [21] M22_0\n",
      "14.3% 14.3% :  [21] M12_1\n",
      "11.9% 9.5% :  [42] M20_0\n",
      "10.3% 13.8% :  [29] M14D_0\n",
      "10.1% 1.4% :  [69] M1_0\n",
      "10.0% 10.0% :  [20] M12_0\n",
      "8.7% 2.9% :  [69] M1_1\n",
      "7.7% 0.0% :  [13] M96_1\n",
      "6.7% 6.7% :  [15] M42_1\n",
      "6.7% 6.7% :  [30] M31_0\n",
      "6.1% 6.1% :  [66] M15_1\n",
      "5.9% 0.0% :  [17] M42_0\n",
      "5.3% 5.3% :  [19] M72_0\n",
      "5.3% 5.3% :  [19] M72_1\n",
      "5.0% 5.0% :  [20] M57_0\n",
      "4.1% 1.4% :  [74] M4_1\n",
      "3.8% 2.6% :  [78] M101_0\n",
      "3.6% 7.1% :  [28] M14A_0\n",
      "3.3% 3.3% :  [61] M5_1\n",
      "3.2% 3.2% :  [31] M9_1\n",
      "1.9% 1.9% :  [54] M103_0\n",
      "1.8% 1.8% :  [57] M7_1\n",
      "1.7% 1.7% :  [60] M102_0\n",
      "1.6% 6.5% :  [62] M15_0\n",
      "1.6% 0.0% :  [62] M5_0\n",
      "0.0% 10.0% :  [10] M35_0\n",
      "0.0% 9.7% :  [31] M14A_1\n",
      "0.0% 4.8% :  [62] M11_0\n",
      "0.0% 2.4% :  [41] M20_1\n",
      "0.0% 1.7% :  [59] M11_1\n",
      "0.0% 0.0% :  [11] M96_0\n",
      "0.0% 0.0% :  [22] M116_1\n",
      "0.0% 0.0% :  [34] M104_0\n",
      "0.0% 0.0% :  [44] M104_1\n",
      "0.0% 0.0% :  [26] M9_0\n",
      "0.0% 0.0% :  [18] M98_0\n",
      "0.0% 0.0% :  [20] M21_1\n",
      "0.0% 0.0% :  [17] M50_0\n",
      "0.0% 0.0% :  [17] M106_1\n",
      "0.0% 0.0% :  [74] M2_1\n",
      "0.0% 0.0% :  [44] M10_0\n",
      "0.0% 0.0% :  [16] M106_0\n",
      "0.0% 0.0% :  [23] M57_1\n",
      "0.0% 0.0% :  [80] M3_0\n",
      "0.0% 0.0% :  [57] M103_1\n",
      "0.0% 0.0% :  [25] M14D_1\n",
      "0.0% 0.0% :  [72] M2_0\n",
      "0.0% 0.0% :  [22] M22_1\n",
      "0.0% 0.0% :  [46] M10_1\n",
      "0.0% 0.0% :  [28] M31_1\n",
      "0.0% 0.0% :  [15] M50_1\n",
      "0.0% 0.0% :  [55] M100_1\n",
      "0.0% 0.0% :  [21] M8_1\n",
      "0.0% 0.0% :  [21] M21_0\n",
      "0.0% 0.0% :  [54] M100_0\n",
      "0.0% 0.0% :  [17] M98_1\n",
      "0.0% 0.0% :  [59] M102_1\n",
      "0.0% 0.0% :  [82] M4_0\n",
      "0.0% 0.0% :  [63] M7_0\n",
      "0.0% 0.0% :  [80] M3_1\n",
      "0.0% 0.0% :  [80] M101_1\n",
      "0.0% 0.0% :  [14] M66_0\n",
      "0.0% 0.0% :  [22] M8_0\n",
      "0.0% 0.0% :  [12] M66_1\n",
      "0.0% 0.0% :  [20] M116_0\n"
     ]
    }
   ],
   "source": [
    "complete = []\n",
    "almost = []\n",
    "for rname in reversed(okeys):\n",
    "    if rname[0] != 'M':\n",
    "        continue\n",
    "    no_stop, no_seq, nk = obs_stats[rname]\n",
    "    if no_stop == 0: complete.append(rname)\n",
    "    if no_stop < 0.15: almost.append(rname)\n",
    "    print('%.1f%% %.1f%% :  [%d] %s' % (no_stop*100, no_seq*100, nk, rname))"
   ]
  },
  {
   "cell_type": "code",
   "execution_count": 11,
   "metadata": {},
   "outputs": [
    {
     "name": "stdout",
     "output_type": "stream",
     "text": [
      "     Complete: 40/428\n",
      "Almost (>85%): 64/428\n"
     ]
    }
   ],
   "source": [
    "print('     Complete: %d/%d' % (len(complete), len(okeys)))\n",
    "print('Almost (>85%%): %d/%d' % (len(almost), len(okeys)))"
   ]
  },
  {
   "cell_type": "code",
   "execution_count": 12,
   "metadata": {},
   "outputs": [
    {
     "data": {
      "text/plain": [
       "'M11_0'"
      ]
     },
     "execution_count": 12,
     "metadata": {},
     "output_type": "execute_result"
    }
   ],
   "source": [
    "rname = complete[2]\n",
    "rname"
   ]
  },
  {
   "cell_type": "code",
   "execution_count": 13,
   "metadata": {},
   "outputs": [
    {
     "name": "stdout",
     "output_type": "stream",
     "text": [
      "M11_0 0.97\n"
     ]
    }
   ],
   "source": [
    "def greedy_skip(stops, nexts):\n",
    "\n",
    "    # for si in range(1, 10):\n",
    "    si = 1\n",
    "    skipped = []\n",
    "    occ = 0\n",
    "    while si < len(stops):\n",
    "        st, ed = stops[si-1], stops[si]\n",
    "    #     if raw(st) in nexts:\n",
    "        skipped.append(st)\n",
    "        if raw(ed) not in nexts[raw(st)]:\n",
    "            observed = nexts[raw(st)]\n",
    "    #             print('Next stop not observed:')\n",
    "    #             print(si, st, ed)\n",
    "    #             print(observed)\n",
    "            smax = max(list(observed.keys()), key=lambda k: observed[k])[4:]\n",
    "    #             print('Best next:', smax)\n",
    "    #             print('Observed:')\n",
    "            occ += observed[raw(smax)]\n",
    "            for ri in range(si, len(stops)):\n",
    "    #                 print(stops[ri], nexts[raw(stops[ri])])\n",
    "                if stops[ri] == smax:\n",
    "                    break\n",
    "            assert ri < len(stops)\n",
    "            si = ri + 1\n",
    "            continue\n",
    "        si += 1\n",
    "    matched = len(skipped)/ len(stops)\n",
    "    \n",
    "    return skipped, matched\n",
    "    # print()\n",
    "stops = stopcodes[rname]\n",
    "nexts = all_adjs[rname]\n",
    "skipped, matched = greedy_skip(stops, nexts)\n",
    "print(rname, '%.2f' % matched)"
   ]
  },
  {
   "cell_type": "code",
   "execution_count": 14,
   "metadata": {
    "scrolled": true
   },
   "outputs": [
    {
     "name": "stdout",
     "output_type": "stream",
     "text": [
      "0 401393 401393\n",
      "1 405420 405420\n",
      "2 405265 405265\n",
      "3 405152 405152\n",
      "4 405151 405151\n",
      "5 404161 404161\n",
      "6 401398 401398\n",
      "7 403802 403802\n",
      "8 401400 401400\n",
      "9 401401 401401\n",
      "10 401402 401402\n",
      "11 401404 401404\n",
      "12 404279 404279\n",
      "13 401407 401407\n",
      "14 401408 401408\n",
      "15 401409 401409\n",
      "16 401410 401410\n",
      "17 401411 401411\n",
      "18 401412 401412\n",
      "19 401413 401413\n",
      "20 401414 401414\n",
      "21 401416 401416\n",
      "22 401417 401417\n",
      "23 403472 403472\n",
      "24 403555 403555\n",
      "25 401021 401021\n",
      "26 401022 401022\n",
      "27 401023 401023\n",
      "28 401024 401024\n",
      "29 401025 401025\n",
      "30 401026 401026\n",
      "31 401027 401027\n",
      "32 404320 404320\n",
      "33 401029 401029\n",
      "34 401030 401030\n",
      "35 401031 401031\n",
      "36 401032 401032\n",
      "37 401033 401033\n",
      "38 401034 401034\n",
      "39 401035 401035\n",
      "40 401435 401435\n",
      "41 401436 401436\n",
      "42 401438 401438\n",
      "43 403886 403886\n",
      "44 401440 401440\n",
      "45 401441 401441\n",
      "46 401442 401442\n",
      "47 401443 401443\n",
      "48 403292 403292\n",
      "49 401444 401444\n",
      "50 401446 401446\n",
      "51 401447 401447\n",
      "52 403757 403757\n",
      "53 404011 404011\n",
      "54 404012 404012\n",
      "55 404013 404013\n",
      "56 404056 404056\n",
      "57 404014 404014\n",
      "58 404015 404015\n",
      "59 404147\n",
      "60 903210 903210\n",
      "61 903092\n"
     ]
    }
   ],
   "source": [
    "def show_matches(skipped, stops):\n",
    "    ii = 0\n",
    "    for si, stop in enumerate(stops):\n",
    "\n",
    "        ci = ii\n",
    "        while ci < len(skipped):\n",
    "            if stop == skipped[ci]:\n",
    "                break\n",
    "            ci += 1\n",
    "\n",
    "        if ci == len(skipped):\n",
    "            # not found\n",
    "            print(si, stop)\n",
    "            continue\n",
    "        else:\n",
    "            print(si, stop, skipped[ci])\n",
    "            ii = ci\n",
    "show_matches(skipped, stops)"
   ]
  },
  {
   "cell_type": "code",
   "execution_count": 142,
   "metadata": {},
   "outputs": [],
   "source": [
    "for rname in complete:\n",
    "    stops = stopcodes[rname]\n",
    "    nexts = all_adjs[rname]\n",
    "    skipped, mscore = greedy_skip(stops, nexts)\n",
    "#     print('%.1f%%' % (mscore * 100), rname, '[%d]' % len(stops))\n",
    "    with open('../data/common_stops/%s.txt' % rname, 'w') as fl:\n",
    "        fl.write('\\n'.join(skipped))\n",
    "#     show_matches(skipped, stops)\n",
    "#     break"
   ]
  },
  {
   "cell_type": "code",
   "execution_count": null,
   "metadata": {},
   "outputs": [],
   "source": []
  }
 ],
 "metadata": {
  "kernelspec": {
   "display_name": "Python 3",
   "language": "python",
   "name": "python3"
  },
  "language_info": {
   "codemirror_mode": {
    "name": "ipython",
    "version": 3
   },
   "file_extension": ".py",
   "mimetype": "text/x-python",
   "name": "python",
   "nbconvert_exporter": "python",
   "pygments_lexer": "ipython3",
   "version": "3.5.2"
  }
 },
 "nbformat": 4,
 "nbformat_minor": 2
}
