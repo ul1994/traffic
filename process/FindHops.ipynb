{
 "cells": [
  {
   "cell_type": "code",
   "execution_count": 1,
   "metadata": {},
   "outputs": [],
   "source": [
    "%load_ext autoreload\n",
    "%autoreload 2\n",
    "%matplotlib inline"
   ]
  },
  {
   "cell_type": "markdown",
   "metadata": {},
   "source": [
    "### Saves local subgraphs from the larger traffic graph for hops 1...10"
   ]
  },
  {
   "cell_type": "code",
   "execution_count": 2,
   "metadata": {},
   "outputs": [],
   "source": [
    "import os, sys\n",
    "sys.path.append('..')\n",
    "from glob import glob\n",
    "from configs import *\n",
    "from tqdm import tqdm_notebook as tqdm\n",
    "# from tqdm.auto import tqdm\n",
    "# tqdm.monitor_interval = 0\n",
    "from utils import *\n",
    "import numpy as np\n",
    "from time import time\n",
    "import json\n",
    "import numpy as np\n",
    "from time import time, strptime, mktime\n",
    "import matplotlib.pyplot as plt\n",
    "import cv2\n",
    "from time import sleep"
   ]
  },
  {
   "cell_type": "code",
   "execution_count": 3,
   "metadata": {},
   "outputs": [],
   "source": [
    "with open('../data/man.json') as fl:\n",
    "    vs, adjlist = json.load(fl)"
   ]
  },
  {
   "cell_type": "code",
   "execution_count": 4,
   "metadata": {},
   "outputs": [
    {
     "name": "stdout",
     "output_type": "stream",
     "text": [
      "684\n",
      "684\n"
     ]
    }
   ],
   "source": [
    "print(len(vs))\n",
    "print(len(adjlist))"
   ]
  },
  {
   "cell_type": "code",
   "execution_count": 5,
   "metadata": {
    "scrolled": false
   },
   "outputs": [
    {
     "name": "stdout",
     "output_type": "stream",
     "text": [
      "1 100.0%\n"
     ]
    },
    {
     "name": "stderr",
     "output_type": "stream",
     "text": [
      "100%|██████████| 684/684 [00:11<00:00, 58.91it/s]\n"
     ]
    },
    {
     "name": "stdout",
     "output_type": "stream",
     "text": [
      "2 99.6%\n"
     ]
    },
    {
     "name": "stderr",
     "output_type": "stream",
     "text": [
      "100%|██████████| 681/681 [00:12<00:00, 56.27it/s]\n"
     ]
    },
    {
     "name": "stdout",
     "output_type": "stream",
     "text": [
      "3 98.5%\n"
     ]
    },
    {
     "name": "stderr",
     "output_type": "stream",
     "text": [
      "100%|██████████| 674/674 [00:12<00:00, 53.77it/s]\n"
     ]
    },
    {
     "name": "stdout",
     "output_type": "stream",
     "text": [
      "4 97.7%\n"
     ]
    },
    {
     "name": "stderr",
     "output_type": "stream",
     "text": [
      "100%|██████████| 668/668 [00:12<00:00, 52.94it/s]\n"
     ]
    },
    {
     "name": "stdout",
     "output_type": "stream",
     "text": [
      "5 97.2%\n"
     ]
    },
    {
     "name": "stderr",
     "output_type": "stream",
     "text": [
      "100%|██████████| 665/665 [00:13<00:00, 50.51it/s]\n"
     ]
    },
    {
     "name": "stdout",
     "output_type": "stream",
     "text": [
      "6 96.6%\n"
     ]
    },
    {
     "name": "stderr",
     "output_type": "stream",
     "text": [
      "100%|██████████| 661/661 [00:13<00:00, 49.09it/s]\n"
     ]
    },
    {
     "name": "stdout",
     "output_type": "stream",
     "text": [
      "7 95.6%\n"
     ]
    },
    {
     "name": "stderr",
     "output_type": "stream",
     "text": [
      "100%|██████████| 654/654 [00:13<00:00, 47.81it/s]\n"
     ]
    },
    {
     "name": "stdout",
     "output_type": "stream",
     "text": [
      "8 94.3%\n"
     ]
    },
    {
     "name": "stderr",
     "output_type": "stream",
     "text": [
      "100%|██████████| 645/645 [00:14<00:00, 45.71it/s]\n"
     ]
    },
    {
     "name": "stdout",
     "output_type": "stream",
     "text": [
      "9 92.5%\n"
     ]
    },
    {
     "name": "stderr",
     "output_type": "stream",
     "text": [
      "100%|██████████| 633/633 [00:14<00:00, 43.78it/s]\n"
     ]
    },
    {
     "name": "stdout",
     "output_type": "stream",
     "text": [
      "10 90.9%\n"
     ]
    },
    {
     "name": "stderr",
     "output_type": "stream",
     "text": [
      "100%|██████████| 622/622 [00:14<00:00, 42.65it/s]\n"
     ]
    }
   ],
   "source": [
    "def subgraph(selected, vs, adj):\n",
    "    subadj = {}\n",
    "    for vert in selected:\n",
    "        subadj[vert] = [v for v in adj[vert] if v in selected]\n",
    "        \n",
    "    return selected, subadj\n",
    "\n",
    "def find_hops(hops, vs, adj):\n",
    "    graphs = []\n",
    "    cvs, cadj = complete_graph(vs, adj)\n",
    "    \n",
    "    for ri, root in enumerate(cvs):\n",
    "        # search h-hops for each root\n",
    "        visited = {}\n",
    "        queue = [root]\n",
    "        depth = {}\n",
    "        depth[root] = 0\n",
    "        exceeded = False\n",
    "        \n",
    "        maxd = 0\n",
    "        while len(queue):\n",
    "            head = queue.pop(0)\n",
    "            visited[head] = True\n",
    "            if depth[head] > maxd:\n",
    "                maxd = depth[head]\n",
    "            \n",
    "            if depth[head] < hops:\n",
    "                has_children = False\n",
    "                \n",
    "                for child in cadj[head]:\n",
    "                    if child not in visited:\n",
    "                        has_children = True\n",
    "                        \n",
    "                        queue.append(child)\n",
    "                        depth[child] = depth[head] + 1\n",
    "#                 if not has_children:\n",
    "#                     exceeded = True\n",
    "#                     break\n",
    "        \n",
    "#         if not exceeded:\n",
    "        if maxd == hops:\n",
    "            # if reached n-hops\n",
    "            verts = [root]\n",
    "            for vert in visited.keys(): \n",
    "                if vert not in verts: verts.append(vert)\n",
    "            graphs.append((\n",
    "                subgraph(verts, vs, adj), \n",
    "                depth\n",
    "            ))\n",
    "    \n",
    "    \n",
    "    return graphs\n",
    "    \n",
    "# for hops in range(1, 3):\n",
    "for hops in range(1, 11):\n",
    "    with open('../data/man.json') as fl:\n",
    "        vs, adjlist = json.load(fl)\n",
    "    h_graphs = find_hops(hops, vs, adjlist)\n",
    "    \n",
    "    rvs = len(h_graphs) / len(vs)\n",
    "    \n",
    "    print(hops, '%.1f%%' % (rvs * 100))\n",
    "    sleep(1)\n",
    "    \n",
    "    if not os.path.isdir('images/hop_%d' % hops):\n",
    "        os.mkdir('images/hop_%d' % hops)\n",
    "    \n",
    "    for ((iv, ia), depth) in tqdm(h_graphs):\n",
    "        dlabel = lambda ent: '%d:%s' % (depth[ent], ent[0] + ent[-2:])\n",
    "        gobj = show_graph(iv, ia, vdesc=dlabel)\n",
    "        imname = 'images/hop_%d/%s_%d' % (hops, iv[0], hops)\n",
    "        gobj.render(imname)\n",
    "        \n",
    "#         if iv[0] == '400950-400951':\n",
    "        with open('../data/graphs/%s_n%d.json' % (iv[0], hops), 'w') as fl:\n",
    "            json.dump([\n",
    "                iv,\n",
    "                ia\n",
    "            ], fl, indent=4)\n",
    "            \n",
    "        \n",
    "#         if iv[0] == '400258-400259':\n",
    "#             gobj.render('images/samples/sample_%d' % hops)\n",
    "        "
   ]
  },
  {
   "cell_type": "code",
   "execution_count": 6,
   "metadata": {},
   "outputs": [
    {
     "name": "stdout",
     "output_type": "stream",
     "text": [
      "15\n"
     ]
    }
   ],
   "source": [
    "# with open('../data/graphs/400950-400951_n5.json') as fl:\n",
    "#     lvs, ladjs = json.load(fl)\n",
    "# print(len(lvs))\n",
    "\n",
    "# with open('../data/manh_stops.json', 'w') as fl:\n",
    "#     json.dump(lvs, fl, indent=4)"
   ]
  },
  {
   "cell_type": "code",
   "execution_count": 12,
   "metadata": {},
   "outputs": [
    {
     "name": "stdout",
     "output_type": "stream",
     "text": [
      "684\n"
     ]
    }
   ],
   "source": [
    "all_segs = {}\n",
    "for fname in glob('../data/graphs/*.json'):\n",
    "    with open(fname) as fl:\n",
    "        lvs, _ = json.load(fl)\n",
    "    for vert in lvs:\n",
    "        all_segs[vert] = True\n",
    "        \n",
    "print(len(all_segs))\n",
    "\n",
    "with open('../data/manh_stops.json', 'w') as fl:\n",
    "    json.dump(list(all_segs.keys()), fl, indent=4)"
   ]
  },
  {
   "cell_type": "code",
   "execution_count": null,
   "metadata": {},
   "outputs": [],
   "source": []
  }
 ],
 "metadata": {
  "kernelspec": {
   "display_name": "Python 3",
   "language": "python",
   "name": "python3"
  },
  "language_info": {
   "codemirror_mode": {
    "name": "ipython",
    "version": 3
   },
   "file_extension": ".py",
   "mimetype": "text/x-python",
   "name": "python",
   "nbconvert_exporter": "python",
   "pygments_lexer": "ipython3",
   "version": "3.5.2"
  }
 },
 "nbformat": 4,
 "nbformat_minor": 2
}
