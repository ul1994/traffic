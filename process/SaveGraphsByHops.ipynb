{
 "cells": [
  {
   "cell_type": "code",
   "execution_count": 1,
   "metadata": {},
   "outputs": [],
   "source": [
    "%load_ext autoreload\n",
    "%autoreload 2\n",
    "%matplotlib inline"
   ]
  },
  {
   "cell_type": "markdown",
   "metadata": {},
   "source": [
    "### Saves local subgraphs from the larger traffic graph for hops 1...10"
   ]
  },
  {
   "cell_type": "code",
   "execution_count": 2,
   "metadata": {},
   "outputs": [],
   "source": [
    "import os, sys\n",
    "sys.path.append('..')\n",
    "from glob import glob\n",
    "from configs import *\n",
    "from tqdm import tqdm_notebook as tqdm\n",
    "# from tqdm.auto import tqdm\n",
    "# tqdm.monitor_interval = 0\n",
    "from utils import *\n",
    "import numpy as np\n",
    "from time import time\n",
    "import json\n",
    "import numpy as np\n",
    "from time import time, strptime, mktime\n",
    "import matplotlib.pyplot as plt\n",
    "import cv2\n",
    "from time import sleep"
   ]
  },
  {
   "cell_type": "code",
   "execution_count": 15,
   "metadata": {},
   "outputs": [],
   "source": [
    "with open('../data/man.json') as fl:\n",
    "    vs, adjlist = json.load(fl)"
   ]
  },
  {
   "cell_type": "code",
   "execution_count": 16,
   "metadata": {},
   "outputs": [
    {
     "name": "stdout",
     "output_type": "stream",
     "text": [
      "684\n",
      "684\n"
     ]
    }
   ],
   "source": [
    "print(len(vs))\n",
    "print(len(adjlist))"
   ]
  },
  {
   "cell_type": "code",
   "execution_count": 32,
   "metadata": {
    "scrolled": false
   },
   "outputs": [
    {
     "name": "stdout",
     "output_type": "stream",
     "text": [
      "1 90.9%\n"
     ]
    },
    {
     "name": "stderr",
     "output_type": "stream",
     "text": [
      "100%|██████████| 622/622 [00:10<00:00, 57.54it/s]\n"
     ]
    },
    {
     "name": "stdout",
     "output_type": "stream",
     "text": [
      "2 83.6%\n"
     ]
    },
    {
     "name": "stderr",
     "output_type": "stream",
     "text": [
      "100%|██████████| 572/572 [00:10<00:00, 56.42it/s]\n"
     ]
    },
    {
     "name": "stdout",
     "output_type": "stream",
     "text": [
      "3 77.2%\n"
     ]
    },
    {
     "name": "stderr",
     "output_type": "stream",
     "text": [
      "100%|██████████| 528/528 [00:09<00:00, 53.09it/s]\n"
     ]
    },
    {
     "name": "stdout",
     "output_type": "stream",
     "text": [
      "4 71.2%\n"
     ]
    },
    {
     "name": "stderr",
     "output_type": "stream",
     "text": [
      "100%|██████████| 487/487 [00:09<00:00, 52.02it/s]\n"
     ]
    },
    {
     "name": "stdout",
     "output_type": "stream",
     "text": [
      "5 65.6%\n"
     ]
    },
    {
     "name": "stderr",
     "output_type": "stream",
     "text": [
      "100%|██████████| 449/449 [00:08<00:00, 50.68it/s]\n"
     ]
    },
    {
     "name": "stdout",
     "output_type": "stream",
     "text": [
      "6 60.7%\n"
     ]
    },
    {
     "name": "stderr",
     "output_type": "stream",
     "text": [
      "100%|██████████| 415/415 [00:08<00:00, 48.98it/s]\n"
     ]
    },
    {
     "name": "stdout",
     "output_type": "stream",
     "text": [
      "7 56.3%\n"
     ]
    },
    {
     "name": "stderr",
     "output_type": "stream",
     "text": [
      "100%|██████████| 385/385 [00:08<00:00, 47.02it/s]\n"
     ]
    },
    {
     "name": "stdout",
     "output_type": "stream",
     "text": [
      "8 52.2%\n"
     ]
    },
    {
     "name": "stderr",
     "output_type": "stream",
     "text": [
      "100%|██████████| 357/357 [00:07<00:00, 45.66it/s]\n"
     ]
    },
    {
     "name": "stdout",
     "output_type": "stream",
     "text": [
      "9 48.4%\n"
     ]
    },
    {
     "name": "stderr",
     "output_type": "stream",
     "text": [
      "100%|██████████| 331/331 [00:07<00:00, 44.65it/s]\n"
     ]
    },
    {
     "name": "stdout",
     "output_type": "stream",
     "text": [
      "10 44.9%\n"
     ]
    },
    {
     "name": "stderr",
     "output_type": "stream",
     "text": [
      "100%|██████████| 307/307 [00:07<00:00, 42.69it/s]\n"
     ]
    }
   ],
   "source": [
    "def find_hops(hops, vs, adj):\n",
    "    graphs = []\n",
    "    cvs, cadj = complete_graph(vs, adj)\n",
    "    \n",
    "    for ri, root in enumerate(cvs):\n",
    "        # search h-hops for each root\n",
    "        visited = {}\n",
    "        queue = [root]\n",
    "        depth = {}\n",
    "        depth[root] = 0\n",
    "        exceeded = False\n",
    "        \n",
    "        maxd = 0\n",
    "        while len(queue):\n",
    "            head = queue.pop(0)\n",
    "            visited[head] = True\n",
    "            if depth[head] > maxd:\n",
    "                maxd = depth[head]\n",
    "            \n",
    "            if depth[head] < hops:\n",
    "                has_children = False\n",
    "                \n",
    "                for child in cadj[head]:\n",
    "                    if child not in visited:\n",
    "                        has_children = True\n",
    "                        \n",
    "                        queue.append(child)\n",
    "                        depth[child] = depth[head] + 1\n",
    "                if not has_children:\n",
    "                    exceeded = True\n",
    "                    break\n",
    "        \n",
    "#         if not exceeded:\n",
    "        if root == '403487-403488' and hops == 2:\n",
    "            print(depth, exceeded, visited)\n",
    "        if exceeded:\n",
    "            continue\n",
    "        if maxd == hops:\n",
    "            # if reached n-hops\n",
    "            verts = [root]\n",
    "            for vert in visited.keys(): \n",
    "                if vert not in verts: verts.append(vert)\n",
    "            graphs.append((\n",
    "                subgraph(verts, vs, adj), \n",
    "                depth\n",
    "            ))\n",
    "    \n",
    "    \n",
    "    return graphs\n",
    "\n",
    "from utils import *\n",
    "\n",
    "# for hops in range(1, 3):\n",
    "for hops in range(1, 11):\n",
    "    with open('../data/man.json') as fl:\n",
    "        vs, adjlist = json.load(fl)\n",
    "#     h_graphs = find_hops(hops, vs, adjlist)\n",
    "    h_graphs = find_hops_2way(hops, vs, adjlist)\n",
    "    \n",
    "    rvs = len(h_graphs) / len(vs)\n",
    "    \n",
    "    print(hops, '%.1f%%' % (rvs * 100))\n",
    "    sleep(1)\n",
    "    \n",
    "    if not os.path.isdir('images/hop_%d' % hops):\n",
    "        os.mkdir('images/hop_%d' % hops)\n",
    "    \n",
    "    for ((iv, ia), depth) in tqdm(h_graphs):\n",
    "        dlabel = lambda ent: '%d:%s' % (depth[ent], ent[0] + ent[-2:])\n",
    "        gobj = show_graph(iv, ia, vdesc=dlabel)\n",
    "        imname = 'images/hop_%d/%s_%d' % (hops, iv[0], hops)\n",
    "        gobj.render(imname)\n",
    "        \n",
    "#         if iv[0] == '403487-403488':\n",
    "#             print(len(iv))\n",
    "        with open('../data/graphs/%s_n%d.json' % (iv[0], hops), 'w') as fl:\n",
    "            json.dump([\n",
    "                iv,\n",
    "                ia\n",
    "            ], fl, indent=4)\n",
    "            \n",
    "        \n",
    "#         if iv[0] == '400258-400259':\n",
    "#             gobj.render('images/samples/sample_%d' % hops)\n",
    "# 1 95.8%\n",
    "# 2 92.0%\n",
    "# 3 88.3%\n",
    "# 4 85.2%\n",
    "# 5 82.6%\n",
    "# 6 80.1%\n",
    "# 7 77.6%\n",
    "# 8 75.1%\n",
    "# 9 72.5%\n",
    "# 10 70.2%"
   ]
  },
  {
   "cell_type": "code",
   "execution_count": 6,
   "metadata": {},
   "outputs": [
    {
     "name": "stdout",
     "output_type": "stream",
     "text": [
      "15\n"
     ]
    }
   ],
   "source": [
    "# with open('../data/graphs/400950-400951_n5.json') as fl:\n",
    "#     lvs, ladjs = json.load(fl)\n",
    "# print(len(lvs))\n",
    "\n",
    "# with open('../data/manh_stops.json', 'w') as fl:\n",
    "#     json.dump(lvs, fl, indent=4)"
   ]
  },
  {
   "cell_type": "code",
   "execution_count": 33,
   "metadata": {},
   "outputs": [
    {
     "name": "stdout",
     "output_type": "stream",
     "text": [
      "682\n"
     ]
    }
   ],
   "source": [
    "all_segs = {}\n",
    "for fname in glob('../data/graphs/*.json'):\n",
    "    with open(fname) as fl:\n",
    "        lvs, _ = json.load(fl)\n",
    "    for vert in lvs:\n",
    "        all_segs[vert] = True\n",
    "        \n",
    "print(len(all_segs))\n",
    "\n",
    "# with open('../data/manh_stops.json', 'w') as fl:\n",
    "#     json.dump(list(all_segs.keys()), fl, indent=4)"
   ]
  },
  {
   "cell_type": "markdown",
   "metadata": {},
   "source": [
    "### Track a subsample for smaller testing"
   ]
  },
  {
   "cell_type": "code",
   "execution_count": 34,
   "metadata": {},
   "outputs": [
    {
     "name": "stdout",
     "output_type": "stream",
     "text": [
      "622\n"
     ]
    }
   ],
   "source": [
    "roots = {}\n",
    "for fname in glob('../data/graphs/*.json'):\n",
    "    root = fname.split('/')[-1][:-5].split('_n')[0]\n",
    "    if root not in roots: roots[root] = []\n",
    "    roots[root].append(fname)\n",
    "#     with open(fname) as fl:\n",
    "#         lvs, _ = json.load(fl)\n",
    "#     for vert in lvs:\n",
    "#         all_segs[vert] = True\n",
    "# all_segs = list(all_segs.keys())\n",
    "print(len(roots))"
   ]
  },
  {
   "cell_type": "code",
   "execution_count": 35,
   "metadata": {},
   "outputs": [
    {
     "data": {
      "text/plain": [
       "307"
      ]
     },
     "execution_count": 35,
     "metadata": {},
     "output_type": "execute_result"
    }
   ],
   "source": [
    "has_n10 = [seg for seg in roots.keys() if any(['_n10' in fname for fname in roots[seg]])]\n",
    "len(has_n10)"
   ]
  },
  {
   "cell_type": "code",
   "execution_count": 36,
   "metadata": {},
   "outputs": [
    {
     "data": {
      "text/plain": [
       "304"
      ]
     },
     "execution_count": 36,
     "metadata": {},
     "output_type": "execute_result"
    }
   ],
   "source": [
    "fours = [seg for seg in has_n10 if seg[0] == '4']\n",
    "len(fours)"
   ]
  },
  {
   "cell_type": "code",
   "execution_count": 37,
   "metadata": {},
   "outputs": [],
   "source": [
    "from random import shuffle\n",
    "inds = [ii for ii in range(len(fours))]\n",
    "shuffle(inds)"
   ]
  },
  {
   "cell_type": "code",
   "execution_count": 38,
   "metadata": {},
   "outputs": [],
   "source": [
    "with open('../data/subset.txt', 'w') as fl:\n",
    "    fl.write('\\n'.join([fours[ind] for ind in inds[:19]]))"
   ]
  },
  {
   "cell_type": "code",
   "execution_count": 39,
   "metadata": {},
   "outputs": [
    {
     "data": {
      "text/plain": [
       "['404171-402838',\n",
       " '400860-400861',\n",
       " '401264-401265',\n",
       " '403159-403160',\n",
       " '401271-401272',\n",
       " '404029-403870',\n",
       " '400118-400119',\n",
       " '401036-401037',\n",
       " '401460-402653',\n",
       " '401459-401460',\n",
       " '402626-400808',\n",
       " '400461-400462',\n",
       " '401331-401333',\n",
       " '403160-403161',\n",
       " '403116-405394',\n",
       " '402805-405057',\n",
       " '400516-405179',\n",
       " '401182-401183',\n",
       " '402819-404947']"
      ]
     },
     "execution_count": 39,
     "metadata": {},
     "output_type": "execute_result"
    }
   ],
   "source": [
    "[fours[ind] for ind in inds[:19]]"
   ]
  },
  {
   "cell_type": "code",
   "execution_count": null,
   "metadata": {},
   "outputs": [],
   "source": []
  }
 ],
 "metadata": {
  "kernelspec": {
   "display_name": "Python 3",
   "language": "python",
   "name": "python3"
  },
  "language_info": {
   "codemirror_mode": {
    "name": "ipython",
    "version": 3
   },
   "file_extension": ".py",
   "mimetype": "text/x-python",
   "name": "python",
   "nbconvert_exporter": "python",
   "pygments_lexer": "ipython3",
   "version": "3.5.2"
  }
 },
 "nbformat": 4,
 "nbformat_minor": 2
}
