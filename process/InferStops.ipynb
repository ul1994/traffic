{
 "cells": [
  {
   "cell_type": "code",
   "execution_count": 1,
   "metadata": {},
   "outputs": [],
   "source": [
    "%load_ext autoreload\n",
    "%autoreload 2\n",
    "%matplotlib inline"
   ]
  },
  {
   "cell_type": "code",
   "execution_count": 3,
   "metadata": {},
   "outputs": [],
   "source": [
    "import os, sys\n",
    "sys.path.append('..')\n",
    "from glob import glob\n",
    "from configs import *\n",
    "from tqdm import tqdm\n",
    "from utils import *\n",
    "import numpy as np\n",
    "import matplotlib.pyplot as plt\n",
    "from dataset import *\n",
    "from time import time\n",
    "tqdm.monitor_interval = 0\n",
    "import torch\n",
    "import json\n",
    "import torch.nn as nn\n",
    "import numpy as np\n",
    "from time import time, strptime, mktime\n",
    "torch.manual_seed(0)\n",
    "np.random.seed(0)"
   ]
  },
  {
   "cell_type": "code",
   "execution_count": 4,
   "metadata": {},
   "outputs": [],
   "source": [
    "sample_file = '/home/ubuntu/datasets-aux/MTA-Bus-Time_.2014-10-30.txt'"
   ]
  },
  {
   "cell_type": "code",
   "execution_count": 5,
   "metadata": {},
   "outputs": [
    {
     "name": "stdout",
     "output_type": "stream",
     "text": [
      "Collected 3827194/5503372\n"
     ]
    }
   ],
   "source": [
    "def collect(byf, fname, verbose=True):\n",
    "    res = []\n",
    "    li = 0\n",
    "    added = 0\n",
    "    with open('/home/ubuntu/datasets-aux/MTA-Bus-Time_.2014-10-30.txt') as fl:\n",
    "        _ = fl.readline()\n",
    "        line = fl.readline()\n",
    "        while line:\n",
    "            if 'NULL' not in line and 'IN_PROGRESS' in line:\n",
    "                obj = byf(line)\n",
    "                if obj is not None:\n",
    "                    res.append(obj)\n",
    "                    added += 1\n",
    "            line = fl.readline()\n",
    "            li += 1\n",
    "            if li % 10000 == 0 and verbose:\n",
    "                sys.stdout.write('%d       \\r' % li)\n",
    "        if verbose: sys.stdout.flush()\n",
    "    if verbose: print('Collected %d/%d' % (added, li))\n",
    "    return res\n",
    "\n",
    "def by(line):\n",
    "#     if root in line:\n",
    "    try:\n",
    "        fobj = fmt(line)\n",
    "        bus_id = fobj['routeid'].split('_')[1]\n",
    "        if 'X' not in bus_id:\n",
    "            return fobj\n",
    "    except:\n",
    "        print(line)\n",
    "        assert False\n",
    "    return None\n",
    "\n",
    "raw_seghist = collect(by, sample_file)"
   ]
  },
  {
   "cell_type": "code",
   "execution_count": 6,
   "metadata": {},
   "outputs": [
    {
     "name": "stdout",
     "output_type": "stream",
     "text": [
      "3827194\n"
     ]
    }
   ],
   "source": [
    "print(len(raw_seghist))"
   ]
  },
  {
   "cell_type": "code",
   "execution_count": 228,
   "metadata": {
    "scrolled": true
   },
   "outputs": [
    {
     "name": "stdout",
     "output_type": "stream",
     "text": [
      "231\n"
     ]
    }
   ],
   "source": [
    "byroute = group(raw_seghist, 'routeid')\n",
    "print(len(byroute.keys()))"
   ]
  },
  {
   "cell_type": "code",
   "execution_count": 8,
   "metadata": {},
   "outputs": [
    {
     "name": "stdout",
     "output_type": "stream",
     "text": [
      "12719\n",
      "['402644', '306665', '300529', '405155', '307819']\n"
     ]
    }
   ],
   "source": [
    "scodes = {}\n",
    "for stop in raw_seghist:\n",
    "    scode = stop['stop'].split('_')[1]\n",
    "    scodes[scode] = True\n",
    "print(len(scodes.keys()))\n",
    "print(list(scodes.keys())[:5])"
   ]
  },
  {
   "cell_type": "code",
   "execution_count": 181,
   "metadata": {},
   "outputs": [
    {
     "name": "stdout",
     "output_type": "stream",
     "text": [
      "3582\n"
     ]
    }
   ],
   "source": [
    "bybus = group(raw_seghist, 'busid')\n",
    "print(len(bybus.keys()))"
   ]
  },
  {
   "cell_type": "code",
   "execution_count": 126,
   "metadata": {},
   "outputs": [
    {
     "data": {
      "text/plain": [
       "{'busid': '3666',\n",
       " 'direction': 0,\n",
       " 'dist': 7784.000404746534,\n",
       " 'phase': True,\n",
       " 'routeid': 'MTABC_Q111',\n",
       " 'stop': 'MTA_552345',\n",
       " 'time': time.struct_time(tm_year=2014, tm_mon=10, tm_mday=30, tm_hour=4, tm_min=0, tm_sec=1, tm_wday=3, tm_yday=303, tm_isdst=-1)}"
      ]
     },
     "execution_count": 126,
     "metadata": {},
     "output_type": "execute_result"
    }
   ],
   "source": [
    "raw_seghist[0]"
   ]
  },
  {
   "cell_type": "code",
   "execution_count": 246,
   "metadata": {
    "scrolled": false
   },
   "outputs": [
    {
     "name": "stdout",
     "output_type": "stream",
     "text": [
      "231\n"
     ]
    }
   ],
   "source": [
    "def next_stops(travel, adj={}):\n",
    "    prevseg = None\n",
    "    prev = travel[0]\n",
    "    \n",
    "    for _, stop in enumerate(travel[1:]):\n",
    "        if stop['stop'] != prev['stop']:\n",
    "            if np.abs(prev['dist'] - stop['dist']) > 2.5 * 1000:\n",
    "                # sensor reset? or loop-around... either way unreliable\n",
    "                # should be okay to ignore when inferring stops from lots of data\n",
    "                pass\n",
    "            elif stop['time'] - prev['time'] > 60 * 60:\n",
    "                # skip if >1hr difference\n",
    "                pass\n",
    "            else:\n",
    "                if prev['stop'] not in adj: adj[prev['stop']] = {}\n",
    "                if stop['stop'] not in adj[prev['stop']]: adj[prev['stop']][stop['stop']] = []\n",
    "                adj[prev['stop']][stop['stop']].append((prev, stop))\n",
    "            prev = stop\n",
    "#             pdist = stop['dist']\n",
    "#     return adj\n",
    "\n",
    "byroute = group(raw_seghist, 'routeid')\n",
    "print(len(byroute.keys()))\n",
    "\n",
    "route_adjs = {}\n",
    "for rid, route in byroute.items():\n",
    "# for rid, route in tqdm(byroute.items()):\n",
    "    \n",
    "\n",
    "    bydir = group(route, 'direction')\n",
    "    for dir, direction in bydir.items():\n",
    "        adj = {}\n",
    "        bytravel = group(direction, 'busid', kf=lambda key: key.replace('+', ''))\n",
    "        for bid, travel in bytravel.items():\n",
    "            next_stops(travel, adj)\n",
    "\n",
    "#         print(dir, rid, len(bytravel.keys()), len(adj))\n",
    "\n",
    "        route_adjs['%d_%s' % (dir, rid)] = adj"
   ]
  },
  {
   "cell_type": "code",
   "execution_count": 247,
   "metadata": {},
   "outputs": [
    {
     "name": "stdout",
     "output_type": "stream",
     "text": [
      "80\n",
      "MTA_903148 3 17080.51000699644 17098.10616502553\n"
     ]
    }
   ],
   "source": [
    "print(len(route_adjs['1_MTA NYCT_M101']))\n",
    "# route_adjs['1_MTA NYCT_M101']\n",
    "for next, ls in route_adjs['1_MTA NYCT_M101']['MTA_903147'].items():\n",
    "    print(next, len(ls), ls[0][1]['dist'], ls[0][0]['dist'])"
   ]
  },
  {
   "cell_type": "code",
   "execution_count": 36,
   "metadata": {},
   "outputs": [],
   "source": [
    "sname = '../data/next_stops/%s.json' % sample_file.split('.')[1]\n",
    "\n",
    "with open(sname, 'w') as fl:\n",
    "    json.dump(route_adjs, fl)"
   ]
  },
  {
   "cell_type": "markdown",
   "metadata": {},
   "source": [
    "### Gathering data"
   ]
  },
  {
   "cell_type": "code",
   "execution_count": 217,
   "metadata": {},
   "outputs": [
    {
     "name": "stdout",
     "output_type": "stream",
     "text": [
      "90\n"
     ]
    }
   ],
   "source": [
    "dfiles = sorted(glob('../data/next_stops/*.json'))\n",
    "print(len(dfiles))"
   ]
  },
  {
   "cell_type": "code",
   "execution_count": 218,
   "metadata": {},
   "outputs": [],
   "source": [
    "all_adjs = {}\n",
    "for fname in dfiles:\n",
    "    with open(fname) as fl:\n",
    "        data = json.load(fl)\n",
    "    \n",
    "#     print(len(data))\n",
    "    for rid, byroute in data.items():\n",
    "        if rid not in all_adjs: all_adjs[rid] = {}\n",
    "        for sid, nexts in byroute.items():\n",
    "            if sid not in all_adjs[rid]: all_adjs[rid][sid] = {}\n",
    "            for next_stop, occur in nexts.items():\n",
    "                if next_stop not in all_adjs[rid][sid]: all_adjs[rid][sid][next_stop] = 0\n",
    "                all_adjs[rid][sid][next_stop] += occur\n",
    "#     break"
   ]
  },
  {
   "cell_type": "code",
   "execution_count": 219,
   "metadata": {},
   "outputs": [
    {
     "name": "stdout",
     "output_type": "stream",
     "text": [
      "27061 2100\n"
     ]
    },
    {
     "data": {
      "text/plain": [
       "{'MTA_306960': 3,\n",
       " 'MTA_307997': 1,\n",
       " 'MTA_503963': 1,\n",
       " 'MTA_504409': 2,\n",
       " 'MTA_504430': 1451,\n",
       " 'MTA_504549': 7,\n",
       " 'MTA_505215': 5288}"
      ]
     },
     "execution_count": 219,
     "metadata": {},
     "output_type": "execute_result"
    }
   ],
   "source": [
    "nMany = 0\n",
    "nSingle = 0\n",
    "occ_distrib = []\n",
    "for rid, byroute in all_adjs.items():\n",
    "    for stop, next_stops in byroute.items():\n",
    "        if len(next_stops) > 1:\n",
    "            nMany += 1\n",
    "            for next, occur in next_stops.items():\n",
    "                occ_distrib.append(occur)\n",
    "        else:\n",
    "            nSingle += 1\n",
    "print(nMany, nSingle)\n",
    "next_stops"
   ]
  },
  {
   "cell_type": "code",
   "execution_count": 234,
   "metadata": {},
   "outputs": [
    {
     "name": "stdout",
     "output_type": "stream",
     "text": [
      "bag 107\n",
      "seq 50\n",
      "('MTA_402769', 'MTA_405069', 8802)\n",
      "('MTA_405069', 'MTA_402772', 8369)\n",
      "('MTA_402772', 'MTA_402773', 7483)\n",
      "('MTA_402773', 'MTA_402774', 6858)\n",
      "('MTA_402774', 'MTA_405070', 7526)\n",
      "('MTA_405070', 'MTA_404949', 8872)\n",
      "('MTA_404949', 'MTA_402638', 9647)\n",
      "('MTA_402638', 'MTA_402639', 9213)\n",
      "('MTA_402639', 'MTA_402641', 9724)\n",
      "('MTA_402641', 'MTA_402642', 9451)\n",
      "('MTA_402642', 'MTA_402643', 8264)\n",
      "('MTA_402643', 'MTA_402644', 8704)\n",
      "('MTA_402644', 'MTA_402645', 9528)\n",
      "('MTA_402645', 'MTA_402646', 9104)\n",
      "('MTA_402646', 'MTA_402647', 8725)\n",
      "('MTA_402647', 'MTA_405078', 8850)\n",
      "('MTA_405078', 'MTA_401458', 9717)\n",
      "('MTA_401458', 'MTA_401459', 7705)\n",
      "('MTA_401459', 'MTA_402653', 7744)\n",
      "('MTA_402653', 'MTA_402723', 9102)\n",
      "('MTA_402723', 'MTA_402656', 7919)\n",
      "('MTA_402656', 'MTA_402657', 8838)\n",
      "('MTA_402657', 'MTA_402658', 9909)\n",
      "('MTA_402658', 'MTA_402659', 10100)\n",
      "('MTA_402659', 'MTA_402660', 10447)\n",
      "('MTA_402660', 'MTA_402661', 9507)\n",
      "('MTA_402661', 'MTA_402662', 9022)\n",
      "('MTA_402662', 'MTA_404255', 9725)\n",
      "('MTA_404255', 'MTA_403416', 7160)\n",
      "('MTA_403416', 'MTA_403417', 6943)\n",
      "('MTA_403417', 'MTA_402816', 6966)\n",
      "('MTA_402816', 'MTA_403418', 9392)\n",
      "('MTA_403418', 'MTA_403419', 6521)\n",
      "('MTA_403419', 'MTA_402826', 6667)\n",
      "('MTA_402826', 'MTA_403421', 6546)\n",
      "('MTA_403421', 'MTA_403422', 6796)\n",
      "('MTA_403422', 'MTA_404171', 6516)\n",
      "('MTA_404171', 'MTA_403424', 6456)\n",
      "('MTA_403424', 'MTA_403425', 6447)\n",
      "('MTA_403425', 'MTA_403821', 6409)\n",
      "('MTA_403821', 'MTA_402854', 6235)\n",
      "('MTA_402854', 'MTA_404106', 6223)\n",
      "('MTA_404106', 'MTA_903148', 6382)\n",
      "('MTA_903148', 'MTA_903147', 5281)\n",
      "('MTA_903147', 'MTA_404008', 448)\n",
      "('MTA_404008', 'MTA_402764', 8392)\n",
      "('MTA_402764', 'MTA_405186', 6933)\n",
      "('MTA_405186', 'MTA_402766', 4392)\n",
      "('MTA_402766', 'MTA_402767', 5517)\n",
      "('MTA_402767', 'MTA_402769', 9000)\n"
     ]
    }
   ],
   "source": [
    "class Node:\n",
    "    def __init__(self, seg):\n",
    "        self.ch = []\n",
    "        self.st = seg[0]\n",
    "        self.ed = seg[1]\n",
    "        self.occ = seg[2]\n",
    "\n",
    "for rid, byroute in [('1_MTA NYCT_M101', all_adjs['1_MTA NYCT_M101'])]:\n",
    "#     print(rid)\n",
    "    segs = []\n",
    "    for stop, next_stops in byroute.items():\n",
    "        slist = list(next_stops.keys())\n",
    "        slist = sorted(slist, key=lambda st: next_stops[st])\n",
    "        smax = slist[-1]\n",
    "        seg = (stop, smax, next_stops[smax])\n",
    "        segs.append(seg)\n",
    "    \n",
    "    maxind = max(range(len(segs)), key=lambda ind: segs[ind][2])\n",
    "    bag_of_segs = segs[::1]\n",
    "    bag_of_segs.pop(maxind)\n",
    "    seq = [segs[maxind]]\n",
    "#     print(seq)\n",
    "    found = True\n",
    "    while found:\n",
    "        found = False\n",
    "        next_cands = []\n",
    "        for si, (st, ed, occ) in enumerate(bag_of_segs):\n",
    "            if st == seq[-1][1]:\n",
    "                next_cands.append(si)\n",
    "        if len(next_cands):\n",
    "            next_best = max(next_cands, key=lambda ind: bag_of_segs[ind][2])\n",
    "            seq.append(bag_of_segs[next_best])\n",
    "            bag_of_segs.pop(next_best)\n",
    "            found = True\n",
    "            \n",
    "        next_cands = [] # previous cands\n",
    "        for si, (st, ed, occ) in enumerate(bag_of_segs):\n",
    "            if ed == seq[0][0]:\n",
    "                next_cands.append(si)\n",
    "        if len(next_cands):\n",
    "            next_best = max(next_cands, key=lambda ind: bag_of_segs[ind][2])\n",
    "            seq = [bag_of_segs[next_best]] + seq\n",
    "            bag_of_segs.pop(next_best)\n",
    "            found = True\n",
    "    \n",
    "    print('bag', len(bag_of_segs))\n",
    "#     for seg in bag_of_segs:\n",
    "#         print(seg)\n",
    "        \n",
    "    print('seq', len(seq))\n",
    "    for seg in seq:\n",
    "        print(seg)\n",
    "#     print(len(seq))\n",
    "    break"
   ]
  },
  {
   "cell_type": "code",
   "execution_count": 223,
   "metadata": {},
   "outputs": [],
   "source": [
    "with open('../data/next_stops/2014-10-30.json') as fl:\n",
    "    sdata = json.load(fl)"
   ]
  },
  {
   "cell_type": "code",
   "execution_count": 232,
   "metadata": {},
   "outputs": [],
   "source": [
    "# list(sdata['1_MTA NYCT_M101'].keys())"
   ]
  },
  {
   "cell_type": "code",
   "execution_count": null,
   "metadata": {},
   "outputs": [],
   "source": []
  }
 ],
 "metadata": {
  "kernelspec": {
   "display_name": "Python 3",
   "language": "python",
   "name": "python3"
  },
  "language_info": {
   "codemirror_mode": {
    "name": "ipython",
    "version": 3
   },
   "file_extension": ".py",
   "mimetype": "text/x-python",
   "name": "python",
   "nbconvert_exporter": "python",
   "pygments_lexer": "ipython3",
   "version": "3.5.2"
  }
 },
 "nbformat": 4,
 "nbformat_minor": 2
}
