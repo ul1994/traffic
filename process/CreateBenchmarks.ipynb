{
 "cells": [
  {
   "cell_type": "code",
   "execution_count": 1,
   "metadata": {},
   "outputs": [],
   "source": [
    "%load_ext autoreload\n",
    "%autoreload 2\n",
    "%matplotlib inline"
   ]
  },
  {
   "cell_type": "code",
   "execution_count": 2,
   "metadata": {},
   "outputs": [],
   "source": [
    "from glob import glob\n",
    "from configs import *\n",
    "from tqdm import tqdm\n",
    "from utils import *\n",
    "import numpy as np\n",
    "import matplotlib.pyplot as plt\n",
    "from dataset import *\n",
    "from time import time\n",
    "tqdm.monitor_interval = 0\n",
    "import torch\n",
    "import json\n",
    "import torch.nn as nn\n",
    "import numpy as np\n",
    "torch.manual_seed(0)\n",
    "np.random.seed(0)"
   ]
  },
  {
   "cell_type": "markdown",
   "metadata": {},
   "source": [
    "### Global segments"
   ]
  },
  {
   "cell_type": "code",
   "execution_count": 6,
   "metadata": {},
   "outputs": [
    {
     "name": "stdout",
     "output_type": "stream",
     "text": [
      "242\n"
     ]
    }
   ],
   "source": [
    "rfiles = glob('metadata/2h/*.json')\n",
    "print(len(rfiles))"
   ]
  },
  {
   "cell_type": "code",
   "execution_count": 7,
   "metadata": {},
   "outputs": [
    {
     "name": "stderr",
     "output_type": "stream",
     "text": [
      "100%|██████████| 242/242 [00:17<00:00, 13.83it/s]\n"
     ]
    }
   ],
   "source": [
    "routes = []\n",
    "for rfile in tqdm(rfiles):\n",
    "    with open(rfile) as fl:\n",
    "        robj = json.load(fl)\n",
    "    routes.append(robj)\n",
    "#     print(rfile, robj['integ'])"
   ]
  },
  {
   "cell_type": "code",
   "execution_count": 9,
   "metadata": {},
   "outputs": [
    {
     "name": "stdout",
     "output_type": "stream",
     "text": [
      "Q10_0 0.9033231431159421\n"
     ]
    }
   ],
   "source": [
    "routes = sorted(routes, key=lambda obj: 1-obj['integ'])\n",
    "print(routes[0]['name'], routes[0]['integ'])"
   ]
  },
  {
   "cell_type": "code",
   "execution_count": 13,
   "metadata": {},
   "outputs": [
    {
     "name": "stdout",
     "output_type": "stream",
     "text": [
      "60\n",
      "927\n",
      "('Q10_0', 13)\n"
     ]
    }
   ],
   "source": [
    "segrefs = []\n",
    "ri = 0\n",
    "for route in routes:\n",
    "    if route['integ'] < 0.75:\n",
    "        break\n",
    "    if route['seglen'] < 20:\n",
    "        continue\n",
    "    pad = int(route['seglen'] /3)\n",
    "    for si in range(pad, pad*2):\n",
    "        segrefs.append((route['name'], si))\n",
    "    ri += 1\n",
    "print(ri)\n",
    "print(len(segrefs))\n",
    "print(segrefs[0])"
   ]
  },
  {
   "cell_type": "code",
   "execution_count": 15,
   "metadata": {},
   "outputs": [],
   "source": [
    "# assert False # Do not re-run this \n",
    "# from numpy.random import shuffle\n",
    "# shuffle(segrefs)"
   ]
  },
  {
   "cell_type": "code",
   "execution_count": 90,
   "metadata": {},
   "outputs": [
    {
     "name": "stdout",
     "output_type": "stream",
     "text": [
      "100\n"
     ]
    }
   ],
   "source": [
    "subsamp = segrefs[:100]\n",
    "print(len(subsamp))"
   ]
  },
  {
   "cell_type": "code",
   "execution_count": 91,
   "metadata": {},
   "outputs": [],
   "source": [
    "# with open('test_segs.json', 'w') as fl:\n",
    "#     json.dump(subsamp, fl, indent=4)"
   ]
  },
  {
   "cell_type": "code",
   "execution_count": 92,
   "metadata": {},
   "outputs": [],
   "source": [
    "# RNN\n",
    "jobs=4\n",
    "nj = int(len(subsamp) // jobs)\n",
    "for ji in range(jobs):\n",
    "    with open('scripts/test_mean_rnn_%d.sh' % ji, 'w') as fl:\n",
    "        fl.write('#!/bin/bash\\n\\n')\n",
    "        for rname, sind in subsamp[ji*nj:(ji+1)*nj]:\n",
    "            fl.write('python3 batch_RNN.py %s %d\\n' % (rname, sind))"
   ]
  },
  {
   "cell_type": "code",
   "execution_count": 93,
   "metadata": {},
   "outputs": [],
   "source": [
    "# RNN-0\n",
    "jobs=4\n",
    "nj = int(len(subsamp) // jobs)\n",
    "for ji in range(jobs):\n",
    "    with open('scripts/test_mean_rnn0_%d.sh' % ji, 'w') as fl:\n",
    "        fl.write('#!/bin/bash\\n\\n')\n",
    "        for rname, sind in subsamp[ji*nj:(ji+1)*nj]:\n",
    "            fl.write('python3 batch_RNN_0.py %s %d\\n' % (rname, sind))"
   ]
  },
  {
   "cell_type": "code",
   "execution_count": 94,
   "metadata": {},
   "outputs": [],
   "source": [
    "# Linear\n",
    "jobs=4\n",
    "nj = int(len(subsamp) // jobs)\n",
    "for ji in range(jobs):\n",
    "    with open('scripts/test_mean_linear_%d.sh' % ji, 'w') as fl:\n",
    "        fl.write('#!/bin/bash\\n\\n')\n",
    "        for rname, sind in subsamp[ji*nj:(ji+1)*nj]:\n",
    "            fl.write('python3 batch_Linear.py %s %d\\n' % (rname, sind))"
   ]
  },
  {
   "cell_type": "code",
   "execution_count": 95,
   "metadata": {},
   "outputs": [],
   "source": [
    "# Graph\n",
    "jobs=4\n",
    "nj = int(len(subsamp) // jobs)\n",
    "for ji in range(jobs):\n",
    "    with open('scripts/test_mean_graph_%d.sh' % ji, 'w') as fl:\n",
    "        fl.write('#!/bin/bash\\n\\n')\n",
    "        for rname, sind in subsamp[ji*nj:(ji+1)*nj]:\n",
    "            fl.write('python3 batch_Graph.py %s %d\\n' % (rname, sind))"
   ]
  },
  {
   "cell_type": "markdown",
   "metadata": {},
   "source": [
    "### Delta segments"
   ]
  },
  {
   "cell_type": "code",
   "execution_count": 97,
   "metadata": {},
   "outputs": [
    {
     "name": "stdout",
     "output_type": "stream",
     "text": [
      "328\n"
     ]
    }
   ],
   "source": [
    "sfiles = glob('data/stopcodes_sequence/*_0.txt')\n",
    "print(len(sfiles))"
   ]
  },
  {
   "cell_type": "code",
   "execution_count": 107,
   "metadata": {},
   "outputs": [],
   "source": [
    "seg_branch = {}\n",
    "for sfile in sfiles:\n",
    "    with open(sfile) as fl:\n",
    "        stops = list(filter(lambda ent: ent, fl.read().split('\\n')))\n",
    "    segs = []\n",
    "    for si in range(1, len(stops)):\n",
    "        segid = '%s-%s' % (stops[si-1], stops[si])\n",
    "        segs.append(segid)\n",
    "    for si, seg in enumerate(segs):\n",
    "        if seg not in seg_branch:\n",
    "            seg_branch[seg] = dict(\n",
    "                name=fileName(sfile),\n",
    "                segid=seg,\n",
    "                outs=[],\n",
    "                ins=[],\n",
    "            )\n",
    "        if si < len(segs) -1 :\n",
    "            if segs[si+1] not in seg_branch[seg]['outs']:\n",
    "                seg_branch[seg]['outs'].append(segs[si+1])\n",
    "        if si > 0: \n",
    "            if segs[si-1] not in seg_branch[seg]['ins']:\n",
    "                seg_branch[seg]['ins'].append(segs[si-1])"
   ]
  },
  {
   "cell_type": "code",
   "execution_count": 108,
   "metadata": {},
   "outputs": [],
   "source": [
    "count_outs = []\n",
    "count_ins = []\n",
    "for sid, obj in seg_branch.items():\n",
    "    count_outs.append(len(obj['outs']))\n",
    "    count_ins.append(len(obj['ins']))"
   ]
  },
  {
   "cell_type": "code",
   "execution_count": 109,
   "metadata": {},
   "outputs": [
    {
     "data": {
      "image/png": "[encoded data removed]",
      "text/plain": [
       "<Figure size 1008x216 with 1 Axes>"
      ]
     },
     "metadata": {},
     "output_type": "display_data"
    },
    {
     "data": {
      "image/png": "[encoded data removed]",
      "text/plain": [
       "<Figure size 1008x216 with 1 Axes>"
      ]
     },
     "metadata": {},
     "output_type": "display_data"
    }
   ],
   "source": [
    "plt.figure(figsize=(14, 3))\n",
    "plt.plot(sorted(count_outs))\n",
    "plt.show(); plt.close()\n",
    "plt.figure(figsize=(14, 3))\n",
    "plt.plot(sorted(count_ins))\n",
    "plt.show(); plt.close()"
   ]
  },
  {
   "cell_type": "markdown",
   "metadata": {},
   "source": [
    "### Filter nodes with many adj"
   ]
  },
  {
   "cell_type": "code",
   "execution_count": 110,
   "metadata": {
    "scrolled": true
   },
   "outputs": [
    {
     "name": "stdout",
     "output_type": "stream",
     "text": [
      "377\n",
      "33\n"
     ]
    }
   ],
   "source": [
    "byadj = {\n",
    "    2: [],\n",
    "    3: [],\n",
    "#     4: [],\n",
    "}\n",
    "\n",
    "def hasLoop(root, ls={}):\n",
    "    if root['segid'] in ls: \n",
    "        return True\n",
    "    ls[root['segid']] = 1\n",
    "        \n",
    "    loop = False\n",
    "    for child in root['outs']:\n",
    "        loop = loop or hasLoop(child, ls)\n",
    "        \n",
    "    return loop\n",
    "\n",
    "def fill(obj, depth=2):\n",
    "    outs = []\n",
    "    if depth > 1:\n",
    "        for sid in obj['outs']:\n",
    "            neighbor = seg_branch[sid]\n",
    "            nobj = fill(neighbor, depth-1)\n",
    "            outs.append(nobj)\n",
    "        \n",
    "    new = dict(\n",
    "        name=obj['name'], \n",
    "        segid=obj['segid'], \n",
    "        outs=outs)\n",
    "    return new\n",
    "\n",
    "for sid, obj in seg_branch.items():\n",
    "    nOuts = len(obj['outs'])\n",
    "    if nOuts in byadj:\n",
    "        obj = fill(obj)\n",
    "        if hasLoop(obj, {}):\n",
    "            assert False\n",
    "        byadj[nOuts].append(obj)\n",
    "        \n",
    "print(len(byadj[2]))\n",
    "print(len(byadj[3]))\n",
    "# print(len(byadj[4]))"
   ]
  },
  {
   "cell_type": "code",
   "execution_count": 111,
   "metadata": {},
   "outputs": [
    {
     "name": "stdout",
     "output_type": "stream",
     "text": [
      "{'name': 'B62_0', 'segid': '306762-303813', 'outs': [{'name': 'B62_0', 'segid': '303813-306763', 'outs': []}, {'name': 'B48_0', 'segid': '303813-303814', 'outs': []}]}\n"
     ]
    }
   ],
   "source": [
    "print(byadj[2][0])"
   ]
  },
  {
   "cell_type": "code",
   "execution_count": null,
   "metadata": {},
   "outputs": [],
   "source": [
    "with "
   ]
  }
 ],
 "metadata": {
  "kernelspec": {
   "display_name": "Python 3",
   "language": "python",
   "name": "python3"
  },
  "language_info": {
   "codemirror_mode": {
    "name": "ipython",
    "version": 3
   },
   "file_extension": ".py",
   "mimetype": "text/x-python",
   "name": "python",
   "nbconvert_exporter": "python",
   "pygments_lexer": "ipython3",
   "version": "3.5.2"
  }
 },
 "nbformat": 4,
 "nbformat_minor": 2
}
