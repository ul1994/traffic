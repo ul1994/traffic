{
 "cells": [
  {
   "cell_type": "code",
   "execution_count": 1,
   "metadata": {},
   "outputs": [],
   "source": [
    "%load_ext autoreload\n",
    "%autoreload 2\n",
    "%matplotlib inline"
   ]
  },
  {
   "cell_type": "code",
   "execution_count": 2,
   "metadata": {},
   "outputs": [],
   "source": [
    "from glob import glob\n",
    "from configs import *\n",
    "from tqdm import tqdm\n",
    "from utils import *\n",
    "import numpy as np\n",
    "import matplotlib.pyplot as plt\n",
    "from dataset import *\n",
    "from time import time\n",
    "tqdm.monitor_interval = 0\n",
    "import torch\n",
    "import json\n",
    "import torch.nn as nn\n",
    "import numpy as np\n",
    "torch.manual_seed(0)\n",
    "np.random.seed(0)"
   ]
  },
  {
   "cell_type": "code",
   "execution_count": 3,
   "metadata": {},
   "outputs": [
    {
     "name": "stdout",
     "output_type": "stream",
     "text": [
      "cuda:0\n"
     ]
    }
   ],
   "source": [
    "DENSE = False\n",
    "EPS = 120\n",
    "LAG = 12 + 1\n",
    "SROUTE = [\n",
    "    '400860-400861', \n",
    "#     '400861-403781',\n",
    "#     '400861-400948',\n",
    "#     '400861-405376',\n",
    "]\n",
    "HSIZE = 128\n",
    "STOPS = len(SROUTE)\n",
    "device = torch.device(\"cuda:0\" if torch.cuda.is_available() else \"cpu\")\n",
    "print(device)"
   ]
  },
  {
   "cell_type": "code",
   "execution_count": 4,
   "metadata": {},
   "outputs": [
    {
     "name": "stdout",
     "output_type": "stream",
     "text": [
      "Chunks (lag 13)\n",
      " [*] Segments: 90 co-avail\n",
      "    * [400860-400861]: 90\n",
      " [*] Examples (train): 11749\n",
      " [*] Time range: 2014-08-01 ~ 2014-10-31\n",
      "Chunks (lag 13)\n",
      " [*] Segments: 90 co-avail\n",
      "    * [400860-400861]: 90\n",
      " [*] Examples (test): 11749\n",
      " [*] Time range: 2014-08-01 ~ 2014-10-31\n"
     ]
    }
   ],
   "source": [
    "dset = SpotHistory(SROUTE, 'train', 16, lag=LAG, res=10).generator()\n",
    "evalset = SpotHistory(SROUTE, 'test', 16, lag=LAG, res=10).generator()"
   ]
  },
  {
   "cell_type": "code",
   "execution_count": 5,
   "metadata": {},
   "outputs": [],
   "source": [
    "from models.temporal.RNN import *\n",
    "# lag = 6th timestep is predicted based on past 5 (50 mins\n",
    "if not DENSE:\n",
    "    model = RNN_MIN(hidden_size=HSIZE, steps=STOPS).to(device)\n",
    "else:\n",
    "    model = RNN(hidden_size=HSIZE, steps=STOPS).to(device)\n",
    "model.device = device\n",
    "criterion, opt, sch = model.params(lr=0.005)"
   ]
  },
  {
   "cell_type": "code",
   "execution_count": 6,
   "metadata": {},
   "outputs": [
    {
     "name": "stdout",
     "output_type": "stream",
     "text": [
      "Eval loss: 104.32813           \n"
     ]
    }
   ],
   "source": [
    "# batch x timesteps x location\n",
    "evf = lambda: evaluate(\n",
    "    evalset, model, crit=lambda _y, y: criterion(_y[:, :, 0], y[:, :, 0]).item())\n",
    "_ = evf()"
   ]
  },
  {
   "cell_type": "code",
   "execution_count": 7,
   "metadata": {
    "scrolled": true
   },
   "outputs": [
    {
     "name": "stdout",
     "output_type": "stream",
     "text": [
      "Eval loss: 1.39751             \n",
      "Eval loss: 0.96046             \n",
      "Eval loss: 0.81770             \n",
      "Eval loss: 0.73260             \n",
      "Eval loss: 0.66814             \n",
      "Eval loss: 0.61511             \n",
      "Eval loss: 0.57108             \n",
      "Eval loss: 0.53398             \n",
      "Eval loss: 0.50090             \n",
      "Eval loss: 0.47363              \n",
      "Eval loss: 0.44894              \n",
      "Eval loss: 0.42805              \n",
      "Eval loss: 0.40994              \n",
      "Eval loss: 0.39387              \n",
      "Eval loss: 0.37891              \n",
      "Eval loss: 0.36679              \n",
      "Eval loss: 0.35710              \n",
      "Eval loss: 0.34481              \n",
      "Eval loss: 0.33686              \n",
      "Eval loss: 0.32759              \n",
      "Eval loss: 0.32144              \n",
      "Eval loss: 0.31392              \n",
      "Eval loss: 0.30813              \n",
      "Eval loss: 0.30283              \n",
      "Eval loss: 0.29845              \n",
      "Eval loss: 0.29728              \n",
      "Eval loss: 0.29223              \n",
      "Eval loss: 0.29019              \n",
      "Eval loss: 0.28843              \n",
      "Eval loss: 0.28736              \n",
      "Eval loss: 0.28568              \n",
      "Eval loss: 0.28405              \n",
      "Eval loss: 0.28201              \n",
      "Eval loss: 0.28083              \n",
      "Eval loss: 0.27900              \n",
      "Eval loss: 0.27726              \n",
      "Eval loss: 0.27643              \n",
      "Eval loss: 0.27557              \n",
      "Eval loss: 0.27299              \n",
      "Eval loss: 0.27160              \n",
      "Eval loss: 0.26990              \n",
      "Eval loss: 0.26866              \n",
      "Eval loss: 0.26727              \n",
      "Eval loss: 0.26624              \n",
      "Eval loss: 0.26565              \n",
      "Eval loss: 0.26427              \n",
      "Eval loss: 0.26183              \n",
      "Eval loss: 0.26057              \n",
      "Eval loss: 0.25984              \n",
      "Eval loss: 0.25786              \n",
      "Eval loss: 0.25678              \n",
      "Eval loss: 0.25578              \n",
      "Eval loss: 0.25513              \n",
      "Eval loss: 0.25496              \n",
      "Eval loss: 0.25407              \n",
      "Eval loss: 0.25393              \n",
      "Eval loss: 0.25257              \n",
      "Eval loss: 0.25214              \n",
      "Eval loss: 0.25130              \n",
      "Eval loss: 0.25065              \n",
      "Eval loss: 0.25051              \n",
      "Eval loss: 0.24978              \n",
      "Eval loss: 0.24949              \n",
      "Eval loss: 0.24822              \n",
      "Eval loss: 0.24770              \n",
      "Eval loss: 0.24702              \n",
      "Eval loss: 0.24718              \n",
      "Eval loss: 0.24589              \n",
      "Eval loss: 0.24584              \n",
      "Eval loss: 0.24488              \n",
      "Eval loss: 0.24420              \n",
      "Eval loss: 0.24340              \n",
      "Eval loss: 0.24278              \n",
      "Eval loss: 0.24224              \n",
      "Eval loss: 0.24160              \n",
      "Eval loss: 0.24108              \n",
      "Eval loss: 0.24071              \n",
      "Eval loss: 0.24058              \n",
      "Eval loss: 0.24036              \n",
      "Eval loss: 0.23996              \n",
      "Eval loss: 0.23984              \n",
      "Eval loss: 0.23946              \n",
      "Eval loss: 0.23910              \n",
      "Eval loss: 0.23892              \n",
      "Eval loss: 0.23868              \n",
      "Eval loss: 0.23812              \n",
      "Eval loss: 0.23789              \n",
      "Eval loss: 0.23778              \n",
      "Eval loss: 0.23745              \n",
      "Eval loss: 0.23708              \n",
      "Eval loss: 0.23711              \n",
      "Eval loss: 0.23648              \n",
      "Eval loss: 0.23653              \n",
      "Eval loss: 0.23600              \n",
      "Eval loss: 0.23554              \n",
      "Eval loss: 0.23567              \n",
      "Eval loss: 0.23529              \n",
      "Eval loss: 0.23487              \n",
      "Eval loss: 0.23445              \n",
      "Eval loss: 0.23434               \n",
      "Eval loss: 0.23400               \n",
      "Eval loss: 0.23372               \n",
      "Eval loss: 0.23386               \n",
      "Eval loss: 0.23352               \n",
      "Eval loss: 0.23339               \n",
      "Eval loss: 0.23322               \n",
      "Eval loss: 0.23308               \n",
      "Eval loss: 0.23342               \n",
      "Eval loss: 0.23284               \n",
      "Eval loss: 0.23286               \n",
      "Eval loss: 0.23255               \n",
      "Eval loss: 0.23256               \n",
      "Eval loss: 0.23224               \n",
      "Eval loss: 0.23205               \n",
      "Eval loss: 0.23206               \n",
      "Eval loss: 0.23203               \n",
      "Eval loss: 0.23160               \n",
      "Eval loss: 0.23175               \n",
      "Eval loss: 0.23154               \n",
      "Eval loss: 0.23182               \n"
     ]
    }
   ],
   "source": [
    "losses = []\n",
    "eval_mse = []\n",
    "eval_mape = []\n",
    "from numpy.random import randint\n",
    "for eii  in range(EPS):\n",
    "    for bii, batch in enumerate(dset):\n",
    "        model.train()\n",
    "        Xs, Ys = model.format_batch(batch)\n",
    "        \n",
    "        outputs = model(Xs)\n",
    "\n",
    "        opt.zero_grad()\n",
    "        loss = criterion(outputs, Ys)\n",
    "        loss.backward()\n",
    "        losses.append(loss.item())\n",
    "        opt.step()\n",
    "\n",
    "        sys.stdout.write('[%d/%d : %d/%d] - L%.2f      \\r' % (\n",
    "            eii+1, EPS,\n",
    "            bii+1, len(dset), \n",
    "            10**2 * loss.item()\n",
    "        ))\n",
    "    \n",
    "\n",
    "    eval_mse.append(evf())\n",
    "#     sys.stdout.write('\\n')\n",
    "    sys.stdout.flush()\n",
    "    sch.step()"
   ]
  },
  {
   "cell_type": "code",
   "execution_count": 8,
   "metadata": {},
   "outputs": [
    {
     "data": {
      "image/png": "[encoded data removed]",
      "text/plain": [
       "<Figure size 1008x216 with 1 Axes>"
      ]
     },
     "metadata": {},
     "output_type": "display_data"
    }
   ],
   "source": [
    "plt.figure(figsize=(14, 3))\n",
    "plt.plot(eval_mse)\n",
    "plt.show(); plt.close()"
   ]
  },
  {
   "cell_type": "code",
   "execution_count": 43,
   "metadata": {
    "scrolled": true
   },
   "outputs": [
    {
     "name": "stdout",
     "output_type": "stream",
     "text": [
      "Eval segments: 18\n",
      "Eval MSE: 0.2497\n"
     ]
    }
   ],
   "source": [
    "from utils import *\n",
    "viewset = SpotHistory(SROUTE, 'test', 18, lag=None, res=10, shuffle=False, verbose=False)\n",
    "\n",
    "sqerr = eval_rnn(viewset, model, plot=False)\n",
    "print('Eval segments:', len(viewset))\n",
    "print('Eval MSE: %.4f' % np.mean(sqerr))"
   ]
  },
  {
   "cell_type": "code",
   "execution_count": 44,
   "metadata": {},
   "outputs": [
    {
     "data": {
      "image/png": "[encoded data removed]",
      "text/plain": [
       "<Figure size 1008x360 with 1 Axes>"
      ]
     },
     "metadata": {},
     "output_type": "display_data"
    }
   ],
   "source": [
    "_ = eval_rnn(viewset[:1], model, plot=True)"
   ]
  },
  {
   "cell_type": "code",
   "execution_count": null,
   "metadata": {},
   "outputs": [],
   "source": []
  }
 ],
 "metadata": {
  "kernelspec": {
   "display_name": "Python 3",
   "language": "python",
   "name": "python3"
  },
  "language_info": {
   "codemirror_mode": {
    "name": "ipython",
    "version": 3
   },
   "file_extension": ".py",
   "mimetype": "text/x-python",
   "name": "python",
   "nbconvert_exporter": "python",
   "pygments_lexer": "ipython3",
   "version": "3.5.2"
  }
 },
 "nbformat": 4,
 "nbformat_minor": 2
}
