{
 "cells": [
  {
   "cell_type": "code",
   "execution_count": 1,
   "metadata": {},
   "outputs": [],
   "source": [
    "%load_ext autoreload\n",
    "%autoreload 2\n",
    "%matplotlib inline"
   ]
  },
  {
   "cell_type": "code",
   "execution_count": 2,
   "metadata": {},
   "outputs": [],
   "source": [
    "from glob import glob\n",
    "from configs import *\n",
    "from tqdm import tqdm\n",
    "from utils import *\n",
    "import numpy as np\n",
    "import matplotlib.pyplot as plt\n",
    "from dataset import *\n",
    "from time import time\n",
    "tqdm.monitor_interval = 0\n",
    "import torch\n",
    "import json\n",
    "import torch.nn as nn\n",
    "import numpy as np\n",
    "torch.manual_seed(0)\n",
    "np.random.seed(0)"
   ]
  },
  {
   "cell_type": "code",
   "execution_count": 3,
   "metadata": {},
   "outputs": [
    {
     "name": "stdout",
     "output_type": "stream",
     "text": [
      "cuda:0\n"
     ]
    }
   ],
   "source": [
    "DENSE = False\n",
    "EPS = 120\n",
    "LAG = 12 + 1\n",
    "SROUTE = [\n",
    "    '400860-400861', \n",
    "#     '400861-403781',\n",
    "#     '400861-400948',\n",
    "#     '400861-405376',\n",
    "]\n",
    "HSIZE = 128\n",
    "STOPS = len(SROUTE)\n",
    "device = torch.device(\"cuda:0\" if torch.cuda.is_available() else \"cpu\")\n",
    "print(device)"
   ]
  },
  {
   "cell_type": "code",
   "execution_count": 4,
   "metadata": {},
   "outputs": [
    {
     "name": "stdout",
     "output_type": "stream",
     "text": [
      "Chunks (lag 13)\n",
      " [*] Segments: 90 co-avail\n",
      "    * [400860-400861]: 90\n",
      " [*] Examples (train): 11749\n",
      "Chunks (lag 13)\n",
      " [*] Segments: 90 co-avail\n",
      "    * [400860-400861]: 90\n",
      " [*] Examples (test): 11749\n"
     ]
    }
   ],
   "source": [
    "dset = SpotHistory(SROUTE, 'train', 16, lag=LAG, res=10).generator()\n",
    "evalset = SpotHistory(SROUTE, 'test', 16, lag=LAG, res=10).generator()"
   ]
  },
  {
   "cell_type": "code",
   "execution_count": 5,
   "metadata": {},
   "outputs": [
    {
     "name": "stdout",
     "output_type": "stream",
     "text": [
      "Eval loss: 102.32277    \n"
     ]
    }
   ],
   "source": [
    "from models.temporal.RNN import *\n",
    "# lag = 6th timestep is predicted based on past 5 (50 mins\n",
    "if not DENSE:\n",
    "    model = RNN_MIN(hidden_size=HSIZE, steps=STOPS).to(device)\n",
    "else:\n",
    "    model = RNN(hidden_size=HSIZE, steps=STOPS).to(device)\n",
    "model.device = device\n",
    "criterion, opt, sch = model.params(lr=0.005)\n",
    "evaluate(evalset, model, crit=lambda _y, y: criterion(_y[:, 0], y[:, 0]).item())"
   ]
  },
  {
   "cell_type": "code",
   "execution_count": 6,
   "metadata": {
    "scrolled": true
   },
   "outputs": [
    {
     "name": "stdout",
     "output_type": "stream",
     "text": [
      "[1/120 : 735/735] - L0.72      \n",
      "Eval loss: 7.160835    \n",
      "[2/120 : 735/735] - L1.71      \n",
      "Eval loss: 3.30343     \n",
      "[3/120 : 735/735] - L0.49      \n",
      "Eval loss: 2.06401    \n",
      "[4/120 : 735/735] - L0.39      \n",
      "Eval loss: 1.53870     \n",
      "[5/120 : 735/735] - L0.22      \n",
      "Eval loss: 1.23345    \n",
      "[6/120 : 735/735] - L0.29      \n",
      "Eval loss: 1.01214    \n",
      "[7/120 : 735/735] - L0.17      \n",
      "Eval loss: 0.88813    \n",
      "[8/120 : 735/735] - L0.20      \n",
      "Eval loss: 0.76140    \n",
      "[9/120 : 735/735] - L0.16      \n",
      "Eval loss: 0.66582    \n",
      "[10/120 : 735/735] - L0.57      \n",
      "Eval loss: 0.60113    \n",
      "[11/120 : 735/735] - L0.24      \n",
      "Eval loss: 0.53917    \n",
      "[12/120 : 735/735] - L0.31      \n",
      "Eval loss: 0.50375    \n",
      "[13/120 : 735/735] - L0.36      \n",
      "Eval loss: 0.47082    \n",
      "[14/120 : 735/735] - L0.50      \n",
      "Eval loss: 0.45408    \n",
      "[15/120 : 735/735] - L0.97      \n",
      "Eval loss: 0.44012    \n",
      "[16/120 : 735/735] - L0.43      \n",
      "Eval loss: 0.42707    \n",
      "[17/120 : 735/735] - L0.33      \n",
      "Eval loss: 0.42300    \n",
      "[18/120 : 735/735] - L0.04      \n",
      "Eval loss: 0.42664    \n",
      "[19/120 : 735/735] - L0.28      \n",
      "Eval loss: 0.42725    \n",
      "[20/120 : 735/735] - L0.29      \n",
      "Eval loss: 0.43073    \n",
      "[21/120 : 735/735] - L0.12      \n",
      "Eval loss: 0.43789    \n",
      "[22/120 : 735/735] - L0.96      \n",
      "Eval loss: 0.44087    \n",
      "[23/120 : 735/735] - L0.15      \n",
      "Eval loss: 0.44434    \n",
      "[24/120 : 735/735] - L0.11      \n",
      "Eval loss: 0.45040    \n",
      "[25/120 : 735/735] - L0.13      \n",
      "Eval loss: 0.45723    \n",
      "[26/120 : 735/735] - L0.73      \n",
      "Eval loss: 0.47153    \n",
      "[27/120 : 735/735] - L0.38      \n",
      "Eval loss: 0.46716    \n",
      "[28/120 : 735/735] - L0.09      \n",
      "Eval loss: 0.46843    \n",
      "[29/120 : 735/735] - L0.17      \n",
      "Eval loss: 0.47033    \n",
      "[30/120 : 735/735] - L0.31      \n",
      "Eval loss: 0.46720    \n",
      "[31/120 : 735/735] - L0.21      \n",
      "Eval loss: 0.47114    \n",
      "[32/120 : 735/735] - L0.20      \n",
      "Eval loss: 0.47135    \n",
      "[33/120 : 735/735] - L0.21      \n",
      "Eval loss: 0.47245    \n",
      "[34/120 : 735/735] - L0.12      \n",
      "Eval loss: 0.47637    \n",
      "[35/120 : 735/735] - L0.17      \n",
      "Eval loss: 0.47626    \n",
      "[36/120 : 735/735] - L0.07      \n",
      "Eval loss: 0.47802    \n",
      "[37/120 : 735/735] - L0.22      \n",
      "Eval loss: 0.47734    \n",
      "[38/120 : 735/735] - L0.20      \n",
      "Eval loss: 0.47742    \n",
      "[39/120 : 735/735] - L0.17      \n",
      "Eval loss: 0.47757    \n",
      "[40/120 : 735/735] - L0.29      \n",
      "Eval loss: 0.47938    \n",
      "[41/120 : 735/735] - L0.49      \n",
      "Eval loss: 0.48259    \n",
      "[42/120 : 735/735] - L0.13      \n",
      "Eval loss: 0.48133    \n",
      "[43/120 : 735/735] - L0.08      \n",
      "Eval loss: 0.48021    \n",
      "[44/120 : 735/735] - L0.09      \n",
      "Eval loss: 0.47725    \n",
      "[45/120 : 735/735] - L0.80      \n",
      "Eval loss: 0.48534    \n",
      "[46/120 : 735/735] - L0.40      \n",
      "Eval loss: 0.48789    \n",
      "[47/120 : 735/735] - L0.21      \n",
      "Eval loss: 0.47963    \n",
      "[48/120 : 735/735] - L0.13      \n",
      "Eval loss: 0.47899    \n",
      "[49/120 : 735/735] - L0.04      \n",
      "Eval loss: 0.48063    \n",
      "[50/120 : 735/735] - L0.19      \n",
      "Eval loss: 0.47907    \n",
      "[51/120 : 735/735] - L0.31      \n",
      "Eval loss: 0.48167    \n",
      "[52/120 : 735/735] - L0.14      \n",
      "Eval loss: 0.47996    \n",
      "[53/120 : 735/735] - L0.25      \n",
      "Eval loss: 0.47859    \n",
      "[54/120 : 735/735] - L0.18      \n",
      "Eval loss: 0.47712    \n",
      "[55/120 : 735/735] - L0.45      \n",
      "Eval loss: 0.47723    \n",
      "[56/120 : 735/735] - L0.45      \n",
      "Eval loss: 0.47571    \n",
      "[57/120 : 735/735] - L0.16      \n",
      "Eval loss: 0.47869    \n",
      "[58/120 : 735/735] - L0.60      \n",
      "Eval loss: 0.47707    \n",
      "[59/120 : 735/735] - L0.26      \n",
      "Eval loss: 0.47781    \n",
      "[60/120 : 735/735] - L0.86      \n",
      "Eval loss: 0.47655    \n",
      "[61/120 : 735/735] - L0.14      \n",
      "Eval loss: 0.47479    \n",
      "[62/120 : 735/735] - L0.64      \n",
      "Eval loss: 0.47809    \n",
      "[63/120 : 735/735] - L0.11      \n",
      "Eval loss: 0.47804    \n",
      "[64/120 : 735/735] - L0.12      \n",
      "Eval loss: 0.47717    \n",
      "[65/120 : 735/735] - L0.16      \n",
      "Eval loss: 0.47747    \n",
      "[66/120 : 735/735] - L0.12      \n",
      "Eval loss: 0.47784    \n",
      "[67/120 : 735/735] - L0.20      \n",
      "Eval loss: 0.47599    \n",
      "[68/120 : 735/735] - L0.13      \n",
      "Eval loss: 0.47707    \n",
      "[69/120 : 735/735] - L0.13      \n",
      "Eval loss: 0.47768    \n",
      "[70/120 : 735/735] - L0.69      \n",
      "Eval loss: 0.47558    \n",
      "[71/120 : 735/735] - L0.19      \n",
      "Eval loss: 0.47233    \n",
      "[72/120 : 735/735] - L0.08      \n",
      "Eval loss: 0.47688    \n",
      "[73/120 : 735/735] - L0.32      \n",
      "Eval loss: 0.47640    \n",
      "[74/120 : 735/735] - L0.25      \n",
      "Eval loss: 0.47403    \n",
      "[75/120 : 735/735] - L0.10      \n",
      "Eval loss: 0.47257    \n",
      "[76/120 : 735/735] - L0.11      \n",
      "Eval loss: 0.47319    \n",
      "[77/120 : 735/735] - L0.19      \n",
      "Eval loss: 0.47296    \n",
      "[78/120 : 735/735] - L0.11      \n",
      "Eval loss: 0.47272    \n",
      "[79/120 : 735/735] - L0.13      \n",
      "Eval loss: 0.47292    \n",
      "[80/120 : 735/735] - L0.06      \n",
      "Eval loss: 0.47295    \n",
      "[81/120 : 735/735] - L0.26      \n",
      "Eval loss: 0.47497    \n",
      "[82/120 : 735/735] - L0.35      \n",
      "Eval loss: 0.47296    \n",
      "[83/120 : 735/735] - L0.40      \n",
      "Eval loss: 0.47272    \n",
      "[84/120 : 735/735] - L0.12      \n",
      "Eval loss: 0.47176    \n",
      "[85/120 : 735/735] - L0.17      \n",
      "Eval loss: 0.47390    \n",
      "[86/120 : 735/735] - L0.19      \n",
      "Eval loss: 0.47213    \n",
      "[87/120 : 735/735] - L0.18      \n",
      "Eval loss: 0.47192    \n",
      "[88/120 : 735/735] - L0.23      \n",
      "Eval loss: 0.47213    \n",
      "[89/120 : 735/735] - L0.44      \n",
      "Eval loss: 0.47316    \n",
      "[90/120 : 735/735] - L0.13      \n",
      "Eval loss: 0.47089    \n",
      "[91/120 : 735/735] - L1.05      \n",
      "Eval loss: 0.47210    \n",
      "[92/120 : 735/735] - L0.45      \n",
      "Eval loss: 0.47240    \n",
      "[93/120 : 735/735] - L0.30      \n",
      "Eval loss: 0.47165    \n",
      "[94/120 : 735/735] - L0.17      \n",
      "Eval loss: 0.47167    \n",
      "[95/120 : 735/735] - L0.19      \n",
      "Eval loss: 0.47119    \n",
      "[96/120 : 735/735] - L0.07      \n",
      "Eval loss: 0.47163    \n",
      "[97/120 : 735/735] - L0.38      \n",
      "Eval loss: 0.47118    \n",
      "[98/120 : 735/735] - L0.05      \n",
      "Eval loss: 0.47238    \n",
      "[99/120 : 735/735] - L0.07      \n",
      "Eval loss: 0.47087    \n",
      "[100/120 : 735/735] - L0.07      \n",
      "Eval loss: 0.47119    \n",
      "[101/120 : 735/735] - L0.05      \n",
      "Eval loss: 0.47227    \n",
      "[102/120 : 735/735] - L0.08      \n",
      "Eval loss: 0.47000    \n",
      "[103/120 : 735/735] - L0.22      \n",
      "Eval loss: 0.47098    \n",
      "[104/120 : 735/735] - L0.14      \n",
      "Eval loss: 0.47030    \n",
      "[105/120 : 735/735] - L0.13      \n",
      "Eval loss: 0.46993    \n",
      "[106/120 : 735/735] - L0.30      \n",
      "Eval loss: 0.47012    \n",
      "[107/120 : 735/735] - L0.14      \n",
      "Eval loss: 0.46963    \n",
      "[108/120 : 735/735] - L0.15      \n",
      "Eval loss: 0.46975    \n",
      "[109/120 : 735/735] - L0.05      \n",
      "Eval loss: 0.46988    \n",
      "[110/120 : 735/735] - L0.13      \n",
      "Eval loss: 0.47135    \n",
      "[111/120 : 735/735] - L0.16      \n",
      "Eval loss: 0.46929    \n",
      "[112/120 : 735/735] - L0.11      \n",
      "Eval loss: 0.46947    \n",
      "[113/120 : 735/735] - L0.64      \n",
      "Eval loss: 0.46976    \n",
      "[114/120 : 735/735] - L0.16      \n",
      "Eval loss: 0.46878    \n",
      "[115/120 : 735/735] - L0.33      \n",
      "Eval loss: 0.46917    \n",
      "[116/120 : 735/735] - L0.17      \n",
      "Eval loss: 0.46868    \n",
      "[117/120 : 735/735] - L0.12      \n",
      "Eval loss: 0.46863    \n",
      "[118/120 : 735/735] - L0.20      \n",
      "Eval loss: 0.46832    \n",
      "[119/120 : 735/735] - L0.14      \n",
      "Eval loss: 0.46926    \n",
      "[120/120 : 735/735] - L0.26      \n",
      "Eval loss: 0.46932    \n"
     ]
    }
   ],
   "source": [
    "losses = []\n",
    "eval_mse = []\n",
    "eval_mape = []\n",
    "from numpy.random import randint\n",
    "for eii  in range(EPS):\n",
    "    for bii, batch in enumerate(dset):\n",
    "        model.train()\n",
    "        Xs, Ys = model.format_batch(batch)\n",
    "        \n",
    "        outputs = model(Xs)\n",
    "\n",
    "        opt.zero_grad()\n",
    "        loss = criterion(outputs, Ys)\n",
    "        loss.backward()\n",
    "        losses.append(loss.item())\n",
    "        opt.step()\n",
    "\n",
    "        sys.stdout.write('[%d/%d : %d/%d] - L%.2f      \\r' % (\n",
    "            eii+1, EPS,\n",
    "            bii+1, len(dset), \n",
    "            10**2 * loss.item()\n",
    "        ))\n",
    "    sys.stdout.write('\\n')\n",
    "\n",
    "    eval_mse.append(\n",
    "        evaluate(\n",
    "            evalset, model, \n",
    "            crit=lambda y, _y: criterion(y[:, 0], _y[:, 0]).item(), result=True))\n",
    "    sys.stdout.flush()\n",
    "    sch.step()"
   ]
  },
  {
   "cell_type": "code",
   "execution_count": 7,
   "metadata": {},
   "outputs": [
    {
     "data": {
      "image/png": "[encoded data removed]",
      "text/plain": [
       "<Figure size 1008x216 with 1 Axes>"
      ]
     },
     "metadata": {},
     "output_type": "display_data"
    }
   ],
   "source": [
    "plt.figure(figsize=(14, 3))\n",
    "plt.plot(eval_mse)\n",
    "plt.show(); plt.close()"
   ]
  },
  {
   "cell_type": "code",
   "execution_count": 8,
   "metadata": {
    "scrolled": false
   },
   "outputs": [
    {
     "name": "stdout",
     "output_type": "stream",
     "text": [
      "Eval segments: 18\n",
      "Eval MSE: 0.2497\n"
     ]
    },
    {
     "data": {
      "image/png": "[encoded data removed]",
      "text/plain": [
       "<Figure size 1008x216 with 1 Axes>"
      ]
     },
     "metadata": {},
     "output_type": "display_data"
    },
    {
     "data": {
      "image/png": "[encoded data removed]",
      "text/plain": [
       "<Figure size 1008x360 with 1 Axes>"
      ]
     },
     "metadata": {},
     "output_type": "display_data"
    }
   ],
   "source": [
    "from utils import *\n",
    "viewset = SpotHistory(SROUTE, 'test', 16, lag=None, res=10, shuffle=False, verbose=False)\n",
    "\n",
    "sqerr = eval_rnn(viewset, model, plot=False)\n",
    "print('Eval segments:', len(viewset))\n",
    "print('Eval MSE: %.4f' % np.mean(sqerr))\n",
    "\n",
    "plt.figure(figsize=(14, 3))\n",
    "plt.plot(sorted(sqerr)); plt.ylim(0, 5)\n",
    "plt.show(); plt.close()\n",
    "\n",
    "_ = eval_rnn(viewset[:1], model, plot=True)"
   ]
  },
  {
   "cell_type": "code",
   "execution_count": null,
   "metadata": {},
   "outputs": [],
   "source": []
  }
 ],
 "metadata": {
  "kernelspec": {
   "display_name": "Python 3",
   "language": "python",
   "name": "python3"
  },
  "language_info": {
   "codemirror_mode": {
    "name": "ipython",
    "version": 3
   },
   "file_extension": ".py",
   "mimetype": "text/x-python",
   "name": "python",
   "nbconvert_exporter": "python",
   "pygments_lexer": "ipython3",
   "version": "3.5.2"
  }
 },
 "nbformat": 4,
 "nbformat_minor": 2
}
