{
 "cells": [
  {
   "cell_type": "code",
   "execution_count": 2,
   "metadata": {},
   "outputs": [],
   "source": [
    "%load_ext autoreload\n",
    "%autoreload 2\n",
    "%matplotlib inline"
   ]
  },
  {
   "cell_type": "code",
   "execution_count": 3,
   "metadata": {},
   "outputs": [],
   "source": [
    "from glob import glob\n",
    "from configs import *\n",
    "from tqdm import tqdm\n",
    "from utils import *\n",
    "import numpy as np\n",
    "import matplotlib.pyplot as plt\n",
    "from dataset import *\n",
    "from time import time\n",
    "tqdm.monitor_interval = 0\n",
    "import torch\n",
    "import json\n",
    "import torch.nn as nn\n",
    "import numpy as np\n",
    "torch.manual_seed(0)\n",
    "np.random.seed(0)"
   ]
  },
  {
   "cell_type": "code",
   "execution_count": 4,
   "metadata": {},
   "outputs": [
    {
     "data": {
      "text/plain": [
       "device(type='cuda', index=0)"
      ]
     },
     "execution_count": 4,
     "metadata": {},
     "output_type": "execute_result"
    }
   ],
   "source": [
    "LAG = 12\n",
    "EPS = 60\n",
    "SIND = 30\n",
    "# SIND = 35\n",
    "HSIZE = 256\n",
    "STOPS = 5\n",
    "DEEP = False\n",
    "SROUTE = SAMPLE_ROUTES[0]\n",
    "device = torch.device(\"cuda:0\" if torch.cuda.is_available() else \"cpu\")\n",
    "device"
   ]
  },
  {
   "cell_type": "code",
   "execution_count": 5,
   "metadata": {},
   "outputs": [
    {
     "name": "stdout",
     "output_type": "stream",
     "text": [
      "Locals dataset: train (metadata/2h/M102_0.json)\n",
      " [*] Loaded routes: 1 (0.07s)\n",
      " [*] Has trainable inds: 109128\n",
      " [*] Subset train: 3069\n",
      " [*] Subset in Stop-30: 2129\n",
      "Locals dataset: test (metadata/2h/M102_0.json)\n",
      " [*] Loaded routes: 1 (0.08s)\n",
      " [*] Has trainable inds: 109128\n",
      " [*] Subset test: 740\n",
      " [*] Subset in Stop-30: 540\n"
     ]
    }
   ],
   "source": [
    "dset = SingleStop(\n",
    "    SROUTE, SIND, 'train', 32, \n",
    "    lag=LAG, stops=STOPS).generator()\n",
    "evalset = SingleStop(\n",
    "    SROUTE, SIND, 'test', 32, \n",
    "    lag=LAG, stops=STOPS).generator(shuffle=False)"
   ]
  },
  {
   "cell_type": "code",
   "execution_count": 5,
   "metadata": {},
   "outputs": [],
   "source": [
    "from models.temporal.RNN import *"
   ]
  },
  {
   "cell_type": "code",
   "execution_count": 6,
   "metadata": {},
   "outputs": [],
   "source": [
    "if not DEEP:\n",
    "    model = RNN_MIN(hidden_size=HSIZE, steps=STOPS).to(device)\n",
    "else:\n",
    "    model = RNN(hidden_size=HSIZE, steps=STOPS).to(device)\n",
    "model.device = device"
   ]
  },
  {
   "cell_type": "code",
   "execution_count": 7,
   "metadata": {},
   "outputs": [],
   "source": [
    "criterion, opt, sch = model.params(lr=0.001)"
   ]
  },
  {
   "cell_type": "code",
   "execution_count": 8,
   "metadata": {},
   "outputs": [
    {
     "name": "stdout",
     "output_type": "stream",
     "text": [
      "Eval loss: 28.6983   \n"
     ]
    }
   ],
   "source": [
    "# SOI (stop of interest) is the 0th stop\n",
    "mseop = lambda _y, y: criterion(_y[:, :, 0], y[:, :, 0])\n",
    "evaluate(evalset, model, crit=lambda _y, y: mseop(_y, y).item())"
   ]
  },
  {
   "cell_type": "code",
   "execution_count": 9,
   "metadata": {
    "scrolled": true
   },
   "outputs": [
    {
     "name": "stdout",
     "output_type": "stream",
     "text": [
      "[1/60 : 66/66] - L19.28      \n",
      "Eval loss: 22.5686   \n",
      "[2/60 : 66/66] - L12.91      \n",
      "Eval loss: 17.9707   \n",
      "[3/60 : 66/66] - L8.14       \n",
      "Eval loss: 14.5006   \n",
      "[4/60 : 66/66] - L7.77       \n",
      "Eval loss: 11.8732   \n",
      "[5/60 : 66/66] - L6.19       \n",
      "Eval loss: 9.8865    \n",
      "[6/60 : 66/66] - L7.01       \n",
      "Eval loss: 8.3877    \n",
      "[7/60 : 66/66] - L6.94      \n",
      "Eval loss: 7.2594    \n",
      "[8/60 : 66/66] - L5.20      \n",
      "Eval loss: 6.4151    \n",
      "[9/60 : 66/66] - L3.41      \n",
      "Eval loss: 5.7842    \n",
      "[10/60 : 66/66] - L4.16      \n",
      "Eval loss: 5.3137    \n",
      "[11/60 : 66/66] - L3.43      \n",
      "Eval loss: 4.9636    \n",
      "[12/60 : 66/66] - L3.57      \n",
      "Eval loss: 4.7026    \n",
      "[13/60 : 66/66] - L3.59      \n",
      "Eval loss: 4.5078    \n",
      "[14/60 : 66/66] - L3.84      \n",
      "Eval loss: 4.3625    \n",
      "[15/60 : 66/66] - L4.94      \n",
      "Eval loss: 4.2531   \n",
      "[16/60 : 66/66] - L3.56      \n",
      "Eval loss: 4.1698   \n",
      "[17/60 : 66/66] - L3.48      \n",
      "Eval loss: 4.1063   \n",
      "[18/60 : 66/66] - L2.27      \n",
      "Eval loss: 4.0572   \n",
      "[19/60 : 66/66] - L3.63      \n",
      "Eval loss: 4.0185   \n",
      "[20/60 : 66/66] - L3.97      \n",
      "Eval loss: 3.9875   \n",
      "[21/60 : 66/66] - L3.78      \n",
      "Eval loss: 3.9626   \n",
      "[22/60 : 66/66] - L2.15      \n",
      "Eval loss: 3.9417   \n",
      "[23/60 : 66/66] - L2.55      \n",
      "Eval loss: 3.9242   \n",
      "[24/60 : 66/66] - L3.57      \n",
      "Eval loss: 3.9090   \n",
      "[25/60 : 66/66] - L3.50      \n",
      "Eval loss: 3.8957   \n",
      "[26/60 : 66/66] - L3.38      \n",
      "Eval loss: 3.8839   \n",
      "[27/60 : 66/66] - L3.34      \n",
      "Eval loss: 3.8732   \n",
      "[28/60 : 66/66] - L3.59      \n",
      "Eval loss: 3.8633   \n",
      "[29/60 : 66/66] - L3.07      \n",
      "Eval loss: 3.8543   \n",
      "[30/60 : 66/66] - L3.53      \n",
      "Eval loss: 3.8457   \n",
      "[31/60 : 66/66] - L2.79      \n",
      "Eval loss: 3.8378   \n",
      "[32/60 : 66/66] - L3.94      \n",
      "Eval loss: 3.8300   \n",
      "[33/60 : 66/66] - L2.67      \n",
      "Eval loss: 3.8224   \n",
      "[34/60 : 66/66] - L2.53      \n",
      "Eval loss: 3.8152   \n",
      "[35/60 : 66/66] - L3.65      \n",
      "Eval loss: 3.8082   \n",
      "[36/60 : 66/66] - L3.32      \n",
      "Eval loss: 3.8014   \n",
      "[37/60 : 66/66] - L4.20      \n",
      "Eval loss: 3.7946   \n",
      "[38/60 : 66/66] - L3.37      \n",
      "Eval loss: 3.7880   \n",
      "[39/60 : 66/66] - L3.36      \n",
      "Eval loss: 3.7815   \n",
      "[40/60 : 66/66] - L3.62      \n",
      "Eval loss: 3.7753   \n",
      "[41/60 : 66/66] - L3.22      \n",
      "Eval loss: 3.7692   \n",
      "[42/60 : 66/66] - L3.26      \n",
      "Eval loss: 3.7630   \n",
      "[43/60 : 66/66] - L2.46      \n",
      "Eval loss: 3.7570   \n",
      "[44/60 : 66/66] - L4.16      \n",
      "Eval loss: 3.7509   \n",
      "[45/60 : 66/66] - L3.62      \n",
      "Eval loss: 3.7449   \n",
      "[46/60 : 66/66] - L2.20      \n",
      "Eval loss: 3.7390   \n",
      "[47/60 : 66/66] - L3.04      \n",
      "Eval loss: 3.7331   \n",
      "[48/60 : 66/66] - L2.51      \n",
      "Eval loss: 3.7273   \n",
      "[49/60 : 66/66] - L2.66      \n",
      "Eval loss: 3.7216   \n",
      "[50/60 : 66/66] - L2.35      \n",
      "Eval loss: 3.7158   \n",
      "[51/60 : 66/66] - L3.51      \n",
      "Eval loss: 3.7102   \n",
      "[52/60 : 66/66] - L2.82      \n",
      "Eval loss: 3.7045   \n",
      "[53/60 : 66/66] - L2.88      \n",
      "Eval loss: 3.6989   \n",
      "[54/60 : 66/66] - L3.08      \n",
      "Eval loss: 3.6932   \n",
      "[55/60 : 66/66] - L2.56      \n",
      "Eval loss: 3.6878   \n",
      "[56/60 : 66/66] - L2.80      \n",
      "Eval loss: 3.6823   \n",
      "[57/60 : 66/66] - L2.92      \n",
      "Eval loss: 3.6768   \n",
      "[58/60 : 66/66] - L4.10      \n",
      "Eval loss: 3.6715   \n",
      "[59/60 : 66/66] - L3.27      \n",
      "Eval loss: 3.6660   \n",
      "[60/60 : 66/66] - L3.84      \n",
      "Eval loss: 3.6606   \n"
     ]
    }
   ],
   "source": [
    "losses = []\n",
    "eval_mse = []\n",
    "eval_mape = []\n",
    "from numpy.random import randint\n",
    "for eii  in range(EPS):\n",
    "    for bii, batch in enumerate(dset):\n",
    "        model.train()\n",
    "        Xs, Ys = model.format_batch(batch)\n",
    "        \n",
    "        outputs = model(Xs)\n",
    "\n",
    "        opt.zero_grad()\n",
    "        loss = criterion(outputs, Ys)\n",
    "        loss.backward()\n",
    "        losses.append(loss.item())\n",
    "        opt.step()\n",
    "\n",
    "        sys.stdout.write('[%d/%d : %d/%d] - L%.2f      \\r' % (\n",
    "            eii+1, EPS,\n",
    "            bii+1, len(dset), \n",
    "            10**2 * loss.item()\n",
    "        ))\n",
    "    sys.stdout.write('\\n')\n",
    "\n",
    "    eval_mse.append(\n",
    "        evaluate(evalset, model, crit=lambda _y, y: mseop(_y, y).item(), result=True))\n",
    "    sys.stdout.flush()\n",
    "#     sch.step()"
   ]
  },
  {
   "cell_type": "code",
   "execution_count": 19,
   "metadata": {},
   "outputs": [
    {
     "name": "stdout",
     "output_type": "stream",
     "text": [
      "Locals dataset: test (metadata/16h/M102_0.json)\n",
      " [*] Loaded routes: 1 (0.00s)\n",
      " [*] Has trainable inds: 262\n",
      " [*] Subset test: 15\n",
      " [*] Subset in Stop-35: 2\n"
     ]
    }
   ],
   "source": [
    "VIEW_LAG=96\n",
    "viewset = SingleStop(\n",
    "    SROUTE, SIND, 'test', 32, \n",
    "    lag=VIEW_LAG, stops=5)\n",
    "viewset = [viewset[ii] for ii in range(1)]"
   ]
  },
  {
   "cell_type": "code",
   "execution_count": 20,
   "metadata": {},
   "outputs": [
    {
     "data": {
      "image/png": "[encoded data removed]",
      "text/plain": [
       "<Figure size 1008x360 with 1 Axes>"
      ]
     },
     "metadata": {},
     "output_type": "display_data"
    }
   ],
   "source": [
    "# STOPS = 5\n",
    "show_eval_rnn(viewset, model)\n",
    "# torch.save(model.state_dict(), 'checkpoints/rnn_thin_n1.pth')"
   ]
  },
  {
   "cell_type": "code",
   "execution_count": null,
   "metadata": {},
   "outputs": [],
   "source": []
  }
 ],
 "metadata": {
  "kernelspec": {
   "display_name": "Python 3",
   "language": "python",
   "name": "python3"
  },
  "language_info": {
   "codemirror_mode": {
    "name": "ipython",
    "version": 3
   },
   "file_extension": ".py",
   "mimetype": "text/x-python",
   "name": "python",
   "nbconvert_exporter": "python",
   "pygments_lexer": "ipython3",
   "version": "3.5.2"
  }
 },
 "nbformat": 4,
 "nbformat_minor": 2
}
