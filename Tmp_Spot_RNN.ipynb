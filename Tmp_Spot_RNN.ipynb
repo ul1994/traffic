{
 "cells": [
  {
   "cell_type": "code",
   "execution_count": 1,
   "metadata": {},
   "outputs": [],
   "source": [
    "%load_ext autoreload\n",
    "%autoreload 2\n",
    "%matplotlib inline"
   ]
  },
  {
   "cell_type": "code",
   "execution_count": 2,
   "metadata": {},
   "outputs": [],
   "source": [
    "from glob import glob\n",
    "from configs import *\n",
    "from tqdm import tqdm\n",
    "from utils import *\n",
    "import numpy as np\n",
    "import matplotlib.pyplot as plt\n",
    "from dataset import *\n",
    "from time import time\n",
    "tqdm.monitor_interval = 0\n",
    "import torch\n",
    "import json\n",
    "import torch.nn as nn\n",
    "import numpy as np\n",
    "torch.manual_seed(0)\n",
    "np.random.seed(0)"
   ]
  },
  {
   "cell_type": "code",
   "execution_count": 3,
   "metadata": {},
   "outputs": [
    {
     "data": {
      "text/plain": [
       "device(type='cuda', index=0)"
      ]
     },
     "execution_count": 3,
     "metadata": {},
     "output_type": "execute_result"
    }
   ],
   "source": [
    "LAG = 12\n",
    "EPS = 60\n",
    "SIND = 30\n",
    "HSIZE = 256\n",
    "STOPS = 5\n",
    "DEEP = False\n",
    "SROUTE = SAMPLE_ROUTES[0]\n",
    "device = torch.device(\"cuda:0\" if torch.cuda.is_available() else \"cpu\")\n",
    "device"
   ]
  },
  {
   "cell_type": "code",
   "execution_count": 4,
   "metadata": {},
   "outputs": [
    {
     "name": "stdout",
     "output_type": "stream",
     "text": [
      "Locals dataset: train (metadata/2h/M102_0.json)\n",
      " [*] Loaded routes: 1 (0.08s)\n",
      " [*] Has trainable inds: 109128\n",
      " [*] Subset train: 88215\n",
      " [*] Subset in Stop-30: 2129\n",
      "Locals dataset: test (metadata/2h/M102_0.json)\n",
      " [*] Loaded routes: 1 (0.08s)\n",
      " [*] Has trainable inds: 109128\n",
      " [*] Subset test: 20913\n",
      " [*] Subset in Stop-30: 540\n"
     ]
    }
   ],
   "source": [
    "dset = SingleStop(\n",
    "    SROUTE, SIND, 'train', 32, \n",
    "    lag=LAG, stops=STOPS).generator()\n",
    "evalset = SingleStop(\n",
    "    SROUTE, SIND, 'test', 32, \n",
    "    lag=LAG, stops=STOPS).generator(shuffle=False)"
   ]
  },
  {
   "cell_type": "code",
   "execution_count": 5,
   "metadata": {},
   "outputs": [],
   "source": [
    "from models.temporal.RNN import RNN"
   ]
  },
  {
   "cell_type": "code",
   "execution_count": 6,
   "metadata": {},
   "outputs": [],
   "source": [
    "if not DEEP:\n",
    "    model = RNN(hidden_size=HSIZE, steps=STOPS).to(device)\n",
    "else:\n",
    "    model = RNN(hidden_size=HSIZE, steps=STOPS).to(device)\n",
    "model.device = device"
   ]
  },
  {
   "cell_type": "code",
   "execution_count": 7,
   "metadata": {},
   "outputs": [],
   "source": [
    "criterion, opt, sch = model.params(lr=0.001)"
   ]
  },
  {
   "cell_type": "code",
   "execution_count": 8,
   "metadata": {},
   "outputs": [
    {
     "name": "stdout",
     "output_type": "stream",
     "text": [
      "Eval loss: 4.3721   \n",
      "Eval loss: 19.4025   \n"
     ]
    }
   ],
   "source": [
    "# Xs, Ys are reversed, so last (-1) holds the first SOI (stop of interest)\n",
    "mseop = lambda _y, y: criterion(_y[:, :, -1], y[:, :, -1])\n",
    "evaluate(evalset, model, crit=lambda _y, y: np.sqrt(mseop(_y, y).item()))\n",
    "evaluate(evalset, model, crit=lambda _y, y: mseop(_y, y).item())"
   ]
  },
  {
   "cell_type": "code",
   "execution_count": 9,
   "metadata": {
    "scrolled": false
   },
   "outputs": [
    {
     "name": "stdout",
     "output_type": "stream",
     "text": [
      "[1/60 : 66/66] - L3.91       \n",
      "Eval loss: 5.2904    \n",
      "[2/60 : 66/66] - L2.34      \n",
      "Eval loss: 4.4551   \n",
      "[3/60 : 66/66] - L4.21      \n",
      "Eval loss: 4.3130   \n",
      "[4/60 : 66/66] - L3.05      \n",
      "Eval loss: 4.1712   \n",
      "[5/60 : 66/66] - L2.27      \n",
      "Eval loss: 4.0407   \n",
      "[6/60 : 66/66] - L1.65      \n",
      "Eval loss: 3.9152   \n",
      "[7/60 : 66/66] - L2.83      \n",
      "Eval loss: 3.7989   \n",
      "[8/60 : 66/66] - L2.28      \n",
      "Eval loss: 3.6997   \n",
      "[9/60 : 66/66] - L1.97      \n",
      "Eval loss: 3.6142   \n",
      "[10/60 : 66/66] - L3.23      \n",
      "Eval loss: 3.5381   \n",
      "[11/60 : 66/66] - L1.84      \n",
      "Eval loss: 3.4775   \n",
      "[12/60 : 66/66] - L2.16      \n",
      "Eval loss: 3.4241   \n",
      "[13/60 : 66/66] - L1.84      \n",
      "Eval loss: 3.3876   \n",
      "[14/60 : 66/66] - L1.69      \n",
      "Eval loss: 3.3279   \n",
      "[15/60 : 66/66] - L3.23      \n",
      "Eval loss: 3.2921   \n",
      "[16/60 : 66/66] - L1.67      \n",
      "Eval loss: 3.2629   \n",
      "[17/60 : 66/66] - L2.04      \n",
      "Eval loss: 3.2345   \n",
      "[18/60 : 66/66] - L4.97      \n",
      "Eval loss: 3.2001   \n",
      "[19/60 : 66/66] - L2.70      \n",
      "Eval loss: 3.1661   \n",
      "[20/60 : 66/66] - L2.43      \n",
      "Eval loss: 3.1421   \n",
      "[21/60 : 66/66] - L1.61      \n",
      "Eval loss: 3.1189   \n",
      "[22/60 : 66/66] - L1.52      \n",
      "Eval loss: 3.1071   \n",
      "[23/60 : 66/66] - L1.40      \n",
      "Eval loss: 3.0728   \n",
      "[24/60 : 66/66] - L1.68      \n",
      "Eval loss: 3.0519   \n",
      "[25/60 : 66/66] - L3.01      \n",
      "Eval loss: 3.0311   \n",
      "[26/60 : 66/66] - L1.92      \n",
      "Eval loss: 3.0107   \n",
      "[27/60 : 66/66] - L4.19      \n",
      "Eval loss: 2.9982   \n",
      "[28/60 : 66/66] - L1.63      \n",
      "Eval loss: 2.9885   \n",
      "[29/60 : 66/66] - L1.76      \n",
      "Eval loss: 2.9634   \n",
      "[30/60 : 66/66] - L1.80      \n",
      "Eval loss: 2.9763   \n",
      "[31/60 : 66/66] - L6.95      \n",
      "Eval loss: 2.9271   \n",
      "[32/60 : 66/66] - L1.53      \n",
      "Eval loss: 2.9111   \n",
      "[33/60 : 66/66] - L1.56      \n",
      "Eval loss: 2.9001   \n",
      "[34/60 : 66/66] - L2.29      \n",
      "Eval loss: 2.8817   \n",
      "[35/60 : 66/66] - L2.53      \n",
      "Eval loss: 2.8731   \n",
      "[36/60 : 66/66] - L5.62      \n",
      "Eval loss: 2.8861   \n",
      "[37/60 : 66/66] - L2.68      \n",
      "Eval loss: 2.8373   \n",
      "[38/60 : 66/66] - L3.92      \n",
      "Eval loss: 2.9013   \n",
      "[39/60 : 66/66] - L1.43      \n",
      "Eval loss: 2.8150   \n",
      "[40/60 : 66/66] - L1.24      \n",
      "Eval loss: 2.7957   \n",
      "[41/60 : 66/66] - L1.52      \n",
      "Eval loss: 2.7804   \n",
      "[42/60 : 66/66] - L1.71      \n",
      "Eval loss: 2.7649   \n",
      "[43/60 : 66/66] - L1.61      \n",
      "Eval loss: 2.7554   \n",
      "[44/60 : 66/66] - L1.30      \n",
      "Eval loss: 2.7542   \n",
      "[45/60 : 66/66] - L1.40      \n",
      "Eval loss: 2.7276   \n",
      "[46/60 : 66/66] - L1.50      \n",
      "Eval loss: 2.7155   \n",
      "[47/60 : 66/66] - L1.96      \n",
      "Eval loss: 2.7757   \n",
      "[48/60 : 66/66] - L2.80      \n",
      "Eval loss: 2.7468   \n",
      "[49/60 : 66/66] - L1.85      \n",
      "Eval loss: 2.6690   \n",
      "[50/60 : 66/66] - L4.15      \n",
      "Eval loss: 2.6698   \n",
      "[51/60 : 66/66] - L4.13      \n",
      "Eval loss: 2.7052   \n",
      "[52/60 : 66/66] - L1.28      \n",
      "Eval loss: 2.6358   \n",
      "[53/60 : 66/66] - L1.25      \n",
      "Eval loss: 2.6227   \n",
      "[54/60 : 66/66] - L1.49      \n",
      "Eval loss: 2.6038   \n",
      "[55/60 : 66/66] - L1.19      \n",
      "Eval loss: 2.5920   \n",
      "[56/60 : 66/66] - L4.28      \n",
      "Eval loss: 2.5828   \n",
      "[57/60 : 66/66] - L1.11      \n",
      "Eval loss: 2.6321   \n",
      "[58/60 : 66/66] - L1.15      \n",
      "Eval loss: 2.5513   \n",
      "[59/60 : 66/66] - L2.23      \n",
      "Eval loss: 2.5345   \n",
      "[60/60 : 66/66] - L1.52      \n",
      "Eval loss: 2.5326   \n"
     ]
    }
   ],
   "source": [
    "losses = []\n",
    "eval_mse = []\n",
    "eval_mape = []\n",
    "from numpy.random import randint\n",
    "for eii  in range(EPS):\n",
    "    for bii, batch in enumerate(dset):\n",
    "        model.train()\n",
    "        Xs, Ys = model.format_batch(batch)\n",
    "        \n",
    "        outputs = model(Xs)\n",
    "\n",
    "        opt.zero_grad()\n",
    "        loss = criterion(outputs, Ys)\n",
    "        loss.backward()\n",
    "        losses.append(loss.item())\n",
    "        opt.step()\n",
    "\n",
    "        sys.stdout.write('[%d/%d : %d/%d] - L%.2f      \\r' % (\n",
    "            eii+1, EPS,\n",
    "            bii+1, len(dset), \n",
    "            loss.item()\n",
    "        ))\n",
    "    sys.stdout.write('\\n')\n",
    "\n",
    "    eval_mse.append(\n",
    "        evaluate(evalset, model, crit=lambda _y, y: mseop(_y, y).item(), result=True))\n",
    "    sys.stdout.flush()\n",
    "#     sch.step()"
   ]
  },
  {
   "cell_type": "code",
   "execution_count": 10,
   "metadata": {},
   "outputs": [
    {
     "name": "stdout",
     "output_type": "stream",
     "text": [
      "Locals dataset: test (metadata/16h/M102_0.json)\n",
      " [*] Loaded routes: 1 (0.00s)\n",
      " [*] Has trainable inds: 262\n",
      " [*] Subset test: 59\n",
      " [*] Subset in Stop-30: 1\n"
     ]
    }
   ],
   "source": [
    "VIEW_LAG=96\n",
    "viewset = SingleStop(\n",
    "    SROUTE, SIND, 'test', 32, \n",
    "    lag=VIEW_LAG, stops=5)\n",
    "viewset = [viewset[ii] for ii in range(1)]"
   ]
  },
  {
   "cell_type": "code",
   "execution_count": 19,
   "metadata": {
    "scrolled": true
   },
   "outputs": [
    {
     "data": {
      "image/png": "[encoded data removed]",
      "text/plain": [
       "<Figure size 1008x360 with 1 Axes>"
      ]
     },
     "metadata": {},
     "output_type": "display_data"
    }
   ],
   "source": [
    "from utils import *\n",
    "# Dense\n",
    "# STOPS = 1\n",
    "model.lag = 5\n",
    "show_eval_rnn(viewset, model)\n",
    "# torch.save(model.state_dict(), 'checkpoints/dense_n1.pth')"
   ]
  },
  {
   "cell_type": "code",
   "execution_count": null,
   "metadata": {},
   "outputs": [],
   "source": []
  }
 ],
 "metadata": {
  "kernelspec": {
   "display_name": "Python 3",
   "language": "python",
   "name": "python3"
  },
  "language_info": {
   "codemirror_mode": {
    "name": "ipython",
    "version": 3
   },
   "file_extension": ".py",
   "mimetype": "text/x-python",
   "name": "python",
   "nbconvert_exporter": "python",
   "pygments_lexer": "ipython3",
   "version": "3.5.2"
  }
 },
 "nbformat": 4,
 "nbformat_minor": 2
}
