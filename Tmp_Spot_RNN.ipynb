{
 "cells": [
  {
   "cell_type": "code",
   "execution_count": 1,
   "metadata": {},
   "outputs": [],
   "source": [
    "%load_ext autoreload\n",
    "%autoreload 2\n",
    "%matplotlib inline"
   ]
  },
  {
   "cell_type": "code",
   "execution_count": 2,
   "metadata": {},
   "outputs": [],
   "source": [
    "from glob import glob\n",
    "from configs import *\n",
    "from tqdm import tqdm\n",
    "from utils import *\n",
    "import numpy as np\n",
    "import matplotlib.pyplot as plt\n",
    "from dataset import *\n",
    "from time import time\n",
    "tqdm.monitor_interval = 0\n",
    "import torch\n",
    "import json\n",
    "import torch.nn as nn\n",
    "import numpy as np\n",
    "torch.manual_seed(0)\n",
    "np.random.seed(0)"
   ]
  },
  {
   "cell_type": "code",
   "execution_count": 3,
   "metadata": {},
   "outputs": [
    {
     "data": {
      "text/plain": [
       "device(type='cuda', index=0)"
      ]
     },
     "execution_count": 3,
     "metadata": {},
     "output_type": "execute_result"
    }
   ],
   "source": [
    "LAG = 12\n",
    "EPS = 30\n",
    "SIND = 30\n",
    "HSIZE = 256\n",
    "DEEP = False\n",
    "SROUTE = SAMPLE_ROUTES[0]\n",
    "device = torch.device(\"cuda:0\" if torch.cuda.is_available() else \"cpu\")\n",
    "device"
   ]
  },
  {
   "cell_type": "code",
   "execution_count": 4,
   "metadata": {},
   "outputs": [
    {
     "name": "stdout",
     "output_type": "stream",
     "text": [
      "Locals dataset: train\n",
      " [*] Loaded routes: 1 (0.33s)\n",
      " [*] Has trainable inds: 262262\n",
      " [*] Subset train: 212106\n",
      " [*] Subset in Stop-30: 6079\n",
      "Locals dataset: test\n",
      " [*] Loaded routes: 1 (0.35s)\n",
      " [*] Has trainable inds: 262262\n",
      " [*] Subset test: 50156\n",
      " [*] Subset in Stop-30: 1549\n"
     ]
    }
   ],
   "source": [
    "dset = SingleStop(SROUTE, SIND, 'train', 32, lag=LAG).generator()\n",
    "evalset = SingleStop(SROUTE, SIND, 'test', 32, lag=LAG).generator(shuffle=False)"
   ]
  },
  {
   "cell_type": "code",
   "execution_count": 9,
   "metadata": {},
   "outputs": [],
   "source": [
    "from models.temporal.RNN import RNN"
   ]
  },
  {
   "cell_type": "code",
   "execution_count": 12,
   "metadata": {},
   "outputs": [],
   "source": [
    "model = RNN(hidden_size=HSIZE, deep=DEEP, lag=LAG, steps=1).to(device)\n",
    "model.device = device"
   ]
  },
  {
   "cell_type": "code",
   "execution_count": 13,
   "metadata": {},
   "outputs": [],
   "source": [
    "criterion, opt, sch = model.params(lr=0.001)"
   ]
  },
  {
   "cell_type": "code",
   "execution_count": 14,
   "metadata": {},
   "outputs": [
    {
     "name": "stdout",
     "output_type": "stream",
     "text": [
      "Eval loss: 91.2241   \n",
      "Eval loss: 12.8127   \n"
     ]
    }
   ],
   "source": [
    "evaluate(evalset, model, crit=lambda y, _y: mape(tonpy(y)[:, 0], tonpy(_y)[:, 0]))\n",
    "evaluate(evalset, model, crit=lambda y, _y: criterion(y[:, 0], _y[:, 0]).item())"
   ]
  },
  {
   "cell_type": "code",
   "execution_count": null,
   "metadata": {},
   "outputs": [],
   "source": [
    "# evaluate(evalset, model, crit=lambda _y, y: mape(tonpy(_y), tonpy(y), yavg))\n",
    "# evaluate(evalset, model, crit=lambda _y, y: criterion(_y, y).item())"
   ]
  },
  {
   "cell_type": "code",
   "execution_count": 15,
   "metadata": {
    "scrolled": false
   },
   "outputs": [
    {
     "name": "stdout",
     "output_type": "stream",
     "text": [
      "[1/30 : 189/189] - L2.74       \n",
      "Eval loss: 3.1147    \n",
      "Eval loss: 46.9135   \n",
      "[2/30 : 189/189] - L1.54       \n",
      "Eval loss: 3.0825    \n",
      "Eval loss: 48.4947   \n",
      "[3/30 : 189/189] - L31.58      \n",
      "Eval loss: 3.0530    \n",
      "Eval loss: 47.5794   \n",
      "[4/30 : 189/189] - L2.29       \n",
      "Eval loss: 3.0198    \n",
      "Eval loss: 46.5780   \n",
      "[5/30 : 189/189] - L1.90       \n",
      "Eval loss: 3.0127    \n",
      "Eval loss: 46.7888   \n",
      "[6/30 : 189/189] - L1.95       \n",
      "Eval loss: 3.0163    \n",
      "Eval loss: 45.2000   \n",
      "[7/30 : 189/189] - L1.92       \n",
      "Eval loss: 3.0363    \n",
      "Eval loss: 49.2879   \n",
      "[8/30 : 189/189] - L9.83       \n",
      "Eval loss: 3.0586    \n",
      "Eval loss: 50.9072   \n",
      "[9/30 : 189/189] - L6.56       \n",
      "Eval loss: 3.0139    \n",
      "Eval loss: 49.6369   \n",
      "[10/30 : 189/189] - L1.20       \n",
      "Eval loss: 2.9764    \n",
      "Eval loss: 44.7533   \n",
      "[11/30 : 189/189] - L1.50       \n",
      "Eval loss: 2.9995    \n",
      "Eval loss: 43.3657   \n",
      "[12/30 : 189/189] - L2.24       \n",
      "Eval loss: 3.0015    \n",
      "Eval loss: 45.4553   \n",
      "[13/30 : 189/189] - L13.44      \n",
      "Eval loss: 2.9702    \n",
      "Eval loss: 47.6348   \n",
      "[14/30 : 189/189] - L4.23       \n",
      "Eval loss: 3.0574    \n",
      "Eval loss: 52.1106   \n",
      "[15/30 : 189/189] - L1.80       \n",
      "Eval loss: 2.9853    \n",
      "Eval loss: 44.8996   \n",
      "[16/30 : 189/189] - L2.19      \n",
      "Eval loss: 2.9783    \n",
      "Eval loss: 47.5633   \n",
      "[17/30 : 189/189] - L1.67       \n",
      "Eval loss: 2.9359    \n",
      "Eval loss: 45.1366   \n",
      "[18/30 : 189/189] - L3.24       \n",
      "Eval loss: 2.9831    \n",
      "Eval loss: 47.5862   \n",
      "[19/30 : 189/189] - L1.34       \n",
      "Eval loss: 2.9879    \n",
      "Eval loss: 44.7343   \n",
      "[20/30 : 189/189] - L1.29       \n",
      "Eval loss: 2.9557    \n",
      "Eval loss: 44.1672   \n",
      "[21/30 : 189/189] - L2.49       \n",
      "Eval loss: 2.9335    \n",
      "Eval loss: 45.6199   \n",
      "[22/30 : 189/189] - L1.91       \n",
      "Eval loss: 2.9802    \n",
      "Eval loss: 43.8582   \n",
      "[23/30 : 189/189] - L2.15       \n",
      "Eval loss: 2.9891    \n",
      "Eval loss: 43.5822   \n",
      "[24/30 : 189/189] - L2.39       \n",
      "Eval loss: 3.0326    \n",
      "Eval loss: 43.6038   \n",
      "[25/30 : 189/189] - L1.41       \n",
      "Eval loss: 2.9790    \n",
      "Eval loss: 43.4281   \n",
      "[26/30 : 189/189] - L1.37       \n",
      "Eval loss: 2.9738    \n",
      "Eval loss: 47.6425   \n",
      "[27/30 : 189/189] - L0.85       \n",
      "Eval loss: 3.0160    \n",
      "Eval loss: 50.4445   \n",
      "[28/30 : 189/189] - L1.59       \n",
      "Eval loss: 2.9346    \n",
      "Eval loss: 46.8430   \n",
      "[29/30 : 189/189] - L15.81      \n",
      "Eval loss: 2.9850    \n",
      "Eval loss: 49.7572   \n",
      "[30/30 : 189/189] - L3.67       \n",
      "Eval loss: 2.9530    \n",
      "Eval loss: 47.9311   \n"
     ]
    }
   ],
   "source": [
    "losses = []\n",
    "eval_mse = []\n",
    "eval_mape = []\n",
    "from numpy.random import randint\n",
    "for eii  in range(EPS):\n",
    "    for bii, batch in enumerate(dset):\n",
    "        model.train()\n",
    "#         indend = 2 + randint(10)\n",
    "        indend = 12\n",
    "        Xs, Ys = model.format_batch(batch[:, :indend])\n",
    "        \n",
    "        outputs = model(Xs)\n",
    "\n",
    "        opt.zero_grad()\n",
    "        loss = criterion(outputs, Ys)\n",
    "        loss.backward()\n",
    "        losses.append(loss.item())\n",
    "        opt.step()\n",
    "\n",
    "        sys.stdout.write('[%d/%d : %d/%d] - L%.2f      \\r' % (\n",
    "            eii+1, EPS,\n",
    "            bii+1, len(dset), \n",
    "            loss.item()\n",
    "        ))\n",
    "    sys.stdout.write('\\n')\n",
    "\n",
    "    eval_mse.append(\n",
    "        evaluate(\n",
    "            evalset, model, \n",
    "            crit=lambda y, _y: criterion(y[:, 0], _y[:, 0]).item(), result=True))\n",
    "    eval_mape.append(\n",
    "        evaluate(\n",
    "            evalset, model, \n",
    "            crit=lambda y, _y: mape(tonpy(y)[:, 0], tonpy(_y)[:, 0]), result=True))\n",
    "    sys.stdout.flush()\n",
    "#     sch.step()"
   ]
  },
  {
   "cell_type": "code",
   "execution_count": 17,
   "metadata": {},
   "outputs": [],
   "source": [
    "name = 'n10-%s-%d'% (SROUTE, SIND)\n",
    "torch.save(model.state_dict(), 'checkpoints/rnn/%s.pth' % name)"
   ]
  },
  {
   "cell_type": "code",
   "execution_count": 18,
   "metadata": {},
   "outputs": [
    {
     "name": "stdout",
     "output_type": "stream",
     "text": [
      "n10-M102_0-30\n"
     ]
    }
   ],
   "source": [
    "print(name)"
   ]
  },
  {
   "cell_type": "code",
   "execution_count": null,
   "metadata": {},
   "outputs": [],
   "source": []
  },
  {
   "cell_type": "code",
   "execution_count": 19,
   "metadata": {},
   "outputs": [],
   "source": [
    "# plt.figure(figsize=(14, 4))\n",
    "# plt.subplot(1, 2, 1)\n",
    "# plt.plot(losses)\n",
    "# plt.subplot(1, 2, 2)\n",
    "# plt.plot(eval_mse)\n",
    "# plt.show();plt.close()"
   ]
  },
  {
   "cell_type": "code",
   "execution_count": 29,
   "metadata": {},
   "outputs": [],
   "source": [
    "kcast = 5\n",
    "model.eval()\n",
    "klosses = [list() for _ in range(kcast)]\n",
    "for batch in evalset:\n",
    "    Xs, Ys = model.format_batch(batch[:, :6, :])\n",
    "    yinit, hidden, yall = model(Xs, dump=True)\n",
    "    ycasts = [yinit.detach()] # k=1\n",
    "    xnext = [yinit.detach()]\n",
    "    for ki in range(1, kcast):\n",
    "        ynext, hidden, _ = model(xnext, hidden=hidden, dump=True)\n",
    "        ycasts.append(ynext)\n",
    "        xnext = [ynext.detach()]\n",
    "\n",
    "    Xs, _ = model.format_batch(batch[:, 6:, :])\n",
    "    ypred, ytrue = torch.stack(ycasts, dim=1), torch.stack(Xs[:kcast], dim=1)\n",
    "    for ki in range(kcast):\n",
    "        kmse = criterion(ypred[:, ki, 0], ytrue[:, ki, 0]).item()\n",
    "        kmape = mape(tonpy(ypred[:, ki, 0]), tonpy(ytrue[:, ki, 0]))\n",
    "        klosses[ki].append([kmse, kmape])\n",
    "#     bi = 0\n",
    "#     plt.figure(figsize=(14, 3))\n",
    "#     plt.plot(tonpy(batch[bi, -2, :]), color='#DDDDDD')\n",
    "# #     for yent in yall:\n",
    "# #         print(yent.size())\n",
    "# #         plt.plot(tonpy(yent[bi]), color='#CCCCCC')\n",
    "# #     for ki in range(kcast):\n",
    "#     plt.plot(range(5, 10), tonpy(ypred)[bi])\n",
    "#     plt.show(); plt.close()\n",
    "#     assert False\n",
    "fcast = []\n",
    "for ki in range(kcast):\n",
    "    kmse, kmape = zip(*klosses[ki])\n",
    "    kmse = np.mean(kmse)\n",
    "    kmape = np.mean(kmape)\n",
    "    fcast.append(dict(mse=kmse, mape=kmape))\n",
    "    \n",
    "# print(kmse, kmape)\n",
    "\n",
    "with open('checkpoints/rnn/%s.json' % name, 'w') as fl:\n",
    "    json.dump(dict(\n",
    "        mse=eval_mse,\n",
    "        mape=eval_mape,\n",
    "        fcast=fcast,\n",
    "    ), fl, indent=4)\n",
    "\n",
    "#     print(kmse)\n",
    "#     print(kmape)\n",
    "#     break\n",
    "        \n",
    "#     for ki \n",
    "        \n",
    "#     bi = 0\n",
    "#     plt.figure(figsize=(14, 3))\n",
    "#     plt.plot(tonpy(batch[bi, -2, :]), color='#DDDDDD')\n",
    "#     for yent in yall:\n",
    "# #         print(yent.size())\n",
    "#         plt.plot(tonpy(yent[bi]), color='#CCCCCC')\n",
    "#     for ki in range(kcast):\n",
    "#         plt.plot(ycasts[ki][bi])\n",
    "#     plt.show(); plt.close()\n",
    "#     assert False\n",
    "        "
   ]
  },
  {
   "cell_type": "code",
   "execution_count": null,
   "metadata": {
    "scrolled": false
   },
   "outputs": [],
   "source": [
    "# data = history_byname(SROUTE)\n",
    "\n",
    "# sample = data[int(TSTEPS*0.8):]\n",
    "# inds, integs = high_integ(sample[LAG:])\n",
    "# inds += LAG\n",
    "# # print(inds[0])\n",
    "# print('Visualize period', inds[0])\n",
    "# sample = sample[inds[0]-LAG:inds[0]]\n",
    "# # sample = hist_smooth(sample)\n",
    "# print(np.count_nonzero(np.isnan(sample)))\n",
    "# for jj, ii in zip(*np.where(np.isnan(sample))):\n",
    "#     sample[jj, ii] = sample[jj-1, ii]\n",
    "# show_context(sample)"
   ]
  },
  {
   "cell_type": "code",
   "execution_count": null,
   "metadata": {},
   "outputs": [],
   "source": [
    "# bi = 30\n",
    "# hist = torch.Tensor(np.expand_dims(sample[:, bi-10:bi], 0))\n",
    "# Xs, _ = model.format_batch(hist)\n",
    "# yout = tonpy(model(Xs))\n",
    "# print(yout.shape)\n",
    "# #     preds.append(tonpy(yout))"
   ]
  },
  {
   "cell_type": "code",
   "execution_count": null,
   "metadata": {},
   "outputs": [],
   "source": [
    "# l = show_context(sample, draw=False)\n",
    "# ylast = np.flip(yout[0, :])\n",
    "# xpos = list(range(bi-10, bi))\n",
    "# # plt.plot([25, 25], [-5, 1], color='#666666')\n",
    "# # plt.plot([25, 25], [9, 7], color='#666666')\n",
    "# p = plt.plot(xpos, ylast, color='C1')\n",
    "# plt.xlim(19, 31)\n",
    "# plt.ylim(0, 8)\n",
    "# plt.legend([l[0], p[0]], ['Known Travel Speed', 'Predicted Travel Speed'])\n",
    "# plt.show(); plt.close()"
   ]
  },
  {
   "cell_type": "code",
   "execution_count": null,
   "metadata": {},
   "outputs": [],
   "source": []
  }
 ],
 "metadata": {
  "kernelspec": {
   "display_name": "Python 3",
   "language": "python",
   "name": "python3"
  },
  "language_info": {
   "codemirror_mode": {
    "name": "ipython",
    "version": 3
   },
   "file_extension": ".py",
   "mimetype": "text/x-python",
   "name": "python",
   "nbconvert_exporter": "python",
   "pygments_lexer": "ipython3",
   "version": "3.5.2"
  }
 },
 "nbformat": 4,
 "nbformat_minor": 2
}
