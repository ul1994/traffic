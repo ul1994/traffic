{
 "cells": [
  {
   "cell_type": "code",
   "execution_count": 1,
   "metadata": {},
   "outputs": [],
   "source": [
    "%load_ext autoreload\n",
    "%autoreload 2\n",
    "%matplotlib inline"
   ]
  },
  {
   "cell_type": "code",
   "execution_count": 2,
   "metadata": {},
   "outputs": [],
   "source": [
    "import os, sys\n",
    "import dgl\n",
    "sys.path.append('.')\n",
    "\n",
    "from glob import glob\n",
    "from configs import *\n",
    "from tqdm import tqdm\n",
    "from utils import *\n",
    "import numpy as np\n",
    "# from dataset import *k\n",
    "from days import *\n",
    "from time import time\n",
    "tqdm.monitor_interval = 0\n",
    "import torch\n",
    "import json\n",
    "from time import time\n",
    "import torch.nn as nn\n",
    "import numpy as np\n",
    "import matplotlib.pyplot as plt\n",
    "from random import shuffle\n",
    "torch.manual_seed(0)\n",
    "torch.cuda.manual_seed(0)\n",
    "np.random.seed(0)"
   ]
  },
  {
   "cell_type": "code",
   "execution_count": 3,
   "metadata": {},
   "outputs": [],
   "source": [
    "groups = [\n",
    "    \n",
    "#     '/beegfs/ua349/logs/slurm_1353164.out',\n",
    "    ['Linear', '/beegfs/ua349/logs/linear'],\n",
    "    ['GCN', '/beegfs/ua349/logs/gcn'],\n",
    "]"
   ]
  },
  {
   "cell_type": "code",
   "execution_count": 10,
   "metadata": {},
   "outputs": [],
   "source": [
    "hops = [\n",
    "    2,\n",
    "    3,\n",
    "    4,\n",
    "    5\n",
    "]"
   ]
  },
  {
   "cell_type": "code",
   "execution_count": 11,
   "metadata": {},
   "outputs": [
    {
     "name": "stdout",
     "output_type": "stream",
     "text": [
      "Linear - 0.2934 0.3003 0.3089 0.3205\n",
      "GCN - 0.2941 0.2936 0.2962 0.2979\n"
     ]
    }
   ],
   "source": [
    "delim = ' '\n",
    "for name, folder in groups:\n",
    "    hop_avg = []\n",
    "    for hop in range(1, 6):\n",
    "        if hop in hops:\n",
    "            avg = []\n",
    "            for logfl in glob('%s/*n%d*' % (folder, hop)):\n",
    "                with open(logfl) as fl:\n",
    "                    res = json.load(fl)\n",
    "                hist, best_eval = res\n",
    "                avg.append(np.sqrt(best_eval))\n",
    "            avg = np.mean(avg)\n",
    "            hop_avg.append(avg)\n",
    "        else:\n",
    "            hop_avg.append(None)\n",
    "    out = delim.join([\n",
    "        name,\n",
    "        delim.join(['%.4f' % avg if avg is not None else '-' for avg in hop_avg]),\n",
    "    ])\n",
    "    print(out)"
   ]
  },
  {
   "cell_type": "code",
   "execution_count": 14,
   "metadata": {},
   "outputs": [
    {
     "name": "stdout",
     "output_type": "stream",
     "text": [
      "Saving to:\n",
      "/beegfs/ua349/checkpoints/mxrnn/400861-400948_n2.pth\n",
      "Full history\n",
      " [*] Segments: 90 co-avail\n",
      "    * [400861-400948]: 90 (25.5% nan)\n",
      "    * [400860-400861]: 90 (6.1% nan)\n",
      "    * [400948-404050]: 90 (34.5% nan)\n",
      "    * [404050-400950]: 90 (41.9% nan)\n",
      "    * [401348-400860]: 90 (45.4% nan)\n",
      " [*] Examples (train): 72\n",
      " [*] Time range: 2014-08-01 ~ 2014-10-31\n",
      "Full history\n",
      " [*] Segments: 90 co-avail\n",
      "    * [400861-400948]: 90 (25.5% nan)\n",
      "    * [400860-400861]: 90 (6.1% nan)\n",
      "    * [400948-404050]: 90 (34.5% nan)\n",
      "    * [404050-400950]: 90 (41.9% nan)\n",
      "    * [401348-400860]: 90 (45.4% nan)\n",
      " [*] Examples (test): 18\n",
      " [*] Time range: 2014-08-01 ~ 2014-10-31\n",
      "Gathered training: 3524\n",
      "Gathered training: 918\n"
     ]
    }
   ],
   "source": [
    "!python3 jobs/train_rnn.py \"/beegfs/ua349/archive/data/graphs/400861-400948_n2.json\""
   ]
  }
 ],
 "metadata": {
  "kernelspec": {
   "display_name": "Python 3",
   "language": "python",
   "name": "python3"
  },
  "language_info": {
   "codemirror_mode": {
    "name": "ipython",
    "version": 3
   },
   "file_extension": ".py",
   "mimetype": "text/x-python",
   "name": "python",
   "nbconvert_exporter": "python",
   "pygments_lexer": "ipython3",
   "version": "3.6.3"
  }
 },
 "nbformat": 4,
 "nbformat_minor": 2
}
