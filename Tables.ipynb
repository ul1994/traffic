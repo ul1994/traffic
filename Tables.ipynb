{
 "cells": [
  {
   "cell_type": "code",
   "execution_count": 1,
   "metadata": {},
   "outputs": [],
   "source": [
    "%load_ext autoreload\n",
    "%autoreload 2\n",
    "%matplotlib inline"
   ]
  },
  {
   "cell_type": "code",
   "execution_count": 2,
   "metadata": {},
   "outputs": [],
   "source": [
    "import os, sys\n",
    "import dgl\n",
    "sys.path.append('.')\n",
    "\n",
    "from glob import glob\n",
    "from configs import *\n",
    "from tqdm import tqdm\n",
    "from utils import *\n",
    "import numpy as np\n",
    "# from dataset import *k\n",
    "from days import *\n",
    "from time import time\n",
    "tqdm.monitor_interval = 0\n",
    "import torch\n",
    "import json\n",
    "from time import time\n",
    "import torch.nn as nn\n",
    "import numpy as np\n",
    "import matplotlib.pyplot as plt\n",
    "from random import shuffle\n",
    "torch.manual_seed(0)\n",
    "torch.cuda.manual_seed(0)\n",
    "np.random.seed(0)"
   ]
  },
  {
   "cell_type": "code",
   "execution_count": 11,
   "metadata": {},
   "outputs": [],
   "source": [
    "groups = [\n",
    "    \n",
    "#     '/beegfs/ua349/logs/slurm_1353164.out',\n",
    "#     ['Linear', '/beegfs/ua349/logs/linear', [2, 3, 4, 5]],\n",
    "#     ['GCN', '/beegfs/ua349/logs/gcn', [2, 3, 4, 5]],\n",
    "#     ['MXRNN', '/beegfs/ua349/logs/mxrnn', [2, 3, 4, 5]],\n",
    "#     ['MPRNN', '/beegfs/ua349/logs/lgcn', [2, 3, 4]],\n",
    "    ['ASTGCN', '/beegfs/ua349/logs/astgcn', [2, 3, 4, 5]],\n",
    "]"
   ]
  },
  {
   "cell_type": "code",
   "execution_count": 12,
   "metadata": {},
   "outputs": [
    {
     "name": "stdout",
     "output_type": "stream",
     "text": [
      "ASTGCN - 0.1936 0.1922 0.1888 0.1867\n"
     ]
    }
   ],
   "source": [
    "delim = ' '\n",
    "for name, folder, hops in groups:\n",
    "    hop_avg = []\n",
    "    for hop in range(1, 6):\n",
    "        if hop in hops:\n",
    "            avg = []\n",
    "            for logfl in glob('%s/*n%d*' % (folder, hop)):\n",
    "#                 print(logfl)\n",
    "                with open(logfl) as fl:\n",
    "                    res = json.load(fl)\n",
    "                hist, best_eval = res\n",
    "                avg.append(np.sqrt(best_eval))\n",
    "            avg = np.mean(avg)\n",
    "            hop_avg.append(avg)\n",
    "        else:\n",
    "            hop_avg.append(None)\n",
    "    out = delim.join([\n",
    "        name,\n",
    "        delim.join(['%.4f' % avg if avg is not None else '-' for avg in hop_avg]),\n",
    "    ])\n",
    "    print(out)"
   ]
  },
  {
   "cell_type": "code",
   "execution_count": null,
   "metadata": {},
   "outputs": [],
   "source": []
  }
 ],
 "metadata": {
  "kernelspec": {
   "display_name": "Python 3",
   "language": "python",
   "name": "python3"
  },
  "language_info": {
   "codemirror_mode": {
    "name": "ipython",
    "version": 3
   },
   "file_extension": ".py",
   "mimetype": "text/x-python",
   "name": "python",
   "nbconvert_exporter": "python",
   "pygments_lexer": "ipython3",
   "version": "3.6.3"
  }
 },
 "nbformat": 4,
 "nbformat_minor": 2
}
