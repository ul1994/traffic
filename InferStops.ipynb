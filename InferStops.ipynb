{
 "cells": [
  {
   "cell_type": "code",
   "execution_count": 1,
   "metadata": {},
   "outputs": [],
   "source": [
    "%load_ext autoreload\n",
    "%autoreload 2\n",
    "%matplotlib inline"
   ]
  },
  {
   "cell_type": "code",
   "execution_count": 2,
   "metadata": {},
   "outputs": [],
   "source": [
    "from glob import glob\n",
    "from configs import *\n",
    "from tqdm import tqdm\n",
    "from utils import *\n",
    "import numpy as np\n",
    "import matplotlib.pyplot as plt\n",
    "from dataset import *\n",
    "from time import time\n",
    "tqdm.monitor_interval = 0\n",
    "import torch\n",
    "import json\n",
    "import torch.nn as nn\n",
    "import numpy as np\n",
    "from time import time, strptime, mktime\n",
    "torch.manual_seed(0)\n",
    "np.random.seed(0)"
   ]
  },
  {
   "cell_type": "code",
   "execution_count": 6,
   "metadata": {},
   "outputs": [],
   "source": [
    "root = '403781'"
   ]
  },
  {
   "cell_type": "code",
   "execution_count": 76,
   "metadata": {},
   "outputs": [
    {
     "name": "stdout",
     "output_type": "stream",
     "text": [
      "Collected 351/5503372\n"
     ]
    }
   ],
   "source": [
    "def collect(byf, fname, verbose=True):\n",
    "    res = []\n",
    "    li = 0\n",
    "    added = 0\n",
    "    with open('/home/ubuntu/datasets-aux/MTA-Bus-Time_.2014-10-30.txt') as fl:\n",
    "        _ = fl.readline()\n",
    "        line = fl.readline()\n",
    "        while line:\n",
    "            if 'NULL' not in line:\n",
    "                obj = byf(line)\n",
    "                if obj is not None:\n",
    "                    res.append(obj)\n",
    "                    added += 1\n",
    "            line = fl.readline()\n",
    "            li += 1\n",
    "            if li % 10000 == 0 and verbose:\n",
    "                sys.stdout.write('%d       \\r' % li)\n",
    "        if verbose: sys.stdout.flush()\n",
    "    if verbose: print('Collected %d/%d' % (added, li))\n",
    "    return res\n",
    "\n",
    "def by(line):\n",
    "    if root in line:\n",
    "        try:\n",
    "            fobj = fmt(line)\n",
    "            bus_id = fobj['routeid'].split('_')[1]\n",
    "            if 'X' not in bus_id:\n",
    "                if fobj['direction'] == 1 and root in fobj['stop']:\n",
    "                    return fobj\n",
    "        except:\n",
    "            print(line)\n",
    "            assert False\n",
    "    return None\n",
    "\n",
    "raw_seghist = collect(by, '/home/ubuntu/datasets-aux/MTA-Bus-Time_.2014-10-30.txt')"
   ]
  },
  {
   "cell_type": "code",
   "execution_count": 10,
   "metadata": {},
   "outputs": [
    {
     "name": "stdout",
     "output_type": "stream",
     "text": [
      "351\n"
     ]
    }
   ],
   "source": [
    "print(len(raw_seghist))"
   ]
  },
  {
   "cell_type": "code",
   "execution_count": 17,
   "metadata": {},
   "outputs": [
    {
     "name": "stdout",
     "output_type": "stream",
     "text": [
      "dict_keys(['MTA NYCT_M20', 'MTA NYCT_M5', 'MTA NYCT_M7'])\n"
     ]
    }
   ],
   "source": [
    "byroute = group(raw_seghist, 'routeid')\n",
    "print(byroute.keys())"
   ]
  },
  {
   "cell_type": "code",
   "execution_count": 32,
   "metadata": {},
   "outputs": [
    {
     "name": "stdout",
     "output_type": "stream",
     "text": [
      "Collected 42777/5503372\n"
     ]
    }
   ],
   "source": [
    "rks = list(byroute.keys())\n",
    "def by(line):\n",
    "    if any([rid in line for rid in rks]):\n",
    "        try:\n",
    "            fobj = fmt(line)\n",
    "            routeid = fobj['routeid']\n",
    "            if fobj['direction'] == 1 and routeid in rks:\n",
    "                return fobj\n",
    "        except:\n",
    "            print(line)\n",
    "            assert False\n",
    "    return None\n",
    "\n",
    "rel_seghist = collect(by, '/home/ubuntu/datasets-aux/MTA-Bus-Time_.2014-10-30.txt')"
   ]
  },
  {
   "cell_type": "code",
   "execution_count": 33,
   "metadata": {},
   "outputs": [
    {
     "name": "stdout",
     "output_type": "stream",
     "text": [
      "87\n"
     ]
    }
   ],
   "source": [
    "bybus = group(rel_seghist, 'busid')\n",
    "print(len(bybus.keys()))"
   ]
  },
  {
   "cell_type": "code",
   "execution_count": null,
   "metadata": {},
   "outputs": [],
   "source": [
    "def next_stop(travel, pstop, mindt=60*5):\n",
    "    nexts = []\n",
    "    track = False\n",
    "    for si, stop in enumerate(travel):\n",
    "        if not track:\n",
    "            if pstop in stop['stop']:\n",
    "                track = True\n",
    "        else:\n",
    "            if pstop not in stop['stop']:\n",
    "                track = False\n",
    "                nexts.append(stop)\n",
    "    return nexts\n",
    "\n",
    "ls = []\n",
    "for _, travel in bybus.items():\n",
    "    ls += next_stop(travel, root)\n",
    "nexts = group(ls, 'stop')\n",
    "print(nexts.keys())\n",
    "\n",
    "MINSTOPS = 40\n",
    "byseg = []\n",
    "for nid, stops in nexts.items():\n",
    "    rs = group(stops, 'routeid')\n",
    "    print(nid, len(stops))\n",
    "    for rid, rstops in rs.items():\n",
    "        print('   ', rid, len(rstops))\n",
    "        if len(rstops) > MINSTOPS:\n",
    "            byseg.append([\n",
    "                '%s-%s' % (root, stops[0]['stop'].split('_')[1]),\n",
    "                rid.split('_')[1],\n",
    "                len(rstops),\n",
    "            ])\n",
    "\n",
    "for seg in byseg:\n",
    "    print(seg)"
   ]
  },
  {
   "cell_type": "code",
   "execution_count": null,
   "metadata": {},
   "outputs": [],
   "source": [
    "mtafiles = sorted(glob('/home/ubuntu/datasets-aux/mta/*.txt'))\n",
    "# start = int(sys.argv[4])\n",
    "# bdir = int(sys.argv[2])\n",
    "# mode = int(sys.argv[3])\n",
    "# mtafiles = mtafiles[start:start+25]\n",
    "print(len(mtafiles))\n",
    "print(mtafiles[0])"
   ]
  },
  {
   "cell_type": "code",
   "execution_count": 78,
   "metadata": {},
   "outputs": [
    {
     "name": "stderr",
     "output_type": "stream",
     "text": [
      "\r",
      "0it [00:00, ?it/s]"
     ]
    },
    {
     "name": "stdout",
     "output_type": "stream",
     "text": [
      "Searching: 403781-400948 [['403781-400948', 'M20'], ['403781-400948', 'M7']]\n"
     ]
    },
    {
     "name": "stderr",
     "output_type": "stream",
     "text": [
      "49it [13:21, 16.36s/it]\n"
     ]
    },
    {
     "ename": "KeyboardInterrupt",
     "evalue": "",
     "output_type": "error",
     "traceback": [
      "\u001b[0;31m---------------------------------------------------------------------------\u001b[0m",
      "\u001b[0;31mKeyboardInterrupt\u001b[0m                         Traceback (most recent call last)",
      "\u001b[0;32m<ipython-input-78-435bd4b83f05>\u001b[0m in \u001b[0;36m<module>\u001b[0;34m()\u001b[0m\n\u001b[1;32m     22\u001b[0m         \u001b[0mftag\u001b[0m \u001b[0;34m=\u001b[0m \u001b[0mfname\u001b[0m\u001b[0;34m.\u001b[0m\u001b[0msplit\u001b[0m\u001b[0;34m(\u001b[0m\u001b[0;34m'.'\u001b[0m\u001b[0;34m)\u001b[0m\u001b[0;34m[\u001b[0m\u001b[0;36m1\u001b[0m\u001b[0;34m]\u001b[0m\u001b[0;34m\u001b[0m\u001b[0m\n\u001b[1;32m     23\u001b[0m \u001b[0;34m\u001b[0m\u001b[0m\n\u001b[0;32m---> 24\u001b[0;31m         \u001b[0mseghist\u001b[0m \u001b[0;34m=\u001b[0m \u001b[0mcollect\u001b[0m\u001b[0;34m(\u001b[0m\u001b[0mby\u001b[0m\u001b[0;34m,\u001b[0m \u001b[0mfname\u001b[0m\u001b[0;34m,\u001b[0m \u001b[0mverbose\u001b[0m\u001b[0;34m=\u001b[0m\u001b[0;32mFalse\u001b[0m\u001b[0;34m)\u001b[0m\u001b[0;34m\u001b[0m\u001b[0m\n\u001b[0m\u001b[1;32m     25\u001b[0m         \u001b[0;32massert\u001b[0m \u001b[0mlen\u001b[0m\u001b[0;34m(\u001b[0m\u001b[0mseghist\u001b[0m\u001b[0;34m)\u001b[0m\u001b[0;34m\u001b[0m\u001b[0m\n\u001b[1;32m     26\u001b[0m \u001b[0;34m\u001b[0m\u001b[0m\n",
      "\u001b[0;32m<ipython-input-76-ce97912b2c8f>\u001b[0m in \u001b[0;36mcollect\u001b[0;34m(byf, fname, verbose)\u001b[0m\n\u001b[1;32m      8\u001b[0m         \u001b[0;32mwhile\u001b[0m \u001b[0mline\u001b[0m\u001b[0;34m:\u001b[0m\u001b[0;34m\u001b[0m\u001b[0m\n\u001b[1;32m      9\u001b[0m             \u001b[0;32mif\u001b[0m \u001b[0;34m'NULL'\u001b[0m \u001b[0;32mnot\u001b[0m \u001b[0;32min\u001b[0m \u001b[0mline\u001b[0m\u001b[0;34m:\u001b[0m\u001b[0;34m\u001b[0m\u001b[0m\n\u001b[0;32m---> 10\u001b[0;31m                 \u001b[0mobj\u001b[0m \u001b[0;34m=\u001b[0m \u001b[0mbyf\u001b[0m\u001b[0;34m(\u001b[0m\u001b[0mline\u001b[0m\u001b[0;34m)\u001b[0m\u001b[0;34m\u001b[0m\u001b[0m\n\u001b[0m\u001b[1;32m     11\u001b[0m                 \u001b[0;32mif\u001b[0m \u001b[0mobj\u001b[0m \u001b[0;32mis\u001b[0m \u001b[0;32mnot\u001b[0m \u001b[0;32mNone\u001b[0m\u001b[0;34m:\u001b[0m\u001b[0;34m\u001b[0m\u001b[0m\n\u001b[1;32m     12\u001b[0m                     \u001b[0mres\u001b[0m\u001b[0;34m.\u001b[0m\u001b[0mappend\u001b[0m\u001b[0;34m(\u001b[0m\u001b[0mobj\u001b[0m\u001b[0;34m)\u001b[0m\u001b[0;34m\u001b[0m\u001b[0m\n",
      "\u001b[0;32m<ipython-input-78-435bd4b83f05>\u001b[0m in \u001b[0;36mby\u001b[0;34m(line)\u001b[0m\n\u001b[1;32m      8\u001b[0m     \u001b[0;32mdef\u001b[0m \u001b[0mby\u001b[0m\u001b[0;34m(\u001b[0m\u001b[0mline\u001b[0m\u001b[0;34m)\u001b[0m\u001b[0;34m:\u001b[0m\u001b[0;34m\u001b[0m\u001b[0m\n\u001b[1;32m      9\u001b[0m         \u001b[0;32mif\u001b[0m \u001b[0;34m'NULL'\u001b[0m \u001b[0;32mnot\u001b[0m \u001b[0;32min\u001b[0m \u001b[0mline\u001b[0m \u001b[0;32mand\u001b[0m \u001b[0;34m'IN_PROGRESS'\u001b[0m \u001b[0;32min\u001b[0m \u001b[0mline\u001b[0m\u001b[0;34m:\u001b[0m\u001b[0;34m\u001b[0m\u001b[0m\n\u001b[0;32m---> 10\u001b[0;31m             \u001b[0;32mif\u001b[0m \u001b[0many\u001b[0m\u001b[0;34m(\u001b[0m\u001b[0;34m[\u001b[0m\u001b[0mrid\u001b[0m \u001b[0;32min\u001b[0m \u001b[0mline\u001b[0m \u001b[0;32mfor\u001b[0m \u001b[0mrid\u001b[0m \u001b[0;32min\u001b[0m \u001b[0mrelroutes\u001b[0m\u001b[0;34m]\u001b[0m\u001b[0;34m)\u001b[0m\u001b[0;34m:\u001b[0m\u001b[0;34m\u001b[0m\u001b[0m\n\u001b[0m\u001b[1;32m     11\u001b[0m                 \u001b[0;32mtry\u001b[0m\u001b[0;34m:\u001b[0m\u001b[0;34m\u001b[0m\u001b[0m\n\u001b[1;32m     12\u001b[0m                     \u001b[0mfobj\u001b[0m \u001b[0;34m=\u001b[0m \u001b[0mfmt\u001b[0m\u001b[0;34m(\u001b[0m\u001b[0mline\u001b[0m\u001b[0;34m)\u001b[0m\u001b[0;34m\u001b[0m\u001b[0m\n",
      "\u001b[0;32m<ipython-input-78-435bd4b83f05>\u001b[0m in \u001b[0;36m<listcomp>\u001b[0;34m(.0)\u001b[0m\n\u001b[1;32m      8\u001b[0m     \u001b[0;32mdef\u001b[0m \u001b[0mby\u001b[0m\u001b[0;34m(\u001b[0m\u001b[0mline\u001b[0m\u001b[0;34m)\u001b[0m\u001b[0;34m:\u001b[0m\u001b[0;34m\u001b[0m\u001b[0m\n\u001b[1;32m      9\u001b[0m         \u001b[0;32mif\u001b[0m \u001b[0;34m'NULL'\u001b[0m \u001b[0;32mnot\u001b[0m \u001b[0;32min\u001b[0m \u001b[0mline\u001b[0m \u001b[0;32mand\u001b[0m \u001b[0;34m'IN_PROGRESS'\u001b[0m \u001b[0;32min\u001b[0m \u001b[0mline\u001b[0m\u001b[0;34m:\u001b[0m\u001b[0;34m\u001b[0m\u001b[0m\n\u001b[0;32m---> 10\u001b[0;31m             \u001b[0;32mif\u001b[0m \u001b[0many\u001b[0m\u001b[0;34m(\u001b[0m\u001b[0;34m[\u001b[0m\u001b[0mrid\u001b[0m \u001b[0;32min\u001b[0m \u001b[0mline\u001b[0m \u001b[0;32mfor\u001b[0m \u001b[0mrid\u001b[0m \u001b[0;32min\u001b[0m \u001b[0mrelroutes\u001b[0m\u001b[0;34m]\u001b[0m\u001b[0;34m)\u001b[0m\u001b[0;34m:\u001b[0m\u001b[0;34m\u001b[0m\u001b[0m\n\u001b[0m\u001b[1;32m     11\u001b[0m                 \u001b[0;32mtry\u001b[0m\u001b[0;34m:\u001b[0m\u001b[0;34m\u001b[0m\u001b[0m\n\u001b[1;32m     12\u001b[0m                     \u001b[0mfobj\u001b[0m \u001b[0;34m=\u001b[0m \u001b[0mfmt\u001b[0m\u001b[0;34m(\u001b[0m\u001b[0mline\u001b[0m\u001b[0;34m)\u001b[0m\u001b[0;34m\u001b[0m\u001b[0m\n",
      "\u001b[0;31mKeyboardInterrupt\u001b[0m: "
     ]
    }
   ],
   "source": [
    "mode = 1\n",
    "        \n",
    "for segid, buses in group(byseg, 0).items():\n",
    "    st, ed = segid.split('-')\n",
    "    relroutes = list(map(lambda ent: ent[1], byseg))\n",
    "    print('Searching:', segid, relroutes)\n",
    "    \n",
    "    def by(line):\n",
    "        if 'NULL' not in line and 'IN_PROGRESS' in line:\n",
    "            if any([rid in line for rid in relroutes]):\n",
    "                try:\n",
    "                    fobj = fmt(line)\n",
    "                    routeid = fobj['routeid']\n",
    "                    if fobj['direction'] == 1 and routeid.split('_')[1] in relroutes:\n",
    "                        return fobj\n",
    "                except:\n",
    "                    print(line)\n",
    "                    assert False\n",
    "        return None\n",
    "    \n",
    "    for fii, fname in tqdm(enumerate(mtafiles)):\n",
    "        ftag = fname.split('.')[1]\n",
    "\n",
    "        seghist = collect(by, fname, verbose=False)\n",
    "        assert len(seghist)\n",
    "\n",
    "        bybus = group(seghist, 'busid')\n",
    "\n",
    "        useable = []\n",
    "        useable_post = []\n",
    "        PLOT=True\n",
    "        \n",
    "        for ii, (bid, travel) in enumerate(bybus.items()):\n",
    "            if len(travel) < 40:\n",
    "                # too few data from this bus\n",
    "                continue\n",
    "            inseg = [(mktime(ent['time']), ent['dist']) for ent in travel if ed in ent['stop']]\n",
    "            if len(inseg) == 0:\n",
    "                # no rel. stops from this bus\n",
    "                continue\n",
    "\n",
    "            segs = find_segs(travel)\n",
    "\n",
    "            tlast = None\n",
    "            for si, seg in enumerate(segs):\n",
    "                if len(seg) <= 1:\n",
    "                    continue\n",
    "                if len(seg) < 40: continue\n",
    "                vs = est_velocity(seg)\n",
    "                # vs = strip_seg(vs, prop='vel')\n",
    "                # if len(vs) < 30: continue\n",
    "                if any(['vel' not in entry for entry in vs]): continue\n",
    "                useable.append(lscopy(vs))\n",
    "\n",
    "                velocity = np.array([obj['vel'] for obj in vs])\n",
    "                ts = np.array([mktime(ent['time']) for ent in vs])\n",
    "                if tlast is not None: ts -= (ts[0] - tlast)\n",
    "                tlast = ts[-1]\n",
    "\n",
    "\n",
    "                _ = np.array([obj['vel'] for obj in remove_stops(vs)])\n",
    "                vs, rmd = remove_peaks(vs, maxv=60)\n",
    "                if rmd > 3: # fix max 3 peaks.. otherwise unreliable bus\n",
    "                    continue\n",
    "\n",
    "                msize=5\n",
    "                mhalf = int(msize//2)\n",
    "                mean_vs = smooth_mean(lscopy(vs), fsize=msize)\n",
    "\n",
    "                ssize=5\n",
    "                shalf = int(ssize//2)\n",
    "                skewed_vs = smooth_skewed(lscopy(vs), fsize=ssize, expval=1.1)\n",
    "\n",
    "                rsize=5\n",
    "                rhalf = int(rsize//2)\n",
    "                range_vs = smooth_range(lscopy(vs), fsize=rsize)\n",
    "\n",
    "        #         velocity = np.array([obj['vel'] for obj in vs])\n",
    "                useable_post.append([mean_vs, skewed_vs, range_vs])\n",
    "        #     break\n",
    "\n",
    "    #         sys.stdout.write('[%d/%d]: %d/%d    \\r' % (fii, len(mtafiles), ii, len(bybus)))\n",
    "    #     sys.stdout.flush()\n",
    "\n",
    "        if not len(useable_post):\n",
    "            continue\n",
    "\n",
    "        names = 'msr'\n",
    "        options = list(zip(*useable_post))\n",
    "\n",
    "        tag = names[mode]\n",
    "        m5, m10 = bucket_segs(options[mode], st, ed, tints=[5, 10])\n",
    "        # m5, m10 = bucket_segs(svs, st, ed, tints=[5, 10])\n",
    "\n",
    "        droot = '/home/ubuntu/datasets-aux/mta/parsed'\n",
    "        import json\n",
    "        with open('%s/%s05_%s-%s_%s.json' % (droot, tag, st, ed, ftag), 'w') as fl:\n",
    "            json.dump(m5, fl, indent=4)\n",
    "        with open('%s/%s10_%s-%s_%s.json' % (droot, tag, st, ed, ftag), 'w') as fl:\n",
    "            json.dump(m10, fl, indent=4)"
   ]
  },
  {
   "cell_type": "code",
   "execution_count": 80,
   "metadata": {},
   "outputs": [],
   "source": [
    "from dataset import *"
   ]
  },
  {
   "cell_type": "code",
   "execution_count": 88,
   "metadata": {},
   "outputs": [
    {
     "name": "stdout",
     "output_type": "stream",
     "text": [
      "Full history\n",
      " [*] Segments: 90 co-avail\n",
      "    * [403781-400948]: 90\n",
      " [*] Examples (train): 72\n",
      " [*] Time range: 2014-08-01 ~ 2014-10-31\n"
     ]
    }
   ],
   "source": [
    "dset = SpotHistory(['403781-400948'], 'train', 1, lag=None, preproc='s')"
   ]
  },
  {
   "cell_type": "code",
   "execution_count": 89,
   "metadata": {},
   "outputs": [
    {
     "data": {
      "image/png": "[encoded data removed]",
      "text/plain": [
       "<Figure size 1008x216 with 1 Axes>"
      ]
     },
     "metadata": {},
     "output_type": "display_data"
    }
   ],
   "source": [
    "plt.figure(figsize=(14, 3))\n",
    "plt.plot(dset[1])\n",
    "plt.show(); plt.close()"
   ]
  },
  {
   "cell_type": "code",
   "execution_count": null,
   "metadata": {},
   "outputs": [],
   "source": []
  }
 ],
 "metadata": {
  "kernelspec": {
   "display_name": "Python 3",
   "language": "python",
   "name": "python3"
  },
  "language_info": {
   "codemirror_mode": {
    "name": "ipython",
    "version": 3
   },
   "file_extension": ".py",
   "mimetype": "text/x-python",
   "name": "python",
   "nbconvert_exporter": "python",
   "pygments_lexer": "ipython3",
   "version": "3.5.2"
  }
 },
 "nbformat": 4,
 "nbformat_minor": 2
}
