{
 "cells": [
  {
   "cell_type": "code",
   "execution_count": 1,
   "metadata": {},
   "outputs": [],
   "source": [
    "%load_ext autoreload\n",
    "%autoreload 2\n",
    "%matplotlib inline"
   ]
  },
  {
   "cell_type": "code",
   "execution_count": 2,
   "metadata": {},
   "outputs": [],
   "source": [
    "from glob import glob\n",
    "from configs import *\n",
    "from tqdm import tqdm\n",
    "from utils import *\n",
    "import numpy as np\n",
    "import matplotlib.pyplot as plt\n",
    "from dataset import *\n",
    "tqdm.monitor_interval = 0"
   ]
  },
  {
   "cell_type": "code",
   "execution_count": 3,
   "metadata": {},
   "outputs": [],
   "source": [
    "FORECAST = 5\n",
    "EPS = 7"
   ]
  },
  {
   "cell_type": "code",
   "execution_count": 4,
   "metadata": {},
   "outputs": [
    {
     "name": "stdout",
     "output_type": "stream",
     "text": [
      "Routes dataset: train\n",
      " [*] Loaded routes: 224 (0.27s)\n",
      " [*] Subset train: 204 (reserved_routes.json)\n",
      " [*] Loaded trainable inds: 240935 (0.20s)\n",
      "Routes dataset: test\n",
      " [*] Loaded routes: 224 (0.29s)\n",
      " [*] Subset test: 20 (reserved_routes.json)\n",
      " [*] Loaded trainable inds: 54181 (0.02s)\n"
     ]
    }
   ],
   "source": [
    "dset = Routes('train', 16, index_file='min-data.json')\n",
    "evalset = Routes('test', 32, index_file='min-data.json')"
   ]
  },
  {
   "cell_type": "code",
   "execution_count": 5,
   "metadata": {},
   "outputs": [],
   "source": [
    "import torch\n",
    "import torch.nn as nn\n",
    "import numpy as np\n",
    "torch.manual_seed(0)\n",
    "np.random.seed(0)"
   ]
  },
  {
   "cell_type": "code",
   "execution_count": 6,
   "metadata": {},
   "outputs": [
    {
     "data": {
      "text/plain": [
       "device(type='cuda', index=0)"
      ]
     },
     "execution_count": 6,
     "metadata": {},
     "output_type": "execute_result"
    }
   ],
   "source": [
    "device = torch.device(\"cuda:0\" if torch.cuda.is_available() else \"cpu\")\n",
    "device"
   ]
  },
  {
   "cell_type": "code",
   "execution_count": 7,
   "metadata": {},
   "outputs": [],
   "source": [
    "from models.RNN import RNN"
   ]
  },
  {
   "cell_type": "code",
   "execution_count": 8,
   "metadata": {},
   "outputs": [],
   "source": [
    "model = RNN(forecast=FORECAST).to(device)"
   ]
  },
  {
   "cell_type": "code",
   "execution_count": 9,
   "metadata": {},
   "outputs": [],
   "source": [
    "criterion, opt, sch = model.params(lr=0.001)"
   ]
  },
  {
   "cell_type": "code",
   "execution_count": 10,
   "metadata": {},
   "outputs": [
    {
     "name": "stdout",
     "output_type": "stream",
     "text": [
      "Eval loss: 27.549588550144023\n"
     ]
    }
   ],
   "source": [
    "model.eval()\n",
    "evaluate(evalset, lambda Xs: model(Xs)[0], criterion, model.format_batch, device)"
   ]
  },
  {
   "cell_type": "code",
   "execution_count": null,
   "metadata": {
    "scrolled": true
   },
   "outputs": [
    {
     "name": "stdout",
     "output_type": "stream",
     "text": [
      "[1/7 : 4908/15058] - L5.10       \r"
     ]
    }
   ],
   "source": [
    "losses = []\n",
    "for eii  in range(EPS):\n",
    "    for bii in range(dset.size()):\n",
    "        model.train()\n",
    "        Xs, Ys = dset.next()\n",
    "        Xs, Ys = model.format_batch(Xs, Ys, gpu=device)\n",
    "\n",
    "        outputs, _ = model(Xs)\n",
    "\n",
    "        opt.zero_grad()\n",
    "        loss = criterion(outputs, Ys)\n",
    "        loss.backward()\n",
    "        losses.append(loss.item())\n",
    "        opt.step()\n",
    "\n",
    "        sys.stdout.write('[%d/%d : %d/%d] - L%.2f      \\r' % (\n",
    "            eii+1, EPS,\n",
    "            bii+1, dset.size(), \n",
    "            loss.item()\n",
    "        ))\n",
    "    sys.stdout.write('\\n')\n",
    "    evaluate()\n",
    "    torch.save(model.state_dict(), 'checkpoints/%s_e%d.pth' % (model.name, eii+1))\n",
    "    sys.stdout.flush()\n",
    "    sch.step()\n",
    "#     sys.stdout.flush()"
   ]
  },
  {
   "cell_type": "code",
   "execution_count": null,
   "metadata": {},
   "outputs": [],
   "source": [
    "plt.figure(figsize=(14, 4))\n",
    "plt.plot(losses)\n",
    "plt.show();plt.close()"
   ]
  },
  {
   "cell_type": "code",
   "execution_count": null,
   "metadata": {},
   "outputs": [],
   "source": [
    "_ = model.eval()"
   ]
  },
  {
   "cell_type": "code",
   "execution_count": null,
   "metadata": {
    "scrolled": false
   },
   "outputs": [],
   "source": [
    "info = evalset.meta[0]\n",
    "len(info['trainable'])\n",
    "data = history_byname(info['name'])\n",
    "\n",
    "row_integs = []\n",
    "for row in data:\n",
    "    row_integs.append(np.count_nonzero(np.isnan(row)) / len(row))\n",
    "ind = np.argsort(row_integs)[0]\n",
    "sample = data[ind-6:ind, :]\n",
    "\n",
    "plt.figure(figsize=(14, 4))\n",
    "for hi in range(1, 6):\n",
    "    plt.plot(sample[-hi-1, :], color='#CCCCCC')\n",
    "plt.plot(sample[-1, :], color='C0')\n",
    "plt.show(); plt.close()"
   ]
  },
  {
   "cell_type": "code",
   "execution_count": null,
   "metadata": {},
   "outputs": [],
   "source": [
    "preds = []\n",
    "for bi in range(10, sample.shape[1]):\n",
    "# for bi in range(10, sample.shape[1]):\n",
    "    Xs, Ys = np.array([sample[:5, bi-10:bi]]), np.array([sample[5, bi-10:bi]])\n",
    "    Xs, Ys = model.format_batch(Xs, Ys)\n",
    "    Yguess, _ = model(Xs)\n",
    "    ys = Yguess.detach().squeeze().cpu().numpy()\n",
    "    ys = np.flip(ys).copy()\n",
    "    preds.append(ys)"
   ]
  },
  {
   "cell_type": "code",
   "execution_count": null,
   "metadata": {},
   "outputs": [],
   "source": [
    "plt.figure(figsize=(14, 4))\n",
    "for hi in range(1, 6):\n",
    "    plt.plot(sample[-hi-1, :], color='#CCCCCC')\n",
    "plt.plot(sample[-1, :], color='C0')\n",
    "# for bi in range(10, sample.shape[1], 2):\n",
    "for bi in range(10, sample.shape[1], 2):\n",
    "    plt.plot(range(bi-10, bi), preds[bi-10], color='C1')\n",
    "#     plt.plot(range(bi-10, bi-5), preds[bi-10][:5], color='C1')\n",
    "plt.show(); plt.close()"
   ]
  },
  {
   "cell_type": "code",
   "execution_count": null,
   "metadata": {},
   "outputs": [],
   "source": []
  }
 ],
 "metadata": {
  "kernelspec": {
   "display_name": "Python 3",
   "language": "python",
   "name": "python3"
  },
  "language_info": {
   "codemirror_mode": {
    "name": "ipython",
    "version": 3
   },
   "file_extension": ".py",
   "mimetype": "text/x-python",
   "name": "python",
   "nbconvert_exporter": "python",
   "pygments_lexer": "ipython3",
   "version": "3.5.2"
  }
 },
 "nbformat": 4,
 "nbformat_minor": 2
}
