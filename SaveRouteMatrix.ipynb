{
 "cells": [
  {
   "cell_type": "code",
   "execution_count": 1,
   "metadata": {},
   "outputs": [],
   "source": [
    "from glob import glob\n",
    "from configs import *\n",
    "from tqdm import tqdm\n",
    "from utils import *"
   ]
  },
  {
   "cell_type": "code",
   "execution_count": 33,
   "metadata": {},
   "outputs": [
    {
     "name": "stdout",
     "output_type": "stream",
     "text": [
      "328\n"
     ]
    }
   ],
   "source": [
    "rfiles = glob('%s/%s/*_0.txt' % (DPATH, ROUTES))\n",
    "print(len(rfiles))"
   ]
  },
  {
   "cell_type": "code",
   "execution_count": 42,
   "metadata": {},
   "outputs": [],
   "source": [
    "all_routes = []\n",
    "for rf in rfiles:\n",
    "    with open(rf) as fl:\n",
    "        stops = fl.read().split('\\n')[:-1]\n",
    "    if len(stops) > 5:\n",
    "        all_routes.append(dict(name=fileName(rf), stops=stops))"
   ]
  },
  {
   "cell_type": "code",
   "execution_count": 43,
   "metadata": {},
   "outputs": [
    {
     "name": "stdout",
     "output_type": "stream",
     "text": [
      "114 39.61180124223603 7\n",
      "322\n"
     ]
    }
   ],
   "source": [
    "slens = [len(st['stops']) for st in all_routes]\n",
    "print(max(slens), np.mean(slens), min(slens))\n",
    "print(len(all_routes))"
   ]
  },
  {
   "cell_type": "code",
   "execution_count": 44,
   "metadata": {},
   "outputs": [
    {
     "name": "stdout",
     "output_type": "stream",
     "text": [
      "16728\n"
     ]
    }
   ],
   "source": [
    "segfiles = glob('%s/%s/**/*.csv' % (DPATH, SPEEDS))\n",
    "print(len(segfiles))\n",
    "scheck = {}\n",
    "for sf in segfiles:\n",
    "    scheck[fileName(sf)] = True"
   ]
  },
  {
   "cell_type": "code",
   "execution_count": 45,
   "metadata": {},
   "outputs": [],
   "source": [
    "all_segs = []\n",
    "for route in all_routes:\n",
    "    stops = route['stops']\n",
    "    sl = []\n",
    "    for si in range(len(stops) - 1):\n",
    "        sl.append(segkey(stops[si], stops[si+1]))\n",
    "    route['segs'] = sl\n",
    "    all_segs.append(route)"
   ]
  },
  {
   "cell_type": "code",
   "execution_count": 46,
   "metadata": {},
   "outputs": [
    {
     "name": "stdout",
     "output_type": "stream",
     "text": [
      "245\n"
     ]
    }
   ],
   "source": [
    "safe_segs = []\n",
    "for route in all_segs:\n",
    "    segs = route['segs']\n",
    "    if all([entry in scheck for entry in segs]):\n",
    "        safe_segs.append(route)\n",
    "print(len(safe_segs))"
   ]
  },
  {
   "cell_type": "code",
   "execution_count": 50,
   "metadata": {},
   "outputs": [
    {
     "name": "stdout",
     "output_type": "stream",
     "text": [
      "Bx33_0 ['403717-404111', '404111-404113', '404113-403720', '403720-403721', '403721-403722', '403722-102185', '102185-103991', '103991-102187', '102187-102188', '102188-102189', '102189-102190', '102190-102191', '102191-102192', '102192-102193', '102193-102988', '102988-102195', '102195-104248', '104248-103284', '103284-101201', '101201-802102']\n"
     ]
    }
   ],
   "source": [
    "print(safe_segs[0]['name'], safe_segs[0]['segs'])"
   ]
  },
  {
   "cell_type": "code",
   "execution_count": 53,
   "metadata": {},
   "outputs": [],
   "source": [
    "for route in safe_segs:\n",
    "    with open('data/routes/%s.txt' % route['name'], 'w') as fl:\n",
    "        fl.write('name,seg\\n')\n",
    "        for seg in route['segs']:\n",
    "            fl.write('%s,%s\\n' % (route['name'], seg))"
   ]
  },
  {
   "cell_type": "code",
   "execution_count": 64,
   "metadata": {},
   "outputs": [
    {
     "name": "stderr",
     "output_type": "stream",
     "text": [
      "100%|██████████| 245/245 [16:24<00:00,  4.02s/it]\n"
     ]
    }
   ],
   "source": [
    "for route in tqdm(safe_segs):\n",
    "    vmat = -np.ones((13248, len(route['segs'])))\n",
    "    for si, seg in enumerate(route['segs']):\n",
    "        with open('%s/%s/%s/%s.csv' % (DPATH, SPEEDS, seg[0], seg)) as fl:\n",
    "            _ = fl.readline() # header\n",
    "            line = fl.readline()\n",
    "            li = 0\n",
    "            while line:\n",
    "                line = line.strip('\\n').split(',')\n",
    "                vel = None if line[1] == '' else float(line[1])\n",
    "                vmat[li, si] = vel\n",
    "                line = fl.readline()\n",
    "                li += 1\n",
    "    savef = 'data/history/%s.npy' % route['name']\n",
    "    np.save(savef, vmat)"
   ]
  },
  {
   "cell_type": "code",
   "execution_count": null,
   "metadata": {},
   "outputs": [],
   "source": []
  }
 ],
 "metadata": {
  "kernelspec": {
   "display_name": "Python 3",
   "language": "python",
   "name": "python3"
  },
  "language_info": {
   "codemirror_mode": {
    "name": "ipython",
    "version": 3
   },
   "file_extension": ".py",
   "mimetype": "text/x-python",
   "name": "python",
   "nbconvert_exporter": "python",
   "pygments_lexer": "ipython3",
   "version": "3.6.3"
  }
 },
 "nbformat": 4,
 "nbformat_minor": 2
}
