{
 "cells": [
  {
   "cell_type": "code",
   "execution_count": 9,
   "metadata": {},
   "outputs": [
    {
     "name": "stdout",
     "output_type": "stream",
     "text": [
      "The autoreload extension is already loaded. To reload it, use:\n",
      "  %reload_ext autoreload\n"
     ]
    }
   ],
   "source": [
    "%load_ext autoreload\n",
    "%autoreload 2\n",
    "%matplotlib inline"
   ]
  },
  {
   "cell_type": "code",
   "execution_count": 10,
   "metadata": {},
   "outputs": [],
   "source": [
    "from glob import glob\n",
    "from configs import *\n",
    "from tqdm import tqdm\n",
    "from utils import *\n",
    "import numpy as np\n",
    "import matplotlib.pyplot as plt\n",
    "from dataset import *\n",
    "from time import time\n",
    "tqdm.monitor_interval = 0\n",
    "import torch\n",
    "import json\n",
    "import torch.nn as nn\n",
    "import numpy as np\n",
    "torch.manual_seed(0)\n",
    "np.random.seed(0)"
   ]
  },
  {
   "cell_type": "code",
   "execution_count": 11,
   "metadata": {},
   "outputs": [
    {
     "name": "stdout",
     "output_type": "stream",
     "text": [
      "cuda:1\n"
     ]
    }
   ],
   "source": [
    "SROUTE = [\n",
    "    '400860-400861', \n",
    "    '400861-403781',\n",
    "#     '400861-400948',\n",
    "    '400861-405376',\n",
    "]\n",
    "ADJ = {}\n",
    "ADJ[SROUTE[0]] = [SROUTE[1], SROUTE[2]]\n",
    "# ADJ[SROUTE[0]] = []\n",
    "ADJ[SROUTE[1]] = [SROUTE[0]]\n",
    "ADJ[SROUTE[2]] = [SROUTE[0]]\n",
    "\n",
    "DENSE = False\n",
    "EPS = 120\n",
    "LAG = 24 + 1\n",
    "HSIZE = 128\n",
    "STOPS = len(SROUTE)\n",
    "device = torch.device(\"cuda:1\" if torch.cuda.is_available() else \"cpu\")\n",
    "print(device)"
   ]
  },
  {
   "cell_type": "code",
   "execution_count": 12,
   "metadata": {},
   "outputs": [
    {
     "name": "stdout",
     "output_type": "stream",
     "text": [
      "Chunks (lag 25)\n",
      " [*] Segments: 90 co-avail\n",
      "    * [400860-400861]: 90\n",
      "    * [400861-403781]: 90\n",
      "    * [400861-405376]: 90\n",
      " [*] Examples (train): 10227\n",
      " [*] Time range: 2014-08-01 ~ 2014-10-31\n",
      "Chunks (lag 25)\n",
      " [*] Segments: 90 co-avail\n",
      "    * [400860-400861]: 90\n",
      "    * [400861-403781]: 90\n",
      "    * [400861-405376]: 90\n",
      " [*] Examples (test): 10227\n",
      " [*] Time range: 2014-08-01 ~ 2014-10-31\n"
     ]
    }
   ],
   "source": [
    "# dset = SpotHistory(SROUTE, 'train', 32, lag=LAG, res=10).generator()\n",
    "dset = SpotHistory(SROUTE, 'train', 32, lag=LAG, res=10).generator()\n",
    "evalset = SpotHistory(SROUTE, 'test', 32, lag=LAG, res=10).generator()"
   ]
  },
  {
   "cell_type": "code",
   "execution_count": 13,
   "metadata": {
    "scrolled": true
   },
   "outputs": [
    {
     "name": "stdout",
     "output_type": "stream",
     "text": [
      "MPRNN\n",
      " [*] Defined over: 3 nodes\n",
      " [*] Contains    : 3 adjs\n",
      "Eval loss: 96.574893    \n"
     ]
    }
   ],
   "source": [
    "from models.temporal.RNN import *\n",
    "from models.MPRNN import *\n",
    "\n",
    "model = MPRNN(\n",
    "    nodes=SROUTE, adj=ADJ, \n",
    "    hidden_size=HSIZE, \n",
    "    \n",
    "    rnnmdl=RNN_MIN,\n",
    "    mpnmdl=MP_DENSE,\n",
    "    \n",
    "    verbose=True).to(device)\n",
    "model.device = device\n",
    "criterion, opt, sch = model.params(lr=0.05)\n",
    "\n",
    "model.clear_stats()\n",
    "evf = lambda: evaluate(evalset, model, crit=lambda _y, y: criterion(_y[:, :, 0], y[:, :, 0]).item())\n",
    "_ = evf()"
   ]
  },
  {
   "cell_type": "code",
   "execution_count": 6,
   "metadata": {
    "scrolled": true
   },
   "outputs": [
    {
     "name": "stdout",
     "output_type": "stream",
     "text": [
      "[1/120 : 320/320] - L1.28      \n",
      "Eval loss: 1.27121    \n",
      "[2/120 : 320/320] - L0.96      \n",
      "Eval loss: 0.90204    \n",
      "[3/120 : 320/320] - L2.14      \n",
      "Eval loss: 0.75751    \n",
      "[4/120 : 320/320] - L0.54      \n",
      "Eval loss: 0.67171    \n",
      "[5/120 : 320/320] - L0.71      \n",
      "Eval loss: 0.60356    \n",
      "[6/120 : 320/320] - L1.78      \n",
      "Eval loss: 0.54717    \n",
      "[7/120 : 320/320] - L1.82      \n",
      "Eval loss: 0.50329    \n",
      "[8/120 : 320/320] - L0.54      \n",
      "Eval loss: 0.46314    \n",
      "[9/120 : 320/320] - L0.45      \n",
      "Eval loss: 0.43025    \n",
      "[10/120 : 320/320] - L0.26      \n",
      "Eval loss: 0.40262    \n",
      "[11/120 : 320/320] - L0.40      \n",
      "Eval loss: 0.38671    \n",
      "[12/120 : 320/320] - L1.00      \n",
      "Eval loss: 0.36006    \n",
      "[13/120 : 320/320] - L0.35      \n",
      "Eval loss: 0.34237    \n",
      "[14/120 : 320/320] - L0.36      \n",
      "Eval loss: 0.32763    \n",
      "[15/120 : 320/320] - L0.42      \n",
      "Eval loss: 0.31482    \n",
      "[16/120 : 320/320] - L0.28      \n",
      "Eval loss: 0.30623    \n",
      "[17/120 : 320/320] - L0.30      \n",
      "Eval loss: 0.29906    \n",
      "[18/120 : 320/320] - L0.29      \n",
      "Eval loss: 0.28655    \n",
      "[19/120 : 320/320] - L0.27      \n",
      "Eval loss: 0.27848    \n",
      "[20/120 : 320/320] - L0.30      \n",
      "Eval loss: 0.27307    \n",
      "[21/120 : 320/320] - L0.38      \n",
      "Eval loss: 0.26777    \n",
      "[22/120 : 320/320] - L0.29      \n",
      "Eval loss: 0.25907    \n",
      "[23/120 : 320/320] - L0.23      \n",
      "Eval loss: 0.25496    \n",
      "[24/120 : 320/320] - L0.28      \n",
      "Eval loss: 0.24789    \n",
      "[25/120 : 320/320] - L0.30      \n",
      "Eval loss: 0.24327    \n",
      "[26/120 : 320/320] - L0.18      \n",
      "Eval loss: 0.24425    \n",
      "[27/120 : 320/320] - L0.39      \n",
      "Eval loss: 0.23409    \n",
      "[28/120 : 320/320] - L0.22      \n",
      "Eval loss: 0.23139    \n",
      "[29/120 : 320/320] - L0.38      \n",
      "Eval loss: 0.22996    \n",
      "[30/120 : 320/320] - L0.17      \n",
      "Eval loss: 0.22898    \n",
      "[31/120 : 320/320] - L0.18      \n",
      "Eval loss: 0.22535    \n",
      "[32/120 : 320/320] - L0.21      \n",
      "Eval loss: 0.22301    \n",
      "[33/120 : 320/320] - L0.49      \n",
      "Eval loss: 0.22158    \n",
      "[34/120 : 320/320] - L0.26      \n",
      "Eval loss: 0.21880    \n",
      "[35/120 : 320/320] - L0.15      \n",
      "Eval loss: 0.21628    \n",
      "[36/120 : 320/320] - L0.19      \n",
      "Eval loss: 0.21448    \n",
      "[37/120 : 320/320] - L0.21      \n",
      "Eval loss: 0.21248    \n",
      "[38/120 : 320/320] - L0.18      \n",
      "Eval loss: 0.21168    \n",
      "[39/120 : 320/320] - L0.24      \n",
      "Eval loss: 0.20883    \n",
      "[40/120 : 320/320] - L0.18      \n",
      "Eval loss: 0.20721    \n",
      "[41/120 : 320/320] - L0.28      \n",
      "Eval loss: 0.21089    \n",
      "[42/120 : 320/320] - L0.21      \n",
      "Eval loss: 0.20330    \n",
      "[43/120 : 320/320] - L0.29      \n",
      "Eval loss: 0.20249    \n",
      "[44/120 : 320/320] - L0.24      \n",
      "Eval loss: 0.20021    \n",
      "[45/120 : 320/320] - L0.19      \n",
      "Eval loss: 0.19955    \n",
      "[46/120 : 320/320] - L0.23      \n",
      "Eval loss: 0.19693    \n",
      "[47/120 : 320/320] - L0.23      \n",
      "Eval loss: 0.19535    \n",
      "[48/120 : 320/320] - L0.15      \n",
      "Eval loss: 0.19441    \n",
      "[49/120 : 320/320] - L0.23      \n",
      "Eval loss: 0.19324    \n",
      "[50/120 : 320/320] - L0.17      \n",
      "Eval loss: 0.19064    \n",
      "[51/120 : 320/320] - L0.14      \n",
      "Eval loss: 0.19014    \n",
      "[52/120 : 320/320] - L0.17      \n",
      "Eval loss: 0.18866    \n",
      "[53/120 : 320/320] - L0.19      \n",
      "Eval loss: 0.18783    \n",
      "[54/120 : 320/320] - L0.18      \n",
      "Eval loss: 0.18723    \n",
      "[55/120 : 320/320] - L0.41      \n",
      "Eval loss: 0.18653    \n",
      "[56/120 : 320/320] - L0.25      \n",
      "Eval loss: 0.18576    \n",
      "[57/120 : 320/320] - L0.22      \n",
      "Eval loss: 0.18535    \n",
      "[58/120 : 320/320] - L0.23      \n",
      "Eval loss: 0.18472    \n",
      "[59/120 : 320/320] - L0.14      \n",
      "Eval loss: 0.18372    \n",
      "[60/120 : 320/320] - L0.15      \n",
      "Eval loss: 0.18332    \n",
      "[61/120 : 320/320] - L0.32      \n",
      "Eval loss: 0.18312    \n",
      "[62/120 : 320/320] - L0.18      \n",
      "Eval loss: 0.18180    \n",
      "[63/120 : 320/320] - L0.25      \n",
      "Eval loss: 0.18109    \n",
      "[64/120 : 320/320] - L0.26      \n",
      "Eval loss: 0.18055    \n",
      "[65/120 : 320/320] - L0.14      \n",
      "Eval loss: 0.17970    \n",
      "[66/120 : 320/320] - L0.22      \n",
      "Eval loss: 0.17900    \n",
      "[67/120 : 320/320] - L0.17      \n",
      "Eval loss: 0.17840    \n",
      "[68/120 : 320/320] - L0.13      \n",
      "Eval loss: 0.17778    \n",
      "[69/120 : 320/320] - L0.14      \n",
      "Eval loss: 0.17736    \n",
      "[70/120 : 320/320] - L0.18      \n",
      "Eval loss: 0.17682    \n",
      "[71/120 : 320/320] - L0.16      \n",
      "Eval loss: 0.17588    \n",
      "[72/120 : 320/320] - L0.26      \n",
      "Eval loss: 0.17674    \n",
      "[73/120 : 320/320] - L0.13      \n",
      "Eval loss: 0.17492    \n",
      "[74/120 : 320/320] - L0.15      \n",
      "Eval loss: 0.17404    \n",
      "[75/120 : 320/320] - L0.17      \n",
      "Eval loss: 0.17356    \n",
      "[76/120 : 320/320] - L0.39      \n",
      "Eval loss: 0.17347    \n",
      "[77/120 : 320/320] - L0.18      \n",
      "Eval loss: 0.17262    \n",
      "[78/120 : 320/320] - L0.18      \n",
      "Eval loss: 0.17229    \n",
      "[79/120 : 320/320] - L0.12      \n",
      "Eval loss: 0.17194    \n",
      "[80/120 : 320/320] - L0.19      \n",
      "Eval loss: 0.17182    \n",
      "[81/120 : 320/320] - L0.17      \n",
      "Eval loss: 0.17153    \n",
      "[82/120 : 320/320] - L0.19      \n",
      "Eval loss: 0.17130    \n",
      "[83/120 : 320/320] - L0.21      \n",
      "Eval loss: 0.17076    \n",
      "[84/120 : 320/320] - L0.19      \n",
      "Eval loss: 0.17037    \n",
      "[85/120 : 320/320] - L0.21      \n",
      "Eval loss: 0.17031    \n",
      "[86/120 : 320/320] - L0.18      \n",
      "Eval loss: 0.16994    \n",
      "[87/120 : 320/320] - L0.25      \n",
      "Eval loss: 0.16963    \n",
      "[88/120 : 320/320] - L0.20      \n",
      "Eval loss: 0.16948    \n",
      "[89/120 : 320/320] - L0.18      \n",
      "Eval loss: 0.16911    \n",
      "[90/120 : 320/320] - L0.14      \n",
      "Eval loss: 0.16880    \n",
      "[91/120 : 320/320] - L0.19      \n",
      "Eval loss: 0.16852    \n",
      "[92/120 : 320/320] - L0.13      \n",
      "Eval loss: 0.16841    \n",
      "[93/120 : 320/320] - L0.14      \n",
      "Eval loss: 0.16793    \n",
      "[94/120 : 320/320] - L0.20      \n",
      "Eval loss: 0.16778    \n",
      "[95/120 : 320/320] - L0.22      \n",
      "Eval loss: 0.16740    \n",
      "[96/120 : 320/320] - L0.15      \n",
      "Eval loss: 0.16700    \n",
      "[97/120 : 320/320] - L0.12      \n",
      "Eval loss: 0.16680    \n",
      "[98/120 : 320/320] - L0.16      \n",
      "Eval loss: 0.16654    \n",
      "[99/120 : 320/320] - L0.17      \n",
      "Eval loss: 0.16632    \n",
      "[100/120 : 320/320] - L0.19      \n",
      "Eval loss: 0.16613    \n",
      "[101/120 : 320/320] - L0.15      \n",
      "Eval loss: 0.16582    \n",
      "[102/120 : 320/320] - L0.21      \n",
      "Eval loss: 0.16580    \n",
      "[103/120 : 320/320] - L0.18      \n",
      "Eval loss: 0.16544    \n",
      "[104/120 : 320/320] - L0.19      \n",
      "Eval loss: 0.16537    \n",
      "[105/120 : 320/320] - L0.17      \n",
      "Eval loss: 0.16524    \n",
      "[106/120 : 320/320] - L0.19      \n",
      "Eval loss: 0.16522    \n",
      "[107/120 : 320/320] - L0.18      \n",
      "Eval loss: 0.16503    \n",
      "[108/120 : 320/320] - L0.15      \n",
      "Eval loss: 0.16471    \n",
      "[109/120 : 320/320] - L0.21      \n",
      "Eval loss: 0.16476    \n",
      "[110/120 : 320/320] - L0.18      \n",
      "Eval loss: 0.16454    \n",
      "[111/120 : 320/320] - L0.19      \n",
      "Eval loss: 0.16444    \n",
      "[112/120 : 320/320] - L0.19      \n",
      "Eval loss: 0.16420    \n",
      "[113/120 : 320/320] - L0.16      \n",
      "Eval loss: 0.16431    \n",
      "[114/120 : 320/320] - L0.15      \n",
      "Eval loss: 0.16405    \n",
      "[115/120 : 320/320] - L0.17      \n",
      "Eval loss: 0.16407    \n",
      "[116/120 : 320/320] - L0.20      \n",
      "Eval loss: 0.16386    \n",
      "[117/120 : 320/320] - L0.20      \n",
      "Eval loss: 0.16379    \n",
      "[118/120 : 320/320] - L0.13      \n",
      "Eval loss: 0.16354    \n",
      "[119/120 : 320/320] - L0.17      \n",
      "Eval loss: 0.16354    \n",
      "[120/120 : 320/320] - L0.16      \n",
      "Eval loss: 0.16324    \n"
     ]
    }
   ],
   "source": [
    "losses = []\n",
    "eval_mse = []\n",
    "eval_mape = []\n",
    "from numpy.random import randint\n",
    "for eii  in range(EPS):\n",
    "    for bii, batch in enumerate(dset):\n",
    "        model.train()\n",
    "        Xs, Ys = model.format_batch(batch)\n",
    "        \n",
    "        outputs = model(Xs)\n",
    "\n",
    "        opt.zero_grad()\n",
    "        loss = criterion(outputs, Ys)\n",
    "        loss.backward()\n",
    "        losses.append(loss.item())\n",
    "        opt.step()\n",
    "\n",
    "        sys.stdout.write('[%d/%d : %d/%d] - L%.2f      \\r' % (\n",
    "            eii+1, EPS,\n",
    "            bii+1, len(dset), \n",
    "            10**2 * loss.item()\n",
    "        ))\n",
    "    sys.stdout.write('\\n')\n",
    "\n",
    "    eval_mse.append(evf())\n",
    "    sys.stdout.flush()\n",
    "    sch.step()"
   ]
  },
  {
   "cell_type": "code",
   "execution_count": 7,
   "metadata": {},
   "outputs": [
    {
     "data": {
      "image/png": "[encoded data removed]",
      "text/plain": [
       "<Figure size 1008x216 with 1 Axes>"
      ]
     },
     "metadata": {},
     "output_type": "display_data"
    }
   ],
   "source": [
    "plt.figure(figsize=(14, 3))\n",
    "plt.plot(eval_mse)\n",
    "plt.show(); plt.close()"
   ]
  },
  {
   "cell_type": "code",
   "execution_count": 16,
   "metadata": {},
   "outputs": [],
   "source": [
    "from utils import *\n",
    "viewset = SpotHistory(SROUTE, 'test', 16, lag=None, res=10, shuffle=False, verbose=False)\n",
    "def xfmt(datain):\n",
    "    bynode = torch.split(datain.to(device).float().unsqueeze(1), 1, 2)\n",
    "    return bynode"
   ]
  },
  {
   "cell_type": "code",
   "execution_count": 14,
   "metadata": {
    "scrolled": true
   },
   "outputs": [
    {
     "name": "stderr",
     "output_type": "stream",
     "text": [
      "/usr/local/lib/python3.5/dist-packages/torch/serialization.py:425: SourceChangeWarning: source code of class 'models.MPRNN.MPRNN' has changed. you can retrieve the original source code by accessing the object's source attribute or set `torch.nn.Module.dump_patches = True` and use the patch tool to revert the changes.\n",
      "  warnings.warn(msg, SourceChangeWarning)\n"
     ]
    }
   ],
   "source": [
    "# torch.save(model.state_dict(), 'checkpoints/mpnn_n3.pth')\n",
    "# torch.save(model, 'checkpoints/mpnn_n3_full.pth')\n",
    "model = torch.load('checkpoints/mpnn_n3_full.pth')"
   ]
  },
  {
   "cell_type": "code",
   "execution_count": 18,
   "metadata": {
    "scrolled": false
   },
   "outputs": [
    {
     "name": "stderr",
     "output_type": "stream",
     "text": [
      "/home/ubuntu/traffic/models/MPRNN.py:87: UserWarning: RNN module weights are not part of single contiguous chunk of memory. This means they need to be compacted at every call, possibly greatly increasing memory usage. To compact weights again call flatten_parameters().\n",
      "  hout, hdn = rnn.rnn(hin, hdn)\n"
     ]
    },
    {
     "name": "stdout",
     "output_type": "stream",
     "text": [
      "Eval segments: 18\n",
      "Eval MSE: 0.2024\n"
     ]
    },
    {
     "data": {
      "image/png": "[encoded data removed]",
      "text/plain": [
       "<Figure size 1008x216 with 1 Axes>"
      ]
     },
     "metadata": {},
     "output_type": "display_data"
    }
   ],
   "source": [
    "sqerr = eval_rnn(viewset, model, plot=False, xfmt=xfmt)\n",
    "print('Eval segments:', len(viewset))\n",
    "print('Eval MSE: %.4f' % np.mean(sqerr))\n",
    "\n",
    "plt.figure(figsize=(14, 3))\n",
    "plt.plot(sorted(sqerr)); plt.ylim(0, 5)\n",
    "plt.show(); plt.close()"
   ]
  },
  {
   "cell_type": "code",
   "execution_count": 37,
   "metadata": {},
   "outputs": [
    {
     "name": "stderr",
     "output_type": "stream",
     "text": [
      "/home/ubuntu/traffic/models/MPRNN.py:87: UserWarning: RNN module weights are not part of single contiguous chunk of memory. This means they need to be compacted at every call, possibly greatly increasing memory usage. To compact weights again call flatten_parameters().\n",
      "  hout, hdn = rnn.rnn(hin, hdn)\n"
     ]
    },
    {
     "data": {
      "image/png": "[encoded data removed]",
      "text/plain": [
       "<Figure size 1008x360 with 1 Axes>"
      ]
     },
     "metadata": {},
     "output_type": "display_data"
    }
   ],
   "source": [
    "_ = eval_rnn(viewset[:1], model, plot=True, xfmt=xfmt)"
   ]
  },
  {
   "cell_type": "code",
   "execution_count": null,
   "metadata": {},
   "outputs": [],
   "source": []
  }
 ],
 "metadata": {
  "kernelspec": {
   "display_name": "Python 3",
   "language": "python",
   "name": "python3"
  },
  "language_info": {
   "codemirror_mode": {
    "name": "ipython",
    "version": 3
   },
   "file_extension": ".py",
   "mimetype": "text/x-python",
   "name": "python",
   "nbconvert_exporter": "python",
   "pygments_lexer": "ipython3",
   "version": "3.5.2"
  }
 },
 "nbformat": 4,
 "nbformat_minor": 2
}
