{
 "cells": [
  {
   "cell_type": "code",
   "execution_count": 1,
   "metadata": {},
   "outputs": [],
   "source": [
    "%load_ext autoreload\n",
    "%autoreload 2\n",
    "%matplotlib inline"
   ]
  },
  {
   "cell_type": "code",
   "execution_count": 2,
   "metadata": {},
   "outputs": [],
   "source": [
    "from tqdm import tqdm\n",
    "from glob import glob\n",
    "import os, sys\n",
    "import numpy as np\n",
    "from configs import *\n",
    "from utils import *\n",
    "import matplotlib.pyplot as plt\n",
    "import torch\n",
    "import torch.nn as nn\n",
    "import numpy as np\n",
    "from dataset import *\n",
    "torch.manual_seed(0)\n",
    "np.random.seed(0)"
   ]
  },
  {
   "cell_type": "code",
   "execution_count": 3,
   "metadata": {},
   "outputs": [
    {
     "data": {
      "text/plain": [
       "device(type='cuda', index=1)"
      ]
     },
     "execution_count": 3,
     "metadata": {},
     "output_type": "execute_result"
    }
   ],
   "source": [
    "ESIZE = 64\n",
    "EPS = 120\n",
    "BSIZE = 32\n",
    "HSIZE = 64\n",
    "LAG = 12\n",
    "SROUTE = SAMPLE_ROUTES[0]\n",
    "device = torch.device(\"cuda:1\" if torch.cuda.is_available() else \"cpu\")\n",
    "device"
   ]
  },
  {
   "cell_type": "code",
   "execution_count": 4,
   "metadata": {},
   "outputs": [
    {
     "name": "stdout",
     "output_type": "stream",
     "text": [
      "Locals dataset: train\n",
      " [*] Loaded routes: 1 (0.22s)\n",
      " [*] Has trainable inds: 262262\n",
      " [*] Subset train: 212106\n",
      " [*] Subset in Stop-30: 6079\n",
      "Locals dataset: test\n",
      " [*] Loaded routes: 1 (0.24s)\n",
      " [*] Has trainable inds: 262262\n",
      " [*] Subset test: 50156\n",
      " [*] Subset in Stop-30: 1549\n"
     ]
    }
   ],
   "source": [
    "dset = SingleStop(SROUTE, 30, 'train', 32, lag=LAG)#.generator()\n",
    "evalset = SingleStop(SROUTE, 30, 'test', 32, lag=LAG)#.generator()"
   ]
  },
  {
   "cell_type": "code",
   "execution_count": 5,
   "metadata": {},
   "outputs": [],
   "source": [
    "class Node:\n",
    "    def __init__(self, value):\n",
    "        self._v = value.clone().to(device) # label\n",
    "        self.v = value.to(device)\n",
    "        self.h = torch.zeros(BSIZE, HSIZE).to(device)\n",
    "        self.ns = [] # neighbors\n",
    "    \n",
    "    def show(self):\n",
    "        pnt = self\n",
    "        while len(pnt.ns):\n",
    "            print(pnt.v.size(), end=' ')\n",
    "            pnt = pnt.ns[0]\n",
    "        print()\n",
    "        \n",
    "    def ln(self):\n",
    "        l = 0\n",
    "        pnt = self\n",
    "        while len(pnt.ns):\n",
    "            pnt = pnt.ns[0]\n",
    "            l += 1\n",
    "        return l\n",
    "        \n",
    "def routeToGraph(batch):\n",
    "    at_time = [] # t-h ... t\n",
    "    for time in torch.split(batch, 1, dim=1):\n",
    "        root, pnt = None, None\n",
    "        for stop in torch.split(time.squeeze(1), 1, dim=1):\n",
    "            if root is None:\n",
    "                root = Node(stop)\n",
    "                pnt = root\n",
    "            else:\n",
    "                nd = Node(stop)\n",
    "                pnt.ns.append(nd)\n",
    "                pnt = nd\n",
    "        at_time.append(root)\n",
    "    return at_time\n",
    "\n",
    "def inst_tree(struct, nodes):\n",
    "    ls = []\n",
    "    for ent in nodes:\n",
    "        inst = struct(ent) #.to(device)\n",
    "        inst.device = device\n",
    "        kobj = dict(\n",
    "            op=inst,\n",
    "            ns=inst_tree(struct, ent.ns)\n",
    "        )\n",
    "        ls.append(kobj)\n",
    "    return ls    "
   ]
  },
  {
   "cell_type": "code",
   "execution_count": 6,
   "metadata": {},
   "outputs": [],
   "source": [
    "kernels = None\n",
    "upops = None"
   ]
  },
  {
   "cell_type": "code",
   "execution_count": 7,
   "metadata": {},
   "outputs": [],
   "source": [
    "criterion = nn.MSELoss().to(device)\n",
    "# opt = optim.SGD(self.parameters(), lr=lr)\n",
    "# sch = optim.lr_scheduler.StepLR(opt, step_size=15, gamma=0.2)"
   ]
  },
  {
   "cell_type": "code",
   "execution_count": 8,
   "metadata": {},
   "outputs": [
    {
     "name": "stdout",
     "output_type": "stream",
     "text": [
      "13.579473495483398 torch.Size([32, 9])\n",
      "12.546544075012207 torch.Size([32, 9])\n",
      "16.351491928100586 torch.Size([32, 9])\n",
      "16.085342407226562 torch.Size([32, 9])\n",
      "18.43267822265625 torch.Size([32, 9])\n",
      "14.53554916381836 torch.Size([32, 9])\n",
      "12.086894989013672 torch.Size([32, 9])\n",
      "13.768434524536133 torch.Size([32, 9])\n",
      "16.079240798950195 torch.Size([32, 9])\n",
      "13.26963996887207 torch.Size([32, 9])\n",
      "16.51372528076172 torch.Size([32, 9])\n"
     ]
    }
   ],
   "source": [
    "from models.Kernel import Kernel, Update\n",
    "\n",
    "def zip_op(t1, t2, op):\n",
    "    ls = [(t1, t2)]\n",
    "    while len(ls):\n",
    "        n1, n2 = ls[0]\n",
    "        ls = ls[1:]\n",
    "        op(n1, n2)\n",
    "        for c1, c2 in zip(n1['ns'], n2.ns):\n",
    "            ls.append((c1, c2))\n",
    "\n",
    "def message(kernels, graph_t):\n",
    "    zip_op(kernels, graph_t, op=lambda kern, node: kern['op'](node))\n",
    "    \n",
    "def update(kernels, graph_t):\n",
    "    zip_op(upops, graph_t, op=lambda up, node: up['op'](node))\n",
    "    \n",
    "def gather_predictions(_node, node):\n",
    "    # end nodes do not hold convolved results, so they are ignored\n",
    "    ls = [(_node._v, node.v)] if len(node.ns) else []\n",
    "    for _nb, nb in zip(_node.ns, node.ns):\n",
    "        ls += gather_predictions(_nb, nb)\n",
    "    return ls\n",
    "\n",
    "for ii in range(0, len(dset), 32):\n",
    "    batch = np.array([dset[ii+jj] for jj in range(32)])\n",
    "    batch = torch.Tensor(batch)\n",
    "    batch = routeToGraph(batch)\n",
    "\n",
    "    states = batch[0] # will be used to hold iterated values\n",
    "    if kernels is None:\n",
    "        kernels = inst_tree(\n",
    "            lambda node: Kernel(insize=1 + len(node.ns), hsize=HSIZE).to(device), \n",
    "            [states])[0]\n",
    "        upops = inst_tree(\n",
    "            lambda _: Update(hsize=HSIZE).to(device), \n",
    "            [states])[0]\n",
    "\n",
    "    # initial iteration\n",
    "    _ = message(kernels, states)\n",
    "    _ = update(upops, states)\n",
    "    \n",
    "    for ti, graph_t in enumerate(batch[1:]):\n",
    "        # compute loss\n",
    "        _ys, ys = zip(*gather_predictions(graph_t, states))\n",
    "        _ys, ys = torch.cat(_ys, dim=1), torch.cat(ys, dim=1)\n",
    "        loss = criterion(ys, _ys) # TODO: ignore loss at edges\n",
    "        print(loss.item(), _ys.size())\n",
    "        \n",
    "        # iterate\n",
    "        _ = message(kernels, states)\n",
    "        _ = update(upops, states)\n",
    "\n",
    "    # TODO: apply loss to all newvals\n",
    "    break"
   ]
  },
  {
   "cell_type": "code",
   "execution_count": null,
   "metadata": {},
   "outputs": [],
   "source": []
  }
 ],
 "metadata": {
  "kernelspec": {
   "display_name": "Python 3",
   "language": "python",
   "name": "python3"
  },
  "language_info": {
   "codemirror_mode": {
    "name": "ipython",
    "version": 3
   },
   "file_extension": ".py",
   "mimetype": "text/x-python",
   "name": "python",
   "nbconvert_exporter": "python",
   "pygments_lexer": "ipython3",
   "version": "3.5.2"
  }
 },
 "nbformat": 4,
 "nbformat_minor": 2
}
