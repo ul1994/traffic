{
 "cells": [
  {
   "cell_type": "code",
   "execution_count": 1,
   "metadata": {},
   "outputs": [],
   "source": [
    "%load_ext autoreload\n",
    "%autoreload 2\n",
    "%matplotlib inline"
   ]
  },
  {
   "cell_type": "code",
   "execution_count": 2,
   "metadata": {},
   "outputs": [],
   "source": [
    "from glob import glob\n",
    "from tqdm import tqdm\n",
    "import matplotlib.pyplot as plt\n",
    "import numpy as np\n",
    "import os, sys"
   ]
  },
  {
   "cell_type": "code",
   "execution_count": 3,
   "metadata": {},
   "outputs": [],
   "source": [
    "from utils import *\n",
    "sfiles = glob('data/stopcodes_sequence/*.txt')\n",
    "seg_routes = {}\n",
    "for sname in sfiles:\n",
    "    if 'X' in sname:\n",
    "        continue\n",
    "    with open(sname) as fl:\n",
    "        raw = fl.read()\n",
    "    lines = raw.split('\\n')[:-1]\n",
    "    for ii in range(1, len(lines)):\n",
    "        skey = ('%s-%s' % (lines[ii-1], lines[ii]))\n",
    "        if skey not in seg_routes:\n",
    "            seg_routes[skey] = []\n",
    "        seg_routes[skey].append(fileName(sname))"
   ]
  },
  {
   "cell_type": "code",
   "execution_count": 23,
   "metadata": {},
   "outputs": [],
   "source": [
    "segkey = lambda seg: '%s-%s' % (seg[0], seg[1])"
   ]
  },
  {
   "cell_type": "code",
   "execution_count": 24,
   "metadata": {},
   "outputs": [
    {
     "name": "stdout",
     "output_type": "stream",
     "text": [
      "['551351', '551352']\n"
     ]
    }
   ],
   "source": [
    "segids = list(seg_routes.keys())\n",
    "segids = list(map(lambda k: k.split('-'), segids))\n",
    "print(segids[0])"
   ]
  },
  {
   "cell_type": "code",
   "execution_count": 26,
   "metadata": {},
   "outputs": [],
   "source": [
    "def get_adj(segids):\n",
    "    # undirected adjacencies\n",
    "    adjlist = {}\n",
    "    for si, start in enumerate(tqdm(segids)):\n",
    "        for ei, end in enumerate(segids):\n",
    "            if start[1] == end[0]:\n",
    "                if segkey(start) not in adjlist:\n",
    "                    adjlist[segkey(start)] = []\n",
    "                if segkey(end) not in adjlist:\n",
    "                    adjlist[segkey(end)] = []\n",
    "                adjlist[segkey(start)].append((end, 1))\n",
    "                adjlist[segkey(end)].append((start, -1))\n",
    "    return adjlist"
   ]
  },
  {
   "cell_type": "code",
   "execution_count": 27,
   "metadata": {},
   "outputs": [
    {
     "name": "stderr",
     "output_type": "stream",
     "text": [
      "100%|██████████| 16923/16923 [00:26<00:00, 632.42it/s]\n"
     ]
    }
   ],
   "source": [
    "adjlist = get_adj(segids)"
   ]
  },
  {
   "cell_type": "code",
   "execution_count": 28,
   "metadata": {},
   "outputs": [],
   "source": [
    "segnames = list(adjlist.keys())\n",
    "counts = list(map(lambda key: len(adjlist[key]), segnames))"
   ]
  },
  {
   "cell_type": "code",
   "execution_count": 55,
   "metadata": {
    "scrolled": false
   },
   "outputs": [
    {
     "name": "stdout",
     "output_type": "stream",
     "text": [
      "405500-402085 5\n",
      "501402-501337 5\n",
      "404081-404168 5\n",
      "400860-400861 6\n",
      "402215-450202 6\n",
      "504404-552993 6\n",
      "403438-101415 6\n",
      "503551-804024 6\n",
      "402377-402379 6\n",
      "550040-550041 6\n",
      "100652-104002 6\n",
      "981012-400161 6\n",
      "403434-403777 6\n",
      "501401-501336 6\n",
      "552508-403293 6\n",
      "401797-403293 6\n",
      "100483-404081 6\n",
      "403656-403658 6\n",
      "400124-400125 6\n",
      "404081-450446 6\n",
      "450446-400124 6\n",
      "550462-504404 6\n",
      "403438-103383 6\n",
      "402215-402216 6\n"
     ]
    }
   ],
   "source": [
    "for ii in np.argsort(counts)[-200:-100]:\n",
    "    if '40' in segnames[ii]:\n",
    "        print(segnames[ii], len(adjlist[segnames[ii]]))\n",
    "# for ii in np.argsort(counts):\n",
    "#     if '400933' in segnames[ii]:\n",
    "#         print(segnames[ii], len(adjlist[segnames[ii]]))"
   ]
  },
  {
   "cell_type": "code",
   "execution_count": 30,
   "metadata": {},
   "outputs": [
    {
     "name": "stdout",
     "output_type": "stream",
     "text": [
      "500081-505233 8\n",
      "450020-450024 8\n",
      "450420-402082 8\n",
      "405256-450378 8\n",
      "500008-500009 8\n",
      "450004-403640 8\n",
      "405060-405500 8\n",
      "502408-552511 8\n",
      "450014-450018 8\n",
      "450023-450377 8\n",
      "401844-450417 8\n",
      "450203-405256 8\n",
      "200284-905002 7\n",
      "502399-552520 7\n",
      "100730-100731 7\n",
      "501398-501399 7\n",
      "551323-551325 7\n",
      "450015-450019 6\n",
      "101729-101730 6\n",
      "551352-553210 6\n"
     ]
    }
   ],
   "source": [
    "byseg = list(sorted(list(seg_routes.keys()), key=lambda seg: len(seg_routes[seg])))\n",
    "for seg in reversed(byseg[-50:-30]):\n",
    "    print(seg, len(seg_routes[seg]))"
   ]
  },
  {
   "cell_type": "code",
   "execution_count": 58,
   "metadata": {},
   "outputs": [
    {
     "name": "stdout",
     "output_type": "stream",
     "text": [
      "5\n",
      "[(['400861', '403781'], 1), (['400861', '400948'], 1), (['400861', '405376'], 1), (['404138', '400860'], -1), (['400858', '400860'], -1), (['401348', '400860'], -1)]\n",
      "['M104_1', 'M10_1', 'M20_1', 'M5_1', 'M7_1']\n",
      "400861-403781\n",
      "400861-400948\n",
      "400861-405376\n"
     ]
    }
   ],
   "source": [
    "tag = '400860-400861'\n",
    "# 400860-400861\n",
    "# 400861-403781\n",
    "# 400861-400948\n",
    "# 400861-405376\n",
    "\n",
    "# 400951-403797, 403797-400953, 403797-405297\n",
    "print(len(seg_routes[tag]))\n",
    "print(adjlist[tag])\n",
    "print(sorted(seg_routes[tag]))\n",
    "for adj in adjlist[tag]:\n",
    "    if adj[1] == 1:\n",
    "        print('%s-%s' % tuple(adj[0]))"
   ]
  },
  {
   "cell_type": "code",
   "execution_count": 11,
   "metadata": {},
   "outputs": [
    {
     "name": "stdout",
     "output_type": "stream",
     "text": [
      "[((502977, 502978), -1), ((502979, 502980), 1)]\n"
     ]
    }
   ],
   "source": [
    "list(adjlist.keys())[0]\n",
    "print(adjlist[list(adjlist.keys())[0]])"
   ]
  },
  {
   "cell_type": "code",
   "execution_count": 12,
   "metadata": {},
   "outputs": [
    {
     "data": {
      "image/png": "[encoded data removed]",
      "text/plain": [
       "<Figure size 1008x288 with 1 Axes>"
      ]
     },
     "metadata": {},
     "output_type": "display_data"
    }
   ],
   "source": [
    "plt.figure(figsize=(14, 4))\n",
    "plt.plot(sorted(counts))\n",
    "plt.show(); plt.close()"
   ]
  },
  {
   "cell_type": "code",
   "execution_count": 58,
   "metadata": {},
   "outputs": [
    {
     "name": "stderr",
     "output_type": "stream",
     "text": [
      "100%|██████████| 16728/16728 [00:37<00:00, 450.85it/s]\n"
     ]
    },
    {
     "data": {
      "image/png": "[encoded data removed]",
      "text/plain": [
       "<matplotlib.figure.Figure at 0x2b2fe245e4a8>"
      ]
     },
     "metadata": {},
     "output_type": "display_data"
    }
   ],
   "source": [
    "adjlist = get_inc(segids)\n",
    "counts = map(lambda key: len(adjlist[key]), adjlist.keys())\n",
    "plt.figure(figsize=(14, 4))\n",
    "plt.plot(sorted(counts))\n",
    "plt.show(); plt.close()"
   ]
  },
  {
   "cell_type": "code",
   "execution_count": 40,
   "metadata": {},
   "outputs": [],
   "source": [
    "valid = {}\n",
    "with open('Valid-Counts.txt') as fl:\n",
    "    lines = fl.read().split('\\n')\n",
    "lines = [ln.split(',') for  ln in lines[1:-1]]\n",
    "lines = [(ent[0], int(ent[1])) for ent in lines]\n",
    "for segid, count in lines:\n",
    "    valid[segid] = (count, count/13248)\n",
    "# print(valid_counts[0], valid_counts[-1])"
   ]
  },
  {
   "cell_type": "code",
   "execution_count": 44,
   "metadata": {},
   "outputs": [
    {
     "data": {
      "image/png": "[encoded data removed]",
      "text/plain": [
       "<matplotlib.figure.Figure at 0x2b2fe2387780>"
      ]
     },
     "metadata": {},
     "output_type": "display_data"
    }
   ],
   "source": [
    "val_perc = list(map(lambda key: valid[key][1], valid.keys()))\n",
    "plt.figure(figsize=(14, 4))\n",
    "for ii in range(1, 5):\n",
    "    plt.plot([0, len(val_perc)], [0.2*ii, 0.2*ii], color='#CCCCCC')\n",
    "plt.plot(sorted(val_perc))\n",
    "plt.show(); plt.close()"
   ]
  },
  {
   "cell_type": "code",
   "execution_count": 49,
   "metadata": {},
   "outputs": [
    {
     "name": "stdout",
     "output_type": "stream",
     "text": [
      "2305\n"
     ]
    }
   ],
   "source": [
    "def cull_invalid(ids, cut=0.7):\n",
    "    return list(filter(lambda one: valid[segkey(one)][1] > cut, ids))\n",
    "\n",
    "val_ids = cull_invalid(segids)\n",
    "print(len(val_ids))"
   ]
  },
  {
   "cell_type": "code",
   "execution_count": 62,
   "metadata": {},
   "outputs": [
    {
     "name": "stderr",
     "output_type": "stream",
     "text": [
      "100%|██████████| 2305/2305 [00:00<00:00, 2479.70it/s]\n"
     ]
    }
   ],
   "source": [
    "adjlist = get_adj(val_ids)   \n",
    "counts = map(lambda key: len(adjlist[key]), adjlist.keys())"
   ]
  },
  {
   "cell_type": "code",
   "execution_count": 63,
   "metadata": {},
   "outputs": [
    {
     "data": {
      "image/png": "[encoded data removed]",
      "text/plain": [
       "<matplotlib.figure.Figure at 0x2b2fd33fd5f8>"
      ]
     },
     "metadata": {},
     "output_type": "display_data"
    }
   ],
   "source": [
    "plt.figure(figsize=(14, 4))\n",
    "plt.plot(sorted(counts))\n",
    "plt.show(); plt.close()"
   ]
  },
  {
   "cell_type": "code",
   "execution_count": 66,
   "metadata": {},
   "outputs": [
    {
     "name": "stdout",
     "output_type": "stream",
     "text": [
      "data/stopcodes_sequence/Q22_0.txt\n"
     ]
    }
   ],
   "source": [
    "routes = glob('data/stopcodes_sequence/*_0.txt')\n",
    "print(routes[0])"
   ]
  },
  {
   "cell_type": "code",
   "execution_count": 70,
   "metadata": {},
   "outputs": [],
   "source": [
    "rlen = {}\n",
    "for rname in routes:\n",
    "    with open(rname) as fl:\n",
    "        rlen[rname.split('/')[-1][:-4]] = len(fl.read().split('\\n'))"
   ]
  },
  {
   "cell_type": "code",
   "execution_count": 71,
   "metadata": {},
   "outputs": [
    {
     "data": {
      "text/plain": [
       "65"
      ]
     },
     "execution_count": 71,
     "metadata": {},
     "output_type": "execute_result"
    }
   ],
   "source": [
    "rlen['Q22_0']"
   ]
  },
  {
   "cell_type": "code",
   "execution_count": 72,
   "metadata": {},
   "outputs": [
    {
     "data": {
      "image/png": "[encoded data removed]",
      "text/plain": [
       "<matplotlib.figure.Figure at 0x2b2fe21a92b0>"
      ]
     },
     "metadata": {},
     "output_type": "display_data"
    }
   ],
   "source": [
    "plt.figure(figsize=(14, 4))\n",
    "plt.plot(sorted(rlen.values()))\n",
    "plt.show(); plt.close()"
   ]
  },
  {
   "cell_type": "code",
   "execution_count": null,
   "metadata": {},
   "outputs": [],
   "source": []
  }
 ],
 "metadata": {
  "kernelspec": {
   "display_name": "Python 3",
   "language": "python",
   "name": "python3"
  },
  "language_info": {
   "codemirror_mode": {
    "name": "ipython",
    "version": 3
   },
   "file_extension": ".py",
   "mimetype": "text/x-python",
   "name": "python",
   "nbconvert_exporter": "python",
   "pygments_lexer": "ipython3",
   "version": "3.5.2"
  }
 },
 "nbformat": 4,
 "nbformat_minor": 2
}
