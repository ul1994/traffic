{
 "cells": [
  {
   "cell_type": "code",
   "execution_count": 1,
   "metadata": {},
   "outputs": [],
   "source": [
    "%load_ext autoreload\n",
    "%autoreload 2\n",
    "%matplotlib inline"
   ]
  },
  {
   "cell_type": "code",
   "execution_count": 2,
   "metadata": {},
   "outputs": [],
   "source": [
    "from glob import glob\n",
    "from configs import *\n",
    "from tqdm import tqdm\n",
    "from utils import *\n",
    "import numpy as np\n",
    "import matplotlib.pyplot as plt\n",
    "from dataset import *\n",
    "from time import time\n",
    "tqdm.monitor_interval = 0\n",
    "import torch\n",
    "import json\n",
    "import torch.nn as nn\n",
    "import numpy as np\n",
    "torch.manual_seed(0)\n",
    "np.random.seed(0)"
   ]
  },
  {
   "cell_type": "code",
   "execution_count": 13,
   "metadata": {},
   "outputs": [],
   "source": [
    "ttypes = [\n",
    "    'rnn',\n",
    "    'rnn_0',\n",
    "    'linear',\n",
    "]"
   ]
  },
  {
   "cell_type": "code",
   "execution_count": 14,
   "metadata": {},
   "outputs": [
    {
     "name": "stdout",
     "output_type": "stream",
     "text": [
      "rnn\n",
      "3.01255533930652 3.2507603855780536\n",
      "24.346896626124906 35.81784833171686\n",
      "rnn_0\n",
      "3.4855008489731794 15.954356615369278\n",
      "25.62525330000111 68.60289901274813\n",
      "linear\n",
      "3.121722453382436 3.3281232269044065\n",
      "25.314738770943066 36.611972093238826\n"
     ]
    }
   ],
   "source": [
    "for model in ttypes:\n",
    "    obj = dict(mape=[], mse=[])\n",
    "    logs = glob('checkpoints/%s/*.json' % model)\n",
    "    for log in logs:\n",
    "        with open(log) as fl:\n",
    "            meta = json.load(fl)\n",
    "        if meta['mape'] == meta['mape']:\n",
    "            obj['mape'].append(meta['mape'])\n",
    "        if meta['mse'] == meta['mse']:\n",
    "            obj['mse'].append(meta['mse'])\n",
    "    obj['mse'] = (np.mean(obj['mse']), np.var(obj['mse']))\n",
    "    obj['mape'] = (np.mean(obj['mape']), np.var(obj['mape']))\n",
    "    print(model)\n",
    "    print(obj['mse'][0], obj['mse'][1])\n",
    "    print(obj['mape'][0], obj['mape'][1])"
   ]
  },
  {
   "cell_type": "code",
   "execution_count": null,
   "metadata": {},
   "outputs": [],
   "source": []
  }
 ],
 "metadata": {
  "kernelspec": {
   "display_name": "Python 3",
   "language": "python",
   "name": "python3"
  },
  "language_info": {
   "codemirror_mode": {
    "name": "ipython",
    "version": 3
   },
   "file_extension": ".py",
   "mimetype": "text/x-python",
   "name": "python",
   "nbconvert_exporter": "python",
   "pygments_lexer": "ipython3",
   "version": "3.5.2"
  }
 },
 "nbformat": 4,
 "nbformat_minor": 2
}
