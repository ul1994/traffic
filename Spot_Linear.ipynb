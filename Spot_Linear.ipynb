{
 "cells": [
  {
   "cell_type": "code",
   "execution_count": 1,
   "metadata": {},
   "outputs": [],
   "source": [
    "%load_ext autoreload\n",
    "%autoreload 2\n",
    "%matplotlib inline"
   ]
  },
  {
   "cell_type": "code",
   "execution_count": 2,
   "metadata": {},
   "outputs": [],
   "source": [
    "from glob import glob\n",
    "from configs import *\n",
    "from tqdm import tqdm\n",
    "from utils import *\n",
    "import numpy as np\n",
    "import matplotlib.pyplot as plt\n",
    "from dataset import *\n",
    "from time import time\n",
    "tqdm.monitor_interval = 0\n",
    "import torch\n",
    "import json\n",
    "import torch.nn as nn\n",
    "import numpy as np\n",
    "torch.manual_seed(0)\n",
    "np.random.seed(0)"
   ]
  },
  {
   "cell_type": "code",
   "execution_count": 3,
   "metadata": {},
   "outputs": [
    {
     "name": "stdout",
     "output_type": "stream",
     "text": [
      "cuda:0\n"
     ]
    }
   ],
   "source": [
    "DENSE = False\n",
    "EPS = 120\n",
    "LAG = 12 + 1\n",
    "# SROUTE = [\n",
    "#     '403259-401851', \n",
    "#     '401851-401852'\n",
    "# ]\n",
    "SROUTE = [\n",
    "    '400860-400861', \n",
    "#     '400861-403781',\n",
    "#     '400861-400948',\n",
    "#     '400861-405376',\n",
    "]\n",
    "STOPS = len(SROUTE)\n",
    "device = torch.device(\"cuda:0\" if torch.cuda.is_available() else \"cpu\")\n",
    "print(device)"
   ]
  },
  {
   "cell_type": "code",
   "execution_count": 14,
   "metadata": {},
   "outputs": [
    {
     "name": "stdout",
     "output_type": "stream",
     "text": [
      "Full history\n",
      " [*] Segments: 90 co-avail\n",
      "    * [400860-400861]: 90\n",
      " [*] Examples (train): 72\n",
      " [*] Time range: 2014-08-01 ~ 2014-10-31\n"
     ]
    },
    {
     "data": {
      "image/png": "[encoded data removed]",
      "text/plain": [
       "<Figure size 1008x216 with 1 Axes>"
      ]
     },
     "metadata": {},
     "output_type": "display_data"
    }
   ],
   "source": [
    "dset = SpotHistory(SROUTE, 'train', 16, lag=None, res=10, smooth=1.5, shuffle=False)\n",
    "\n",
    "plt.figure(figsize=(14, 3))\n",
    "for ii in range(len(SROUTE)):\n",
    "    plt.plot(dset[0][:, ii])\n",
    "plt.show(); plt.close()"
   ]
  },
  {
   "cell_type": "code",
   "execution_count": 5,
   "metadata": {},
   "outputs": [
    {
     "name": "stdout",
     "output_type": "stream",
     "text": [
      "Chunks (lag 13)\n",
      " [*] Segments: 90 co-avail\n",
      "    * [400860-400861]: 90\n",
      " [*] Examples (train): 11726\n",
      " [*] Time range: 2014-08-01 ~ 2014-10-31\n",
      "Chunks (lag 13)\n",
      " [*] Segments: 90 co-avail\n",
      "    * [400860-400861]: 90\n",
      " [*] Examples (test): 11726\n",
      " [*] Time range: 2014-08-01 ~ 2014-10-31\n"
     ]
    }
   ],
   "source": [
    "dset = SpotHistory(SROUTE, 'train', 32, lag=LAG, res=10).generator()\n",
    "evalset = SpotHistory(SROUTE, 'test', 32, lag=LAG, res=10).generator()"
   ]
  },
  {
   "cell_type": "code",
   "execution_count": 6,
   "metadata": {},
   "outputs": [],
   "source": [
    "from models.Linear import *\n",
    "model = Linear(lag=LAG-1, stops=STOPS).to(device)\n",
    "model.device = device\n",
    "criterion, opt, sch = model.params(lr=0.05)"
   ]
  },
  {
   "cell_type": "code",
   "execution_count": 8,
   "metadata": {},
   "outputs": [
    {
     "name": "stdout",
     "output_type": "stream",
     "text": [
      "Eval loss: 202.41234           \n"
     ]
    }
   ],
   "source": [
    "evf = lambda: evaluate(\n",
    "    evalset, model, \n",
    "    crit=lambda _y, y: criterion(_y[:, 0], y[:, 0]).item())\n",
    "_ = evf()"
   ]
  },
  {
   "cell_type": "code",
   "execution_count": 9,
   "metadata": {
    "scrolled": true
   },
   "outputs": [
    {
     "name": "stdout",
     "output_type": "stream",
     "text": [
      "[1/120 : 367/367] - L0.68 (avg 2.35)      \n",
      "Eval loss: 0.95002           \n",
      "[2/120 : 367/367] - L1.31 (avg 0.78)      \n",
      "Eval loss: 1.01882           \n",
      "[3/120 : 367/367] - L0.16 (avg 0.55)      \n",
      "Eval loss: 0.44762           \n",
      "[4/120 : 367/367] - L0.22 (avg 0.46)      \n",
      "Eval loss: 0.39892           \n",
      "[5/120 : 367/367] - L0.17 (avg 0.41)      \n",
      "Eval loss: 0.38124           \n",
      "[6/120 : 367/367] - L0.26 (avg 0.37)      \n",
      "Eval loss: 0.33932           \n",
      "[7/120 : 367/367] - L0.56 (avg 0.34)      \n",
      "Eval loss: 0.53101           \n",
      "[8/120 : 367/367] - L0.26 (avg 0.33)      \n",
      "Eval loss: 0.42884           \n",
      "[9/120 : 367/367] - L0.28 (avg 0.31)      \n",
      "Eval loss: 0.27776           \n",
      "[10/120 : 367/367] - L0.59 (avg 0.29)      \n",
      "Eval loss: 0.30423           \n",
      "[11/120 : 367/367] - L0.07 (avg 0.28)      \n",
      "Eval loss: 0.24825           \n",
      "[12/120 : 367/367] - L0.08 (avg 0.27)      \n",
      "Eval loss: 0.24043           \n",
      "[13/120 : 367/367] - L0.05 (avg 0.25)      \n",
      "Eval loss: 0.22984           \n",
      "[14/120 : 367/367] - L0.20 (avg 0.25)      \n",
      "Eval loss: 0.27749           \n",
      "[15/120 : 367/367] - L0.12 (avg 0.24)      \n",
      "Eval loss: 0.26262           \n",
      "[16/120 : 367/367] - L0.19 (avg 0.23)      \n",
      "Eval loss: 0.21115           \n",
      "[17/120 : 367/367] - L0.14 (avg 0.23)      \n",
      "Eval loss: 0.24636           \n",
      "[18/120 : 367/367] - L0.34 (avg 0.22)      \n",
      "Eval loss: 0.42755           \n",
      "[19/120 : 367/367] - L0.23 (avg 0.21)      \n",
      "Eval loss: 0.19170           \n",
      "[20/120 : 367/367] - L0.35 (avg 0.21)      \n",
      "Eval loss: 0.20156           \n",
      "[21/120 : 367/367] - L0.08 (avg 0.20)      \n",
      "Eval loss: 0.18358           \n",
      "[22/120 : 367/367] - L0.05 (avg 0.20)      \n",
      "Eval loss: 0.19755           \n",
      "[23/120 : 367/367] - L0.06 (avg 0.20)      \n",
      "Eval loss: 0.17545           \n",
      "[24/120 : 367/367] - L0.08 (avg 0.19)      \n",
      "Eval loss: 0.18595           \n",
      "[25/120 : 367/367] - L0.09 (avg 0.19)      \n",
      "Eval loss: 0.16936           \n",
      "[26/120 : 367/367] - L0.07 (avg 0.18)      \n",
      "Eval loss: 0.17599           \n",
      "[27/120 : 367/367] - L0.12 (avg 0.18)      \n",
      "Eval loss: 0.16754           \n",
      "[28/120 : 367/367] - L0.09 (avg 0.18)      \n",
      "Eval loss: 0.17793           \n",
      "[29/120 : 367/367] - L0.12 (avg 0.17)      \n",
      "Eval loss: 0.17724           \n",
      "[30/120 : 367/367] - L0.11 (avg 0.17)      \n",
      "Eval loss: 0.17915           \n",
      "[31/120 : 367/367] - L0.07 (avg 0.17)      \n",
      "Eval loss: 0.15653           \n",
      "[32/120 : 367/367] - L0.06 (avg 0.16)      \n",
      "Eval loss: 0.15286           \n",
      "[33/120 : 367/367] - L0.04 (avg 0.15)      \n",
      "Eval loss: 0.15122           \n",
      "[34/120 : 367/367] - L0.11 (avg 0.15)      \n",
      "Eval loss: 0.16525           \n",
      "[35/120 : 367/367] - L0.08 (avg 0.15)      \n",
      "Eval loss: 0.14937           \n",
      "[36/120 : 367/367] - L0.18 (avg 0.15)      \n",
      "Eval loss: 0.15136           \n",
      "[37/120 : 367/367] - L0.20 (avg 0.15)      \n",
      "Eval loss: 0.15603           \n",
      "[38/120 : 367/367] - L0.09 (avg 0.15)      \n",
      "Eval loss: 0.17553           \n",
      "[39/120 : 367/367] - L0.05 (avg 0.15)      \n",
      "Eval loss: 0.14583           \n",
      "[40/120 : 367/367] - L0.02 (avg 0.15)      \n",
      "Eval loss: 0.14473           \n",
      "[41/120 : 367/367] - L0.18 (avg 0.15)      \n",
      "Eval loss: 0.15457           \n",
      "[42/120 : 367/367] - L0.30 (avg 0.15)      \n",
      "Eval loss: 0.14374           \n",
      "[43/120 : 367/367] - L0.26 (avg 0.14)      \n",
      "Eval loss: 0.14256           \n",
      "[44/120 : 367/367] - L0.07 (avg 0.14)      \n",
      "Eval loss: 0.14225           \n",
      "[45/120 : 367/367] - L0.09 (avg 0.14)      \n",
      "Eval loss: 0.15442           \n",
      "[46/120 : 367/367] - L0.16 (avg 0.14)      \n",
      "Eval loss: 0.14322           \n",
      "[47/120 : 367/367] - L0.14 (avg 0.14)      \n",
      "Eval loss: 0.17140           \n",
      "[48/120 : 367/367] - L0.65 (avg 0.14)      \n",
      "Eval loss: 0.29394           \n",
      "[49/120 : 367/367] - L0.07 (avg 0.14)      \n",
      "Eval loss: 0.13569           \n",
      "[50/120 : 367/367] - L0.07 (avg 0.14)      \n",
      "Eval loss: 0.13503           \n",
      "[51/120 : 367/367] - L0.09 (avg 0.14)      \n",
      "Eval loss: 0.13606           \n",
      "[52/120 : 367/367] - L0.09 (avg 0.14)      \n",
      "Eval loss: 0.13446           \n",
      "[53/120 : 367/367] - L0.05 (avg 0.14)      \n",
      "Eval loss: 0.13433           \n",
      "[54/120 : 367/367] - L0.12 (avg 0.14)      \n",
      "Eval loss: 0.13452           \n",
      "[55/120 : 367/367] - L0.10 (avg 0.14)      \n",
      "Eval loss: 0.13227           \n",
      "[56/120 : 367/367] - L0.05 (avg 0.13)      \n",
      "Eval loss: 0.13063           \n",
      "[57/120 : 367/367] - L0.11 (avg 0.13)      \n",
      "Eval loss: 0.13068           \n",
      "[58/120 : 367/367] - L0.13 (avg 0.13)      \n",
      "Eval loss: 0.13134           \n",
      "[59/120 : 367/367] - L0.05 (avg 0.13)      \n",
      "Eval loss: 0.12839           \n",
      "[60/120 : 367/367] - L0.03 (avg 0.13)      \n",
      "Eval loss: 0.12790           \n",
      "[61/120 : 367/367] - L0.12 (avg 0.13)      \n",
      "Eval loss: 0.12744           \n",
      "[62/120 : 367/367] - L0.12 (avg 0.13)      \n",
      "Eval loss: 0.12754           \n",
      "[63/120 : 367/367] - L0.09 (avg 0.13)      \n",
      "Eval loss: 0.12675           \n",
      "[64/120 : 367/367] - L0.05 (avg 0.13)      \n",
      "Eval loss: 0.12620           \n",
      "[65/120 : 367/367] - L0.06 (avg 0.13)      \n",
      "Eval loss: 0.12598           \n",
      "[66/120 : 367/367] - L0.26 (avg 0.13)      \n",
      "Eval loss: 0.13686           \n",
      "[67/120 : 367/367] - L0.03 (avg 0.13)      \n",
      "Eval loss: 0.12558           \n",
      "[68/120 : 367/367] - L0.04 (avg 0.13)      \n",
      "Eval loss: 0.12680           \n",
      "[69/120 : 367/367] - L0.05 (avg 0.13)      \n",
      "Eval loss: 0.12591           \n",
      "[70/120 : 367/367] - L0.06 (avg 0.13)      \n",
      "Eval loss: 0.12484           \n",
      "[71/120 : 367/367] - L0.05 (avg 0.13)      \n",
      "Eval loss: 0.12404           \n",
      "[72/120 : 367/367] - L0.07 (avg 0.13)      \n",
      "Eval loss: 0.12367           \n",
      "[73/120 : 367/367] - L0.03 (avg 0.13)      \n",
      "Eval loss: 0.12409           \n",
      "[74/120 : 367/367] - L0.04 (avg 0.12)      \n",
      "Eval loss: 0.12356           \n",
      "[75/120 : 367/367] - L0.08 (avg 0.12)      \n",
      "Eval loss: 0.12297           \n",
      "[76/120 : 367/367] - L0.22 (avg 0.12)      \n",
      "Eval loss: 0.12357           \n",
      "[77/120 : 367/367] - L0.07 (avg 0.12)      \n",
      "Eval loss: 0.12427           \n",
      "[78/120 : 367/367] - L0.13 (avg 0.12)      \n",
      "Eval loss: 0.12238           \n",
      "[79/120 : 367/367] - L0.07 (avg 0.12)      \n",
      "Eval loss: 0.12264           \n",
      "[80/120 : 367/367] - L0.18 (avg 0.12)      \n",
      "Eval loss: 0.13011           \n",
      "[81/120 : 367/367] - L0.18 (avg 0.12)      \n",
      "Eval loss: 0.12114           \n",
      "[82/120 : 367/367] - L0.06 (avg 0.12)      \n",
      "Eval loss: 0.12072           \n",
      "[83/120 : 367/367] - L0.12 (avg 0.12)      \n",
      "Eval loss: 0.12174           \n",
      "[84/120 : 367/367] - L0.03 (avg 0.12)      \n",
      "Eval loss: 0.12053           \n",
      "[85/120 : 367/367] - L0.15 (avg 0.12)      \n",
      "Eval loss: 0.12086           \n",
      "[86/120 : 367/367] - L0.05 (avg 0.12)      \n",
      "Eval loss: 0.11985           \n",
      "[87/120 : 367/367] - L0.09 (avg 0.12)      \n",
      "Eval loss: 0.12215           \n",
      "[88/120 : 367/367] - L0.03 (avg 0.12)      \n",
      "Eval loss: 0.11914           \n",
      "[89/120 : 367/367] - L0.03 (avg 0.12)      \n",
      "Eval loss: 0.11895           \n",
      "[90/120 : 367/367] - L0.19 (avg 0.12)      \n",
      "Eval loss: 0.11983           \n",
      "[91/120 : 367/367] - L0.13 (avg 0.12)      \n",
      "Eval loss: 0.11870           \n",
      "[92/120 : 367/367] - L0.13 (avg 0.12)      \n",
      "Eval loss: 0.11984           \n",
      "[93/120 : 367/367] - L0.04 (avg 0.12)      \n",
      "Eval loss: 0.11817           \n",
      "[94/120 : 367/367] - L0.17 (avg 0.12)      \n",
      "Eval loss: 0.11814           \n",
      "[95/120 : 367/367] - L0.07 (avg 0.12)      \n",
      "Eval loss: 0.11805           \n",
      "[96/120 : 367/367] - L0.45 (avg 0.12)      \n",
      "Eval loss: 0.11795           \n",
      "[97/120 : 367/367] - L0.10 (avg 0.12)      \n",
      "Eval loss: 0.11760           \n",
      "[98/120 : 367/367] - L0.05 (avg 0.12)      \n",
      "Eval loss: 0.11872           \n",
      "[99/120 : 367/367] - L0.32 (avg 0.12)      \n",
      "Eval loss: 0.12198           \n",
      "[100/120 : 367/367] - L0.03 (avg 0.12)      \n",
      "Eval loss: 0.11799           \n",
      "[101/120 : 367/367] - L0.10 (avg 0.12)      \n",
      "Eval loss: 0.11791           \n",
      "[102/120 : 367/367] - L0.16 (avg 0.12)      \n",
      "Eval loss: 0.11756           \n",
      "[103/120 : 367/367] - L0.06 (avg 0.12)      \n",
      "Eval loss: 0.11713           \n",
      "[104/120 : 367/367] - L0.05 (avg 0.12)      \n",
      "Eval loss: 0.11675           \n",
      "[105/120 : 367/367] - L0.11 (avg 0.12)      \n",
      "Eval loss: 0.11685           \n",
      "[106/120 : 367/367] - L0.16 (avg 0.12)      \n",
      "Eval loss: 0.11662           \n",
      "[107/120 : 367/367] - L0.05 (avg 0.12)      \n",
      "Eval loss: 0.11826           \n",
      "[108/120 : 367/367] - L0.14 (avg 0.12)      \n",
      "Eval loss: 0.11631           \n",
      "[109/120 : 367/367] - L0.22 (avg 0.12)      \n",
      "Eval loss: 0.11708           \n",
      "[110/120 : 367/367] - L0.22 (avg 0.12)      \n",
      "Eval loss: 0.11637           \n",
      "[111/120 : 367/367] - L0.06 (avg 0.12)      \n"
     ]
    },
    {
     "name": "stdout",
     "output_type": "stream",
     "text": [
      "Eval loss: 0.11623           \n",
      "[112/120 : 367/367] - L0.04 (avg 0.12)      \n",
      "Eval loss: 0.11659           \n",
      "[113/120 : 367/367] - L0.13 (avg 0.12)      \n",
      "Eval loss: 0.11576           \n",
      "[114/120 : 367/367] - L0.06 (avg 0.12)      \n",
      "Eval loss: 0.11589           \n",
      "[115/120 : 367/367] - L0.36 (avg 0.12)      \n",
      "Eval loss: 0.11548           \n",
      "[116/120 : 367/367] - L0.04 (avg 0.12)      \n",
      "Eval loss: 0.11535           \n",
      "[117/120 : 367/367] - L0.04 (avg 0.12)      \n",
      "Eval loss: 0.11549           \n",
      "[118/120 : 367/367] - L0.20 (avg 0.12)      \n",
      "Eval loss: 0.11512           \n",
      "[119/120 : 367/367] - L0.04 (avg 0.12)      \n",
      "Eval loss: 0.11483           \n",
      "[120/120 : 367/367] - L0.07 (avg 0.12)      \n",
      "Eval loss: 0.11505           \n"
     ]
    }
   ],
   "source": [
    "losses = []\n",
    "eval_mse = []\n",
    "eval_mape = []\n",
    "\n",
    "for eii  in range(EPS):\n",
    "    bls = []\n",
    "    for bii, batch in enumerate(dset):\n",
    "        model.train()\n",
    "        Xs, Ys = model.format_batch(batch)\n",
    "        \n",
    "        outputs = model(Xs)\n",
    "\n",
    "        opt.zero_grad()\n",
    "        loss = criterion(outputs, Ys)\n",
    "        loss.backward()\n",
    "        losses.append(loss.item())\n",
    "        opt.step()\n",
    "\n",
    "        bls.append(loss.item())\n",
    "        sys.stdout.write('[%d/%d : %d/%d] - L%.2f %s      \\r' % (\n",
    "            eii+1, EPS,\n",
    "            bii+1, len(dset), \n",
    "            10**2 * loss.item(),\n",
    "            '(avg %.2f)' % (10 ** 2 * np.mean(bls)) if bii == len(dset) -1 else ''\n",
    "        ))\n",
    "    sys.stdout.write('\\n')\n",
    "\n",
    "    eval_mse.append(evf())\n",
    "    sys.stdout.flush()\n",
    "    sch.step()"
   ]
  },
  {
   "cell_type": "code",
   "execution_count": 11,
   "metadata": {},
   "outputs": [
    {
     "data": {
      "image/png": "[encoded data removed]",
      "text/plain": [
       "<Figure size 1008x216 with 1 Axes>"
      ]
     },
     "metadata": {},
     "output_type": "display_data"
    }
   ],
   "source": [
    "plt.figure(figsize=(14, 3))\n",
    "plt.plot(sorted(sqerr)); plt.ylim(0, 5)\n",
    "plt.show(); plt.close()"
   ]
  },
  {
   "cell_type": "code",
   "execution_count": 29,
   "metadata": {},
   "outputs": [
    {
     "name": "stdout",
     "output_type": "stream",
     "text": [
      "Eval segments: 18\n",
      "Eval MSE: 0.1448\n"
     ]
    }
   ],
   "source": [
    "from utils import *\n",
    "viewset = SpotHistory(SROUTE, 'test', 18, lag=None, res=10, shuffle=False, verbose=False)\n",
    "mses = []\n",
    "\n",
    "sqerr = eval_lin(viewset, model, test_lag=LAG-1, fmax=10, plot=False)\n",
    "print('Eval segments:', len(viewset))\n",
    "print('Eval MSE: %.4f' % np.mean(sqerr))"
   ]
  },
  {
   "cell_type": "code",
   "execution_count": 32,
   "metadata": {},
   "outputs": [
    {
     "data": {
      "image/png": "[encoded data removed]",
      "text/plain": [
       "<Figure size 1008x360 with 1 Axes>"
      ]
     },
     "metadata": {},
     "output_type": "display_data"
    }
   ],
   "source": [
    "_ = eval_lin(viewset[:1], model, test_lag=LAG-1, fmax=10, plot=True)"
   ]
  },
  {
   "cell_type": "code",
   "execution_count": null,
   "metadata": {},
   "outputs": [],
   "source": []
  }
 ],
 "metadata": {
  "kernelspec": {
   "display_name": "Python 3",
   "language": "python",
   "name": "python3"
  },
  "language_info": {
   "codemirror_mode": {
    "name": "ipython",
    "version": 3
   },
   "file_extension": ".py",
   "mimetype": "text/x-python",
   "name": "python",
   "nbconvert_exporter": "python",
   "pygments_lexer": "ipython3",
   "version": "3.5.2"
  }
 },
 "nbformat": 4,
 "nbformat_minor": 2
}
