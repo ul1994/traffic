{
 "cells": [
  {
   "cell_type": "code",
   "execution_count": 1,
   "metadata": {},
   "outputs": [],
   "source": [
    "%matplotlib inline"
   ]
  },
  {
   "cell_type": "code",
   "execution_count": 2,
   "metadata": {},
   "outputs": [],
   "source": [
    "from glob import glob\n",
    "import numpy as np\n",
    "import matplotlib.pyplot as plt\n",
    "import cv2"
   ]
  },
  {
   "cell_type": "code",
   "execution_count": 3,
   "metadata": {},
   "outputs": [
    {
     "data": {
      "text/plain": [
       "40"
      ]
     },
     "execution_count": 3,
     "metadata": {},
     "output_type": "execute_result"
    }
   ],
   "source": [
    "sfiles = glob('../data/safe_stopcodes/*')\n",
    "len(sfiles)"
   ]
  },
  {
   "cell_type": "code",
   "execution_count": 13,
   "metadata": {},
   "outputs": [],
   "source": [
    "rnames = [fl[:-4].split('/')[-1].split('_')[0] for fl in sfiles]\n",
    "rnames = [nm[:-1] if 'D' in nm or 'A' in nm else nm for nm in rnames]"
   ]
  },
  {
   "cell_type": "code",
   "execution_count": 14,
   "metadata": {},
   "outputs": [],
   "source": [
    "rnames = sorted(rnames, key=lambda ent: int(ent[1:]))"
   ]
  },
  {
   "cell_type": "code",
   "execution_count": 18,
   "metadata": {
    "scrolled": true
   },
   "outputs": [
    {
     "name": "stdout",
     "output_type": "stream",
     "text": [
      "M2\n",
      "M2\n",
      "M3\n",
      "M3\n",
      "M4\n",
      "M7\n",
      "M8\n",
      "M8\n",
      "M9\n",
      "M10\n",
      "M10\n",
      "M11\n",
      "M11\n",
      "M14\n",
      "M14\n",
      "M20\n",
      "M21\n",
      "M21\n",
      "M22\n",
      "M31\n",
      "M35\n",
      "M50\n",
      "M50\n",
      "M57\n",
      "M66\n",
      "M66\n",
      "M96\n",
      "M98\n",
      "M98\n",
      "M100\n",
      "M100\n",
      "M101\n",
      "M102\n",
      "M103\n",
      "M104\n",
      "M104\n",
      "M106\n",
      "M106\n",
      "M116\n",
      "M116\n"
     ]
    }
   ],
   "source": [
    "unq = {}\n",
    "for nm in rnames:\n",
    "#     unq[nm] = True\n",
    "    print(nm)"
   ]
  },
  {
   "cell_type": "code",
   "execution_count": 4,
   "metadata": {},
   "outputs": [
    {
     "data": {
      "text/plain": [
       "27"
      ]
     },
     "execution_count": 4,
     "metadata": {},
     "output_type": "execute_result"
    }
   ],
   "source": [
    "polylogs = glob('../data/scraped/*.log')\n",
    "len(polylogs)"
   ]
  },
  {
   "cell_type": "code",
   "execution_count": 5,
   "metadata": {
    "scrolled": false
   },
   "outputs": [
    {
     "name": "stdout",
     "output_type": "stream",
     "text": [
      "NYCT_M2 666 19\n",
      "NYCT_M10 452 2\n",
      "NYCT_M11 610 8\n",
      "NYCT_M116 149 2\n",
      "NYCT_M103 571 4\n",
      "NYCT_M21 212 2\n",
      "NYCT_M9 414 2\n",
      "NYCT_M106 171 2\n",
      "NYCT_M57 175 4\n",
      "NYCT_M104 387 2\n",
      "NYCT_M101 971 61\n",
      "NYCT_M102 513 3\n",
      "NYCT_M7 512 2\n",
      "NYCT_M20 544 5\n",
      "NYCT_M14A 254 5\n",
      "NYCT_M31 241 4\n",
      "NYCT_M66 148 3\n",
      "NYCT_M1 631 35\n",
      "NYCT_M100 560 3\n",
      "NYCT_M50 151 2\n",
      "NYCT_M4 485 9\n",
      "NYCT_M98 481 2\n",
      "NYCT_M5 701 18\n",
      "NYCT_M96 159 3\n",
      "NYCT_M35 264 2\n",
      "NYCT_M8 135 2\n",
      "NYCT_M3 664 7\n"
     ]
    },
    {
     "data": {
      "image/png": "[encoded data removed]",
      "text/plain": [
       "<Figure size 576x576 with 1 Axes>"
      ]
     },
     "metadata": {},
     "output_type": "display_data"
    }
   ],
   "source": [
    "def brange(bat):\n",
    "    xs = []\n",
    "    ys = []\n",
    "    for group in bat:\n",
    "        for lat, lng in group:\n",
    "            xs.append(lat)\n",
    "            ys.append(lng)\n",
    "    x0 = np.min(xs)\n",
    "    y0 = np.min(ys)\n",
    "    \n",
    "    scale = max(np.max(xs) - np.min(xs), np.max(ys) - np.min(ys))\n",
    "    \n",
    "    return x0, y0, scale\n",
    "        \n",
    "all_polys = []\n",
    "for fname in polylogs:\n",
    "    with open(fname) as fl:\n",
    "        lines = fl.read().split('\\n')\n",
    "    \n",
    "    \n",
    "    polys = []\n",
    "#     bat = []\n",
    "    bat = None\n",
    "    route = None\n",
    "    for ii, ln in enumerate(lines):\n",
    "        if 'START' in ln:\n",
    "            bat = []\n",
    "            if route is None:\n",
    "                route = ln.split()[-1]\n",
    "            else:\n",
    "                # check no log files were concatenated\n",
    "                assert ln.split()[-1] == route\n",
    "        elif 'END' in ln:\n",
    "            polys.append(bat)\n",
    "            bat = None\n",
    "        elif bat is not None:\n",
    "            lat, lng = ln.split(':')[1].split()[1:]\n",
    "            bat.append((float(lat), float(lng)))\n",
    "    print(route, len(lines), len(polys))\n",
    "    all_polys.append(polys)\n",
    "#     print()\n",
    "\n",
    "def draw_polys(polys, res=256):\n",
    "    clrs = [\n",
    "        (255, 0, 0),\n",
    "        (0, 255, 125),\n",
    "        (0, 255, 255),\n",
    "    ]\n",
    "    x0, y0, scale = brange(polys)\n",
    "    canvas = np.zeros((res, res, 3)).astype(np.uint8)\n",
    "    canvas[:] = 50\n",
    "    for gi, group in enumerate(polys):\n",
    "#         print('  g', len(group))\n",
    "        pts = np.array(group) - [x0, y0]\n",
    "        pts /= scale\n",
    "        pts *= (res - 1)\n",
    "        pts = pts.reshape((len(pts),1,2)).astype(int)\n",
    "        cv2.polylines(canvas, [pts], False, clrs[gi % len(clrs)], res//256)\n",
    "    plt.figure(figsize=(8, 8))\n",
    "    plt.imshow(canvas)\n",
    "    plt.show()\n",
    "\n",
    "draw_polys(all_polys[0])"
   ]
  },
  {
   "cell_type": "code",
   "execution_count": 11,
   "metadata": {},
   "outputs": [
    {
     "data": {
      "text/plain": [
       "(10728, 2)"
      ]
     },
     "execution_count": 11,
     "metadata": {},
     "output_type": "execute_result"
    }
   ],
   "source": [
    "flat = []\n",
    "for polys in all_polys:\n",
    "    for group in polys:\n",
    "        for lat, lng in group:\n",
    "            flat.append([lat, lng])\n",
    "flat = np.array(flat)\n",
    "flat.shape"
   ]
  },
  {
   "cell_type": "code",
   "execution_count": 13,
   "metadata": {},
   "outputs": [
    {
     "data": {
      "text/plain": [
       "array([ 40.78175269, -73.96522605])"
      ]
     },
     "execution_count": 13,
     "metadata": {},
     "output_type": "execute_result"
    }
   ],
   "source": [
    "np.mean(flat, axis=0)"
   ]
  },
  {
   "cell_type": "code",
   "execution_count": 7,
   "metadata": {},
   "outputs": [],
   "source": [
    "bygroup = []\n",
    "for polys in all_polys:\n",
    "    for group in polys:\n",
    "        bygroup.append(group)\n",
    "    "
   ]
  },
  {
   "cell_type": "code",
   "execution_count": 8,
   "metadata": {},
   "outputs": [
    {
     "data": {
      "image/png": "[encoded data removed]",
      "text/plain": [
       "<Figure size 576x576 with 1 Axes>"
      ]
     },
     "metadata": {},
     "output_type": "display_data"
    }
   ],
   "source": [
    "draw_polys(bygroup, res=2048)"
   ]
  },
  {
   "cell_type": "code",
   "execution_count": null,
   "metadata": {},
   "outputs": [],
   "source": []
  }
 ],
 "metadata": {
  "kernelspec": {
   "display_name": "Python 3",
   "language": "python",
   "name": "python3"
  },
  "language_info": {
   "codemirror_mode": {
    "name": "ipython",
    "version": 3
   },
   "file_extension": ".py",
   "mimetype": "text/x-python",
   "name": "python",
   "nbconvert_exporter": "python",
   "pygments_lexer": "ipython3",
   "version": "3.5.2"
  }
 },
 "nbformat": 4,
 "nbformat_minor": 2
}
